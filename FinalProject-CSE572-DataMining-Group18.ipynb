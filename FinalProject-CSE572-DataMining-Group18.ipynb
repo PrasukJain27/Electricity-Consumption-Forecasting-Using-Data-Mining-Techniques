{
 "cells": [
  {
   "cell_type": "code",
   "execution_count": 2,
   "id": "fb804678",
   "metadata": {},
   "outputs": [],
   "source": [
    "import pandas as pd\n",
    "import matplotlib.pyplot as plt\n",
    "import matplotlib\n",
    "import sklearn\n",
    "from sklearn import metrics\n",
    "from sklearn.neighbors import KNeighborsRegressor\n",
    "from scipy.cluster.vq import kmeans, vq, whiten\n",
    "from scipy.spatial.distance import cdist\n",
    "import numpy as np\n",
    "from datetime import datetime\n",
    "from sklearn.ensemble import RandomForestRegressor\n",
    "import pandas as pd\n",
    "import numpy as np\n",
    "from sklearn.model_selection import train_test_split\n",
    "from tensorflow.keras.models import Sequential\n",
    "from tensorflow.keras.losses import MeanSquaredError\n",
    "from sklearn.preprocessing import MinMaxScaler\n",
    "from tensorflow.keras.layers import LSTM, Dense, Dropout\n",
    "\n",
    "from sklearn.linear_model import LogisticRegression\n",
    "from sklearn.svm import SVC, LinearSVC\n",
    "from sklearn.ensemble import RandomForestClassifier\n",
    "from sklearn.neighbors import KNeighborsClassifier\n",
    "from sklearn.naive_bayes import GaussianNB\n",
    "from sklearn.linear_model import Perceptron\n",
    "from sklearn.linear_model import SGDClassifier\n",
    "from sklearn.tree import DecisionTreeClassifier"
   ]
  },
  {
   "cell_type": "code",
   "execution_count": 3,
   "id": "76b38877",
   "metadata": {},
   "outputs": [],
   "source": [
    "metadata_path = \"D:\\Data's\\metadata.csv\"\n",
    "weather_path = \"D:\\Data's\\weather.csv\"\n",
    "energy_path = \"D:\\Data's\\electricity_cleaned.csv\"\n",
    "df = pd.read_csv(energy_path, index_col='timestamp', parse_dates=True)"
   ]
  },
  {
   "cell_type": "code",
   "execution_count": 4,
   "id": "1451d6c0",
   "metadata": {},
   "outputs": [
    {
     "name": "stdout",
     "output_type": "stream",
     "text": [
      "<class 'pandas.core.frame.DataFrame'>\n",
      "DatetimeIndex: 17544 entries, 2016-01-01 00:00:00 to 2017-12-31 23:00:00\n",
      "Columns: 1578 entries, Panther_parking_Lorriane to Mouse_science_Micheal\n",
      "dtypes: float64(1578)\n",
      "memory usage: 211.3 MB\n"
     ]
    }
   ],
   "source": [
    "df.info()"
   ]
  },
  {
   "cell_type": "code",
   "execution_count": 5,
   "id": "de0ba22f",
   "metadata": {},
   "outputs": [
    {
     "data": {
      "text/html": [
       "<div>\n",
       "<style scoped>\n",
       "    .dataframe tbody tr th:only-of-type {\n",
       "        vertical-align: middle;\n",
       "    }\n",
       "\n",
       "    .dataframe tbody tr th {\n",
       "        vertical-align: top;\n",
       "    }\n",
       "\n",
       "    .dataframe thead th {\n",
       "        text-align: right;\n",
       "    }\n",
       "</style>\n",
       "<table border=\"1\" class=\"dataframe\">\n",
       "  <thead>\n",
       "    <tr style=\"text-align: right;\">\n",
       "      <th></th>\n",
       "      <th>Panther_parking_Lorriane</th>\n",
       "      <th>Panther_lodging_Cora</th>\n",
       "      <th>Panther_office_Hannah</th>\n",
       "      <th>Panther_lodging_Hattie</th>\n",
       "      <th>Panther_education_Teofila</th>\n",
       "      <th>Panther_education_Jerome</th>\n",
       "      <th>Panther_retail_Felix</th>\n",
       "      <th>Panther_parking_Asia</th>\n",
       "      <th>Panther_education_Misty</th>\n",
       "      <th>Panther_retail_Gilbert</th>\n",
       "      <th>...</th>\n",
       "      <th>Cockatoo_public_Caleb</th>\n",
       "      <th>Cockatoo_education_Tyler</th>\n",
       "      <th>Cockatoo_public_Shad</th>\n",
       "      <th>Mouse_health_Buddy</th>\n",
       "      <th>Mouse_health_Modesto</th>\n",
       "      <th>Mouse_lodging_Vicente</th>\n",
       "      <th>Mouse_health_Justin</th>\n",
       "      <th>Mouse_health_Ileana</th>\n",
       "      <th>Mouse_health_Estela</th>\n",
       "      <th>Mouse_science_Micheal</th>\n",
       "    </tr>\n",
       "    <tr>\n",
       "      <th>timestamp</th>\n",
       "      <th></th>\n",
       "      <th></th>\n",
       "      <th></th>\n",
       "      <th></th>\n",
       "      <th></th>\n",
       "      <th></th>\n",
       "      <th></th>\n",
       "      <th></th>\n",
       "      <th></th>\n",
       "      <th></th>\n",
       "      <th></th>\n",
       "      <th></th>\n",
       "      <th></th>\n",
       "      <th></th>\n",
       "      <th></th>\n",
       "      <th></th>\n",
       "      <th></th>\n",
       "      <th></th>\n",
       "      <th></th>\n",
       "      <th></th>\n",
       "      <th></th>\n",
       "    </tr>\n",
       "  </thead>\n",
       "  <tbody>\n",
       "    <tr>\n",
       "      <th>2016-01-01 00:00:00</th>\n",
       "      <td>NaN</td>\n",
       "      <td>NaN</td>\n",
       "      <td>NaN</td>\n",
       "      <td>NaN</td>\n",
       "      <td>NaN</td>\n",
       "      <td>NaN</td>\n",
       "      <td>NaN</td>\n",
       "      <td>NaN</td>\n",
       "      <td>NaN</td>\n",
       "      <td>NaN</td>\n",
       "      <td>...</td>\n",
       "      <td>123.200</td>\n",
       "      <td>727.575</td>\n",
       "      <td>69.200</td>\n",
       "      <td>8.8224</td>\n",
       "      <td>370.0870</td>\n",
       "      <td>10.0</td>\n",
       "      <td>282.9965</td>\n",
       "      <td>26.0</td>\n",
       "      <td>135.0</td>\n",
       "      <td>168.2243</td>\n",
       "    </tr>\n",
       "    <tr>\n",
       "      <th>2016-01-01 01:00:00</th>\n",
       "      <td>NaN</td>\n",
       "      <td>NaN</td>\n",
       "      <td>NaN</td>\n",
       "      <td>NaN</td>\n",
       "      <td>NaN</td>\n",
       "      <td>NaN</td>\n",
       "      <td>NaN</td>\n",
       "      <td>NaN</td>\n",
       "      <td>NaN</td>\n",
       "      <td>NaN</td>\n",
       "      <td>...</td>\n",
       "      <td>126.475</td>\n",
       "      <td>731.200</td>\n",
       "      <td>66.275</td>\n",
       "      <td>17.6449</td>\n",
       "      <td>737.8260</td>\n",
       "      <td>30.0</td>\n",
       "      <td>574.9265</td>\n",
       "      <td>51.0</td>\n",
       "      <td>265.0</td>\n",
       "      <td>336.4486</td>\n",
       "    </tr>\n",
       "    <tr>\n",
       "      <th>2016-01-01 02:00:00</th>\n",
       "      <td>NaN</td>\n",
       "      <td>NaN</td>\n",
       "      <td>NaN</td>\n",
       "      <td>NaN</td>\n",
       "      <td>NaN</td>\n",
       "      <td>NaN</td>\n",
       "      <td>NaN</td>\n",
       "      <td>NaN</td>\n",
       "      <td>NaN</td>\n",
       "      <td>NaN</td>\n",
       "      <td>...</td>\n",
       "      <td>127.825</td>\n",
       "      <td>724.675</td>\n",
       "      <td>64.675</td>\n",
       "      <td>17.6449</td>\n",
       "      <td>729.9255</td>\n",
       "      <td>30.0</td>\n",
       "      <td>570.2780</td>\n",
       "      <td>50.0</td>\n",
       "      <td>272.0</td>\n",
       "      <td>336.4486</td>\n",
       "    </tr>\n",
       "    <tr>\n",
       "      <th>2016-01-01 03:00:00</th>\n",
       "      <td>NaN</td>\n",
       "      <td>NaN</td>\n",
       "      <td>NaN</td>\n",
       "      <td>NaN</td>\n",
       "      <td>NaN</td>\n",
       "      <td>NaN</td>\n",
       "      <td>NaN</td>\n",
       "      <td>NaN</td>\n",
       "      <td>NaN</td>\n",
       "      <td>NaN</td>\n",
       "      <td>...</td>\n",
       "      <td>130.475</td>\n",
       "      <td>737.375</td>\n",
       "      <td>65.875</td>\n",
       "      <td>17.6449</td>\n",
       "      <td>722.2620</td>\n",
       "      <td>20.0</td>\n",
       "      <td>561.1470</td>\n",
       "      <td>52.0</td>\n",
       "      <td>276.0</td>\n",
       "      <td>336.4486</td>\n",
       "    </tr>\n",
       "    <tr>\n",
       "      <th>2016-01-01 04:00:00</th>\n",
       "      <td>NaN</td>\n",
       "      <td>NaN</td>\n",
       "      <td>NaN</td>\n",
       "      <td>NaN</td>\n",
       "      <td>NaN</td>\n",
       "      <td>NaN</td>\n",
       "      <td>NaN</td>\n",
       "      <td>NaN</td>\n",
       "      <td>NaN</td>\n",
       "      <td>NaN</td>\n",
       "      <td>...</td>\n",
       "      <td>129.675</td>\n",
       "      <td>721.150</td>\n",
       "      <td>66.275</td>\n",
       "      <td>17.6449</td>\n",
       "      <td>719.1665</td>\n",
       "      <td>30.0</td>\n",
       "      <td>564.3695</td>\n",
       "      <td>50.0</td>\n",
       "      <td>280.0</td>\n",
       "      <td>336.4486</td>\n",
       "    </tr>\n",
       "  </tbody>\n",
       "</table>\n",
       "<p>5 rows × 1578 columns</p>\n",
       "</div>"
      ],
      "text/plain": [
       "                     Panther_parking_Lorriane  Panther_lodging_Cora  \\\n",
       "timestamp                                                             \n",
       "2016-01-01 00:00:00                       NaN                   NaN   \n",
       "2016-01-01 01:00:00                       NaN                   NaN   \n",
       "2016-01-01 02:00:00                       NaN                   NaN   \n",
       "2016-01-01 03:00:00                       NaN                   NaN   \n",
       "2016-01-01 04:00:00                       NaN                   NaN   \n",
       "\n",
       "                     Panther_office_Hannah  Panther_lodging_Hattie  \\\n",
       "timestamp                                                            \n",
       "2016-01-01 00:00:00                    NaN                     NaN   \n",
       "2016-01-01 01:00:00                    NaN                     NaN   \n",
       "2016-01-01 02:00:00                    NaN                     NaN   \n",
       "2016-01-01 03:00:00                    NaN                     NaN   \n",
       "2016-01-01 04:00:00                    NaN                     NaN   \n",
       "\n",
       "                     Panther_education_Teofila  Panther_education_Jerome  \\\n",
       "timestamp                                                                  \n",
       "2016-01-01 00:00:00                        NaN                       NaN   \n",
       "2016-01-01 01:00:00                        NaN                       NaN   \n",
       "2016-01-01 02:00:00                        NaN                       NaN   \n",
       "2016-01-01 03:00:00                        NaN                       NaN   \n",
       "2016-01-01 04:00:00                        NaN                       NaN   \n",
       "\n",
       "                     Panther_retail_Felix  Panther_parking_Asia  \\\n",
       "timestamp                                                         \n",
       "2016-01-01 00:00:00                   NaN                   NaN   \n",
       "2016-01-01 01:00:00                   NaN                   NaN   \n",
       "2016-01-01 02:00:00                   NaN                   NaN   \n",
       "2016-01-01 03:00:00                   NaN                   NaN   \n",
       "2016-01-01 04:00:00                   NaN                   NaN   \n",
       "\n",
       "                     Panther_education_Misty  Panther_retail_Gilbert  ...  \\\n",
       "timestamp                                                             ...   \n",
       "2016-01-01 00:00:00                      NaN                     NaN  ...   \n",
       "2016-01-01 01:00:00                      NaN                     NaN  ...   \n",
       "2016-01-01 02:00:00                      NaN                     NaN  ...   \n",
       "2016-01-01 03:00:00                      NaN                     NaN  ...   \n",
       "2016-01-01 04:00:00                      NaN                     NaN  ...   \n",
       "\n",
       "                     Cockatoo_public_Caleb  Cockatoo_education_Tyler  \\\n",
       "timestamp                                                              \n",
       "2016-01-01 00:00:00                123.200                   727.575   \n",
       "2016-01-01 01:00:00                126.475                   731.200   \n",
       "2016-01-01 02:00:00                127.825                   724.675   \n",
       "2016-01-01 03:00:00                130.475                   737.375   \n",
       "2016-01-01 04:00:00                129.675                   721.150   \n",
       "\n",
       "                     Cockatoo_public_Shad  Mouse_health_Buddy  \\\n",
       "timestamp                                                       \n",
       "2016-01-01 00:00:00                69.200              8.8224   \n",
       "2016-01-01 01:00:00                66.275             17.6449   \n",
       "2016-01-01 02:00:00                64.675             17.6449   \n",
       "2016-01-01 03:00:00                65.875             17.6449   \n",
       "2016-01-01 04:00:00                66.275             17.6449   \n",
       "\n",
       "                     Mouse_health_Modesto  Mouse_lodging_Vicente  \\\n",
       "timestamp                                                          \n",
       "2016-01-01 00:00:00              370.0870                   10.0   \n",
       "2016-01-01 01:00:00              737.8260                   30.0   \n",
       "2016-01-01 02:00:00              729.9255                   30.0   \n",
       "2016-01-01 03:00:00              722.2620                   20.0   \n",
       "2016-01-01 04:00:00              719.1665                   30.0   \n",
       "\n",
       "                     Mouse_health_Justin  Mouse_health_Ileana  \\\n",
       "timestamp                                                       \n",
       "2016-01-01 00:00:00             282.9965                 26.0   \n",
       "2016-01-01 01:00:00             574.9265                 51.0   \n",
       "2016-01-01 02:00:00             570.2780                 50.0   \n",
       "2016-01-01 03:00:00             561.1470                 52.0   \n",
       "2016-01-01 04:00:00             564.3695                 50.0   \n",
       "\n",
       "                     Mouse_health_Estela  Mouse_science_Micheal  \n",
       "timestamp                                                        \n",
       "2016-01-01 00:00:00                135.0               168.2243  \n",
       "2016-01-01 01:00:00                265.0               336.4486  \n",
       "2016-01-01 02:00:00                272.0               336.4486  \n",
       "2016-01-01 03:00:00                276.0               336.4486  \n",
       "2016-01-01 04:00:00                280.0               336.4486  \n",
       "\n",
       "[5 rows x 1578 columns]"
      ]
     },
     "execution_count": 5,
     "metadata": {},
     "output_type": "execute_result"
    }
   ],
   "source": [
    "df.head()"
   ]
  },
  {
   "cell_type": "code",
   "execution_count": 6,
   "id": "5712bc3c",
   "metadata": {},
   "outputs": [],
   "source": [
    "#building_name = 'Panther_office_Lois'\n",
    "building_name ='Panther_office_Catherine'"
   ]
  },
  {
   "cell_type": "code",
   "execution_count": 7,
   "id": "5032884f",
   "metadata": {},
   "outputs": [
    {
     "data": {
      "text/html": [
       "<div>\n",
       "<style scoped>\n",
       "    .dataframe tbody tr th:only-of-type {\n",
       "        vertical-align: middle;\n",
       "    }\n",
       "\n",
       "    .dataframe tbody tr th {\n",
       "        vertical-align: top;\n",
       "    }\n",
       "\n",
       "    .dataframe thead th {\n",
       "        text-align: right;\n",
       "    }\n",
       "</style>\n",
       "<table border=\"1\" class=\"dataframe\">\n",
       "  <thead>\n",
       "    <tr style=\"text-align: right;\">\n",
       "      <th></th>\n",
       "      <th>Panther_parking_Lorriane</th>\n",
       "      <th>Panther_lodging_Cora</th>\n",
       "      <th>Panther_office_Hannah</th>\n",
       "      <th>Panther_lodging_Hattie</th>\n",
       "      <th>Panther_education_Teofila</th>\n",
       "      <th>Panther_education_Jerome</th>\n",
       "      <th>Panther_retail_Felix</th>\n",
       "      <th>Panther_parking_Asia</th>\n",
       "      <th>Panther_education_Misty</th>\n",
       "      <th>Panther_retail_Gilbert</th>\n",
       "      <th>...</th>\n",
       "      <th>Cockatoo_public_Caleb</th>\n",
       "      <th>Cockatoo_education_Tyler</th>\n",
       "      <th>Cockatoo_public_Shad</th>\n",
       "      <th>Mouse_health_Buddy</th>\n",
       "      <th>Mouse_health_Modesto</th>\n",
       "      <th>Mouse_lodging_Vicente</th>\n",
       "      <th>Mouse_health_Justin</th>\n",
       "      <th>Mouse_health_Ileana</th>\n",
       "      <th>Mouse_health_Estela</th>\n",
       "      <th>Mouse_science_Micheal</th>\n",
       "    </tr>\n",
       "    <tr>\n",
       "      <th>timestamp</th>\n",
       "      <th></th>\n",
       "      <th></th>\n",
       "      <th></th>\n",
       "      <th></th>\n",
       "      <th></th>\n",
       "      <th></th>\n",
       "      <th></th>\n",
       "      <th></th>\n",
       "      <th></th>\n",
       "      <th></th>\n",
       "      <th></th>\n",
       "      <th></th>\n",
       "      <th></th>\n",
       "      <th></th>\n",
       "      <th></th>\n",
       "      <th></th>\n",
       "      <th></th>\n",
       "      <th></th>\n",
       "      <th></th>\n",
       "      <th></th>\n",
       "      <th></th>\n",
       "    </tr>\n",
       "  </thead>\n",
       "  <tbody>\n",
       "    <tr>\n",
       "      <th>2016-01-01 00:00:00</th>\n",
       "      <td>NaN</td>\n",
       "      <td>NaN</td>\n",
       "      <td>NaN</td>\n",
       "      <td>NaN</td>\n",
       "      <td>NaN</td>\n",
       "      <td>NaN</td>\n",
       "      <td>NaN</td>\n",
       "      <td>NaN</td>\n",
       "      <td>NaN</td>\n",
       "      <td>NaN</td>\n",
       "      <td>...</td>\n",
       "      <td>123.200</td>\n",
       "      <td>727.575</td>\n",
       "      <td>69.200</td>\n",
       "      <td>8.8224</td>\n",
       "      <td>370.0870</td>\n",
       "      <td>10.0</td>\n",
       "      <td>282.9965</td>\n",
       "      <td>26.0</td>\n",
       "      <td>135.0</td>\n",
       "      <td>168.2243</td>\n",
       "    </tr>\n",
       "    <tr>\n",
       "      <th>2016-01-01 01:00:00</th>\n",
       "      <td>NaN</td>\n",
       "      <td>NaN</td>\n",
       "      <td>NaN</td>\n",
       "      <td>NaN</td>\n",
       "      <td>NaN</td>\n",
       "      <td>NaN</td>\n",
       "      <td>NaN</td>\n",
       "      <td>NaN</td>\n",
       "      <td>NaN</td>\n",
       "      <td>NaN</td>\n",
       "      <td>...</td>\n",
       "      <td>126.475</td>\n",
       "      <td>731.200</td>\n",
       "      <td>66.275</td>\n",
       "      <td>17.6449</td>\n",
       "      <td>737.8260</td>\n",
       "      <td>30.0</td>\n",
       "      <td>574.9265</td>\n",
       "      <td>51.0</td>\n",
       "      <td>265.0</td>\n",
       "      <td>336.4486</td>\n",
       "    </tr>\n",
       "    <tr>\n",
       "      <th>2016-01-01 02:00:00</th>\n",
       "      <td>NaN</td>\n",
       "      <td>NaN</td>\n",
       "      <td>NaN</td>\n",
       "      <td>NaN</td>\n",
       "      <td>NaN</td>\n",
       "      <td>NaN</td>\n",
       "      <td>NaN</td>\n",
       "      <td>NaN</td>\n",
       "      <td>NaN</td>\n",
       "      <td>NaN</td>\n",
       "      <td>...</td>\n",
       "      <td>127.825</td>\n",
       "      <td>724.675</td>\n",
       "      <td>64.675</td>\n",
       "      <td>17.6449</td>\n",
       "      <td>729.9255</td>\n",
       "      <td>30.0</td>\n",
       "      <td>570.2780</td>\n",
       "      <td>50.0</td>\n",
       "      <td>272.0</td>\n",
       "      <td>336.4486</td>\n",
       "    </tr>\n",
       "    <tr>\n",
       "      <th>2016-01-01 03:00:00</th>\n",
       "      <td>NaN</td>\n",
       "      <td>NaN</td>\n",
       "      <td>NaN</td>\n",
       "      <td>NaN</td>\n",
       "      <td>NaN</td>\n",
       "      <td>NaN</td>\n",
       "      <td>NaN</td>\n",
       "      <td>NaN</td>\n",
       "      <td>NaN</td>\n",
       "      <td>NaN</td>\n",
       "      <td>...</td>\n",
       "      <td>130.475</td>\n",
       "      <td>737.375</td>\n",
       "      <td>65.875</td>\n",
       "      <td>17.6449</td>\n",
       "      <td>722.2620</td>\n",
       "      <td>20.0</td>\n",
       "      <td>561.1470</td>\n",
       "      <td>52.0</td>\n",
       "      <td>276.0</td>\n",
       "      <td>336.4486</td>\n",
       "    </tr>\n",
       "    <tr>\n",
       "      <th>2016-01-01 04:00:00</th>\n",
       "      <td>NaN</td>\n",
       "      <td>NaN</td>\n",
       "      <td>NaN</td>\n",
       "      <td>NaN</td>\n",
       "      <td>NaN</td>\n",
       "      <td>NaN</td>\n",
       "      <td>NaN</td>\n",
       "      <td>NaN</td>\n",
       "      <td>NaN</td>\n",
       "      <td>NaN</td>\n",
       "      <td>...</td>\n",
       "      <td>129.675</td>\n",
       "      <td>721.150</td>\n",
       "      <td>66.275</td>\n",
       "      <td>17.6449</td>\n",
       "      <td>719.1665</td>\n",
       "      <td>30.0</td>\n",
       "      <td>564.3695</td>\n",
       "      <td>50.0</td>\n",
       "      <td>280.0</td>\n",
       "      <td>336.4486</td>\n",
       "    </tr>\n",
       "    <tr>\n",
       "      <th>...</th>\n",
       "      <td>...</td>\n",
       "      <td>...</td>\n",
       "      <td>...</td>\n",
       "      <td>...</td>\n",
       "      <td>...</td>\n",
       "      <td>...</td>\n",
       "      <td>...</td>\n",
       "      <td>...</td>\n",
       "      <td>...</td>\n",
       "      <td>...</td>\n",
       "      <td>...</td>\n",
       "      <td>...</td>\n",
       "      <td>...</td>\n",
       "      <td>...</td>\n",
       "      <td>...</td>\n",
       "      <td>...</td>\n",
       "      <td>...</td>\n",
       "      <td>...</td>\n",
       "      <td>...</td>\n",
       "      <td>...</td>\n",
       "      <td>...</td>\n",
       "    </tr>\n",
       "    <tr>\n",
       "      <th>2017-12-31 19:00:00</th>\n",
       "      <td>15.4830</td>\n",
       "      <td>135.2261</td>\n",
       "      <td>3.4357</td>\n",
       "      <td>79.1353</td>\n",
       "      <td>105.6374</td>\n",
       "      <td>465.0898</td>\n",
       "      <td>67.0199</td>\n",
       "      <td>35.7069</td>\n",
       "      <td>16.3231</td>\n",
       "      <td>0.6401</td>\n",
       "      <td>...</td>\n",
       "      <td>96.925</td>\n",
       "      <td>704.950</td>\n",
       "      <td>111.350</td>\n",
       "      <td>NaN</td>\n",
       "      <td>NaN</td>\n",
       "      <td>NaN</td>\n",
       "      <td>NaN</td>\n",
       "      <td>NaN</td>\n",
       "      <td>NaN</td>\n",
       "      <td>NaN</td>\n",
       "    </tr>\n",
       "    <tr>\n",
       "      <th>2017-12-31 20:00:00</th>\n",
       "      <td>12.7224</td>\n",
       "      <td>135.9262</td>\n",
       "      <td>3.4087</td>\n",
       "      <td>81.6958</td>\n",
       "      <td>107.7348</td>\n",
       "      <td>463.6895</td>\n",
       "      <td>56.6869</td>\n",
       "      <td>35.7069</td>\n",
       "      <td>16.0831</td>\n",
       "      <td>0.7301</td>\n",
       "      <td>...</td>\n",
       "      <td>97.550</td>\n",
       "      <td>695.700</td>\n",
       "      <td>115.875</td>\n",
       "      <td>NaN</td>\n",
       "      <td>NaN</td>\n",
       "      <td>NaN</td>\n",
       "      <td>NaN</td>\n",
       "      <td>NaN</td>\n",
       "      <td>NaN</td>\n",
       "      <td>NaN</td>\n",
       "    </tr>\n",
       "    <tr>\n",
       "      <th>2017-12-31 21:00:00</th>\n",
       "      <td>11.2822</td>\n",
       "      <td>135.1761</td>\n",
       "      <td>3.3546</td>\n",
       "      <td>82.8160</td>\n",
       "      <td>106.1295</td>\n",
       "      <td>461.2890</td>\n",
       "      <td>55.0576</td>\n",
       "      <td>35.5068</td>\n",
       "      <td>16.1631</td>\n",
       "      <td>0.7201</td>\n",
       "      <td>...</td>\n",
       "      <td>93.825</td>\n",
       "      <td>687.325</td>\n",
       "      <td>111.650</td>\n",
       "      <td>NaN</td>\n",
       "      <td>NaN</td>\n",
       "      <td>NaN</td>\n",
       "      <td>NaN</td>\n",
       "      <td>NaN</td>\n",
       "      <td>NaN</td>\n",
       "      <td>NaN</td>\n",
       "    </tr>\n",
       "    <tr>\n",
       "      <th>2017-12-31 22:00:00</th>\n",
       "      <td>16.9233</td>\n",
       "      <td>137.6266</td>\n",
       "      <td>3.2876</td>\n",
       "      <td>82.3359</td>\n",
       "      <td>109.6282</td>\n",
       "      <td>460.5889</td>\n",
       "      <td>49.6776</td>\n",
       "      <td>35.7069</td>\n",
       "      <td>14.8829</td>\n",
       "      <td>0.7201</td>\n",
       "      <td>...</td>\n",
       "      <td>94.150</td>\n",
       "      <td>674.275</td>\n",
       "      <td>111.950</td>\n",
       "      <td>NaN</td>\n",
       "      <td>NaN</td>\n",
       "      <td>NaN</td>\n",
       "      <td>NaN</td>\n",
       "      <td>NaN</td>\n",
       "      <td>NaN</td>\n",
       "      <td>NaN</td>\n",
       "    </tr>\n",
       "    <tr>\n",
       "      <th>2017-12-31 23:00:00</th>\n",
       "      <td>11.8223</td>\n",
       "      <td>136.1263</td>\n",
       "      <td>3.3686</td>\n",
       "      <td>82.4959</td>\n",
       "      <td>103.7540</td>\n",
       "      <td>462.0892</td>\n",
       "      <td>42.6952</td>\n",
       "      <td>35.6069</td>\n",
       "      <td>16.0031</td>\n",
       "      <td>0.7201</td>\n",
       "      <td>...</td>\n",
       "      <td>96.325</td>\n",
       "      <td>677.400</td>\n",
       "      <td>113.250</td>\n",
       "      <td>NaN</td>\n",
       "      <td>NaN</td>\n",
       "      <td>NaN</td>\n",
       "      <td>NaN</td>\n",
       "      <td>NaN</td>\n",
       "      <td>NaN</td>\n",
       "      <td>NaN</td>\n",
       "    </tr>\n",
       "  </tbody>\n",
       "</table>\n",
       "<p>17544 rows × 1578 columns</p>\n",
       "</div>"
      ],
      "text/plain": [
       "                     Panther_parking_Lorriane  Panther_lodging_Cora  \\\n",
       "timestamp                                                             \n",
       "2016-01-01 00:00:00                       NaN                   NaN   \n",
       "2016-01-01 01:00:00                       NaN                   NaN   \n",
       "2016-01-01 02:00:00                       NaN                   NaN   \n",
       "2016-01-01 03:00:00                       NaN                   NaN   \n",
       "2016-01-01 04:00:00                       NaN                   NaN   \n",
       "...                                       ...                   ...   \n",
       "2017-12-31 19:00:00                   15.4830              135.2261   \n",
       "2017-12-31 20:00:00                   12.7224              135.9262   \n",
       "2017-12-31 21:00:00                   11.2822              135.1761   \n",
       "2017-12-31 22:00:00                   16.9233              137.6266   \n",
       "2017-12-31 23:00:00                   11.8223              136.1263   \n",
       "\n",
       "                     Panther_office_Hannah  Panther_lodging_Hattie  \\\n",
       "timestamp                                                            \n",
       "2016-01-01 00:00:00                    NaN                     NaN   \n",
       "2016-01-01 01:00:00                    NaN                     NaN   \n",
       "2016-01-01 02:00:00                    NaN                     NaN   \n",
       "2016-01-01 03:00:00                    NaN                     NaN   \n",
       "2016-01-01 04:00:00                    NaN                     NaN   \n",
       "...                                    ...                     ...   \n",
       "2017-12-31 19:00:00                 3.4357                 79.1353   \n",
       "2017-12-31 20:00:00                 3.4087                 81.6958   \n",
       "2017-12-31 21:00:00                 3.3546                 82.8160   \n",
       "2017-12-31 22:00:00                 3.2876                 82.3359   \n",
       "2017-12-31 23:00:00                 3.3686                 82.4959   \n",
       "\n",
       "                     Panther_education_Teofila  Panther_education_Jerome  \\\n",
       "timestamp                                                                  \n",
       "2016-01-01 00:00:00                        NaN                       NaN   \n",
       "2016-01-01 01:00:00                        NaN                       NaN   \n",
       "2016-01-01 02:00:00                        NaN                       NaN   \n",
       "2016-01-01 03:00:00                        NaN                       NaN   \n",
       "2016-01-01 04:00:00                        NaN                       NaN   \n",
       "...                                        ...                       ...   \n",
       "2017-12-31 19:00:00                   105.6374                  465.0898   \n",
       "2017-12-31 20:00:00                   107.7348                  463.6895   \n",
       "2017-12-31 21:00:00                   106.1295                  461.2890   \n",
       "2017-12-31 22:00:00                   109.6282                  460.5889   \n",
       "2017-12-31 23:00:00                   103.7540                  462.0892   \n",
       "\n",
       "                     Panther_retail_Felix  Panther_parking_Asia  \\\n",
       "timestamp                                                         \n",
       "2016-01-01 00:00:00                   NaN                   NaN   \n",
       "2016-01-01 01:00:00                   NaN                   NaN   \n",
       "2016-01-01 02:00:00                   NaN                   NaN   \n",
       "2016-01-01 03:00:00                   NaN                   NaN   \n",
       "2016-01-01 04:00:00                   NaN                   NaN   \n",
       "...                                   ...                   ...   \n",
       "2017-12-31 19:00:00               67.0199               35.7069   \n",
       "2017-12-31 20:00:00               56.6869               35.7069   \n",
       "2017-12-31 21:00:00               55.0576               35.5068   \n",
       "2017-12-31 22:00:00               49.6776               35.7069   \n",
       "2017-12-31 23:00:00               42.6952               35.6069   \n",
       "\n",
       "                     Panther_education_Misty  Panther_retail_Gilbert  ...  \\\n",
       "timestamp                                                             ...   \n",
       "2016-01-01 00:00:00                      NaN                     NaN  ...   \n",
       "2016-01-01 01:00:00                      NaN                     NaN  ...   \n",
       "2016-01-01 02:00:00                      NaN                     NaN  ...   \n",
       "2016-01-01 03:00:00                      NaN                     NaN  ...   \n",
       "2016-01-01 04:00:00                      NaN                     NaN  ...   \n",
       "...                                      ...                     ...  ...   \n",
       "2017-12-31 19:00:00                  16.3231                  0.6401  ...   \n",
       "2017-12-31 20:00:00                  16.0831                  0.7301  ...   \n",
       "2017-12-31 21:00:00                  16.1631                  0.7201  ...   \n",
       "2017-12-31 22:00:00                  14.8829                  0.7201  ...   \n",
       "2017-12-31 23:00:00                  16.0031                  0.7201  ...   \n",
       "\n",
       "                     Cockatoo_public_Caleb  Cockatoo_education_Tyler  \\\n",
       "timestamp                                                              \n",
       "2016-01-01 00:00:00                123.200                   727.575   \n",
       "2016-01-01 01:00:00                126.475                   731.200   \n",
       "2016-01-01 02:00:00                127.825                   724.675   \n",
       "2016-01-01 03:00:00                130.475                   737.375   \n",
       "2016-01-01 04:00:00                129.675                   721.150   \n",
       "...                                    ...                       ...   \n",
       "2017-12-31 19:00:00                 96.925                   704.950   \n",
       "2017-12-31 20:00:00                 97.550                   695.700   \n",
       "2017-12-31 21:00:00                 93.825                   687.325   \n",
       "2017-12-31 22:00:00                 94.150                   674.275   \n",
       "2017-12-31 23:00:00                 96.325                   677.400   \n",
       "\n",
       "                     Cockatoo_public_Shad  Mouse_health_Buddy  \\\n",
       "timestamp                                                       \n",
       "2016-01-01 00:00:00                69.200              8.8224   \n",
       "2016-01-01 01:00:00                66.275             17.6449   \n",
       "2016-01-01 02:00:00                64.675             17.6449   \n",
       "2016-01-01 03:00:00                65.875             17.6449   \n",
       "2016-01-01 04:00:00                66.275             17.6449   \n",
       "...                                   ...                 ...   \n",
       "2017-12-31 19:00:00               111.350                 NaN   \n",
       "2017-12-31 20:00:00               115.875                 NaN   \n",
       "2017-12-31 21:00:00               111.650                 NaN   \n",
       "2017-12-31 22:00:00               111.950                 NaN   \n",
       "2017-12-31 23:00:00               113.250                 NaN   \n",
       "\n",
       "                     Mouse_health_Modesto  Mouse_lodging_Vicente  \\\n",
       "timestamp                                                          \n",
       "2016-01-01 00:00:00              370.0870                   10.0   \n",
       "2016-01-01 01:00:00              737.8260                   30.0   \n",
       "2016-01-01 02:00:00              729.9255                   30.0   \n",
       "2016-01-01 03:00:00              722.2620                   20.0   \n",
       "2016-01-01 04:00:00              719.1665                   30.0   \n",
       "...                                   ...                    ...   \n",
       "2017-12-31 19:00:00                   NaN                    NaN   \n",
       "2017-12-31 20:00:00                   NaN                    NaN   \n",
       "2017-12-31 21:00:00                   NaN                    NaN   \n",
       "2017-12-31 22:00:00                   NaN                    NaN   \n",
       "2017-12-31 23:00:00                   NaN                    NaN   \n",
       "\n",
       "                     Mouse_health_Justin  Mouse_health_Ileana  \\\n",
       "timestamp                                                       \n",
       "2016-01-01 00:00:00             282.9965                 26.0   \n",
       "2016-01-01 01:00:00             574.9265                 51.0   \n",
       "2016-01-01 02:00:00             570.2780                 50.0   \n",
       "2016-01-01 03:00:00             561.1470                 52.0   \n",
       "2016-01-01 04:00:00             564.3695                 50.0   \n",
       "...                                  ...                  ...   \n",
       "2017-12-31 19:00:00                  NaN                  NaN   \n",
       "2017-12-31 20:00:00                  NaN                  NaN   \n",
       "2017-12-31 21:00:00                  NaN                  NaN   \n",
       "2017-12-31 22:00:00                  NaN                  NaN   \n",
       "2017-12-31 23:00:00                  NaN                  NaN   \n",
       "\n",
       "                     Mouse_health_Estela  Mouse_science_Micheal  \n",
       "timestamp                                                        \n",
       "2016-01-01 00:00:00                135.0               168.2243  \n",
       "2016-01-01 01:00:00                265.0               336.4486  \n",
       "2016-01-01 02:00:00                272.0               336.4486  \n",
       "2016-01-01 03:00:00                276.0               336.4486  \n",
       "2016-01-01 04:00:00                280.0               336.4486  \n",
       "...                                  ...                    ...  \n",
       "2017-12-31 19:00:00                  NaN                    NaN  \n",
       "2017-12-31 20:00:00                  NaN                    NaN  \n",
       "2017-12-31 21:00:00                  NaN                    NaN  \n",
       "2017-12-31 22:00:00                  NaN                    NaN  \n",
       "2017-12-31 23:00:00                  NaN                    NaN  \n",
       "\n",
       "[17544 rows x 1578 columns]"
      ]
     },
     "execution_count": 7,
     "metadata": {},
     "output_type": "execute_result"
    }
   ],
   "source": [
    "df"
   ]
  },
  {
   "cell_type": "code",
   "execution_count": 8,
   "id": "dc11b1c1",
   "metadata": {},
   "outputs": [
    {
     "data": {
      "text/html": [
       "<div>\n",
       "<style scoped>\n",
       "    .dataframe tbody tr th:only-of-type {\n",
       "        vertical-align: middle;\n",
       "    }\n",
       "\n",
       "    .dataframe tbody tr th {\n",
       "        vertical-align: top;\n",
       "    }\n",
       "\n",
       "    .dataframe thead th {\n",
       "        text-align: right;\n",
       "    }\n",
       "</style>\n",
       "<table border=\"1\" class=\"dataframe\">\n",
       "  <thead>\n",
       "    <tr style=\"text-align: right;\">\n",
       "      <th></th>\n",
       "      <th>Panther_office_Catherine</th>\n",
       "    </tr>\n",
       "    <tr>\n",
       "      <th>timestamp</th>\n",
       "      <th></th>\n",
       "    </tr>\n",
       "  </thead>\n",
       "  <tbody>\n",
       "    <tr>\n",
       "      <th>2017-01-01 00:00:00</th>\n",
       "      <td>17.6434</td>\n",
       "    </tr>\n",
       "    <tr>\n",
       "      <th>2017-01-01 01:00:00</th>\n",
       "      <td>18.3635</td>\n",
       "    </tr>\n",
       "    <tr>\n",
       "      <th>2017-01-01 02:00:00</th>\n",
       "      <td>17.8435</td>\n",
       "    </tr>\n",
       "    <tr>\n",
       "      <th>2017-01-01 03:00:00</th>\n",
       "      <td>18.6836</td>\n",
       "    </tr>\n",
       "    <tr>\n",
       "      <th>2017-01-01 04:00:00</th>\n",
       "      <td>17.6834</td>\n",
       "    </tr>\n",
       "    <tr>\n",
       "      <th>...</th>\n",
       "      <td>...</td>\n",
       "    </tr>\n",
       "    <tr>\n",
       "      <th>2017-12-31 19:00:00</th>\n",
       "      <td>71.0937</td>\n",
       "    </tr>\n",
       "    <tr>\n",
       "      <th>2017-12-31 20:00:00</th>\n",
       "      <td>74.0543</td>\n",
       "    </tr>\n",
       "    <tr>\n",
       "      <th>2017-12-31 21:00:00</th>\n",
       "      <td>64.2524</td>\n",
       "    </tr>\n",
       "    <tr>\n",
       "      <th>2017-12-31 22:00:00</th>\n",
       "      <td>58.7713</td>\n",
       "    </tr>\n",
       "    <tr>\n",
       "      <th>2017-12-31 23:00:00</th>\n",
       "      <td>28.6855</td>\n",
       "    </tr>\n",
       "  </tbody>\n",
       "</table>\n",
       "<p>8760 rows × 1 columns</p>\n",
       "</div>"
      ],
      "text/plain": [
       "                     Panther_office_Catherine\n",
       "timestamp                                    \n",
       "2017-01-01 00:00:00                   17.6434\n",
       "2017-01-01 01:00:00                   18.3635\n",
       "2017-01-01 02:00:00                   17.8435\n",
       "2017-01-01 03:00:00                   18.6836\n",
       "2017-01-01 04:00:00                   17.6834\n",
       "...                                       ...\n",
       "2017-12-31 19:00:00                   71.0937\n",
       "2017-12-31 20:00:00                   74.0543\n",
       "2017-12-31 21:00:00                   64.2524\n",
       "2017-12-31 22:00:00                   58.7713\n",
       "2017-12-31 23:00:00                   28.6855\n",
       "\n",
       "[8760 rows x 1 columns]"
      ]
     },
     "execution_count": 8,
     "metadata": {},
     "output_type": "execute_result"
    }
   ],
   "source": [
    "office_data = pd.DataFrame(df[building_name].truncate(before='2017-01-01'))\n",
    "office_data.interpolate(method='nearest')"
   ]
  },
  {
   "cell_type": "code",
   "execution_count": 9,
   "id": "57ae870b",
   "metadata": {},
   "outputs": [
    {
     "name": "stdout",
     "output_type": "stream",
     "text": [
      "<class 'pandas.core.frame.DataFrame'>\n",
      "DatetimeIndex: 8760 entries, 2017-01-01 00:00:00 to 2017-12-31 23:00:00\n",
      "Data columns (total 1 columns):\n",
      " #   Column                    Non-Null Count  Dtype  \n",
      "---  ------                    --------------  -----  \n",
      " 0   Panther_office_Catherine  8748 non-null   float64\n",
      "dtypes: float64(1)\n",
      "memory usage: 136.9 KB\n"
     ]
    }
   ],
   "source": [
    "office_data.info()"
   ]
  },
  {
   "cell_type": "code",
   "execution_count": 10,
   "id": "49377e39",
   "metadata": {},
   "outputs": [
    {
     "data": {
      "text/html": [
       "<div>\n",
       "<style scoped>\n",
       "    .dataframe tbody tr th:only-of-type {\n",
       "        vertical-align: middle;\n",
       "    }\n",
       "\n",
       "    .dataframe tbody tr th {\n",
       "        vertical-align: top;\n",
       "    }\n",
       "\n",
       "    .dataframe thead th {\n",
       "        text-align: right;\n",
       "    }\n",
       "</style>\n",
       "<table border=\"1\" class=\"dataframe\">\n",
       "  <thead>\n",
       "    <tr style=\"text-align: right;\">\n",
       "      <th></th>\n",
       "      <th>Panther_office_Catherine</th>\n",
       "    </tr>\n",
       "    <tr>\n",
       "      <th>timestamp</th>\n",
       "      <th></th>\n",
       "    </tr>\n",
       "  </thead>\n",
       "  <tbody>\n",
       "    <tr>\n",
       "      <th>2017-01-01 00:00:00</th>\n",
       "      <td>17.6434</td>\n",
       "    </tr>\n",
       "    <tr>\n",
       "      <th>2017-01-01 01:00:00</th>\n",
       "      <td>18.3635</td>\n",
       "    </tr>\n",
       "    <tr>\n",
       "      <th>2017-01-01 02:00:00</th>\n",
       "      <td>17.8435</td>\n",
       "    </tr>\n",
       "    <tr>\n",
       "      <th>2017-01-01 03:00:00</th>\n",
       "      <td>18.6836</td>\n",
       "    </tr>\n",
       "    <tr>\n",
       "      <th>2017-01-01 04:00:00</th>\n",
       "      <td>17.6834</td>\n",
       "    </tr>\n",
       "  </tbody>\n",
       "</table>\n",
       "</div>"
      ],
      "text/plain": [
       "                     Panther_office_Catherine\n",
       "timestamp                                    \n",
       "2017-01-01 00:00:00                   17.6434\n",
       "2017-01-01 01:00:00                   18.3635\n",
       "2017-01-01 02:00:00                   17.8435\n",
       "2017-01-01 03:00:00                   18.6836\n",
       "2017-01-01 04:00:00                   17.6834"
      ]
     },
     "execution_count": 10,
     "metadata": {},
     "output_type": "execute_result"
    }
   ],
   "source": [
    "office_data.head()"
   ]
  },
  {
   "cell_type": "code",
   "execution_count": 11,
   "id": "48b8aaad",
   "metadata": {},
   "outputs": [
    {
     "data": {
      "text/plain": [
       "<Axes: xlabel='timestamp'>"
      ]
     },
     "execution_count": 11,
     "metadata": {},
     "output_type": "execute_result"
    },
    {
     "data": {
      "image/png": "[encoded data removed]",
      "text/plain": [
       "<Figure size 640x480 with 1 Axes>"
      ]
     },
     "metadata": {},
     "output_type": "display_data"
    }
   ],
   "source": [
    "office_data.plot()"
   ]
  },
  {
   "cell_type": "code",
   "execution_count": 12,
   "id": "84104189",
   "metadata": {},
   "outputs": [],
   "source": [
    "weather_data = pd.read_csv(weather_path, index_col='timestamp', parse_dates=True)"
   ]
  },
  {
   "cell_type": "code",
   "execution_count": 13,
   "id": "137f598e",
   "metadata": {},
   "outputs": [
    {
     "data": {
      "text/html": [
       "<div>\n",
       "<style scoped>\n",
       "    .dataframe tbody tr th:only-of-type {\n",
       "        vertical-align: middle;\n",
       "    }\n",
       "\n",
       "    .dataframe tbody tr th {\n",
       "        vertical-align: top;\n",
       "    }\n",
       "\n",
       "    .dataframe thead th {\n",
       "        text-align: right;\n",
       "    }\n",
       "</style>\n",
       "<table border=\"1\" class=\"dataframe\">\n",
       "  <thead>\n",
       "    <tr style=\"text-align: right;\">\n",
       "      <th></th>\n",
       "      <th>site_id</th>\n",
       "      <th>airTemperature</th>\n",
       "      <th>cloudCoverage</th>\n",
       "      <th>dewTemperature</th>\n",
       "      <th>precipDepth1HR</th>\n",
       "      <th>precipDepth6HR</th>\n",
       "      <th>seaLvlPressure</th>\n",
       "      <th>windDirection</th>\n",
       "      <th>windSpeed</th>\n",
       "    </tr>\n",
       "    <tr>\n",
       "      <th>timestamp</th>\n",
       "      <th></th>\n",
       "      <th></th>\n",
       "      <th></th>\n",
       "      <th></th>\n",
       "      <th></th>\n",
       "      <th></th>\n",
       "      <th></th>\n",
       "      <th></th>\n",
       "      <th></th>\n",
       "    </tr>\n",
       "  </thead>\n",
       "  <tbody>\n",
       "    <tr>\n",
       "      <th>2016-01-01 00:00:00</th>\n",
       "      <td>Panther</td>\n",
       "      <td>19.4</td>\n",
       "      <td>NaN</td>\n",
       "      <td>19.4</td>\n",
       "      <td>0.0</td>\n",
       "      <td>NaN</td>\n",
       "      <td>NaN</td>\n",
       "      <td>0.0</td>\n",
       "      <td>0.0</td>\n",
       "    </tr>\n",
       "    <tr>\n",
       "      <th>2016-01-01 01:00:00</th>\n",
       "      <td>Panther</td>\n",
       "      <td>21.1</td>\n",
       "      <td>6.0</td>\n",
       "      <td>21.1</td>\n",
       "      <td>-1.0</td>\n",
       "      <td>NaN</td>\n",
       "      <td>1019.4</td>\n",
       "      <td>0.0</td>\n",
       "      <td>0.0</td>\n",
       "    </tr>\n",
       "    <tr>\n",
       "      <th>2016-01-01 02:00:00</th>\n",
       "      <td>Panther</td>\n",
       "      <td>21.1</td>\n",
       "      <td>NaN</td>\n",
       "      <td>21.1</td>\n",
       "      <td>0.0</td>\n",
       "      <td>NaN</td>\n",
       "      <td>1018.8</td>\n",
       "      <td>210.0</td>\n",
       "      <td>1.5</td>\n",
       "    </tr>\n",
       "    <tr>\n",
       "      <th>2016-01-01 03:00:00</th>\n",
       "      <td>Panther</td>\n",
       "      <td>20.6</td>\n",
       "      <td>NaN</td>\n",
       "      <td>20.0</td>\n",
       "      <td>0.0</td>\n",
       "      <td>NaN</td>\n",
       "      <td>1018.1</td>\n",
       "      <td>0.0</td>\n",
       "      <td>0.0</td>\n",
       "    </tr>\n",
       "    <tr>\n",
       "      <th>2016-01-01 04:00:00</th>\n",
       "      <td>Panther</td>\n",
       "      <td>21.1</td>\n",
       "      <td>NaN</td>\n",
       "      <td>20.6</td>\n",
       "      <td>0.0</td>\n",
       "      <td>NaN</td>\n",
       "      <td>1019.0</td>\n",
       "      <td>290.0</td>\n",
       "      <td>1.5</td>\n",
       "    </tr>\n",
       "  </tbody>\n",
       "</table>\n",
       "</div>"
      ],
      "text/plain": [
       "                     site_id  airTemperature  cloudCoverage  dewTemperature  \\\n",
       "timestamp                                                                     \n",
       "2016-01-01 00:00:00  Panther            19.4            NaN            19.4   \n",
       "2016-01-01 01:00:00  Panther            21.1            6.0            21.1   \n",
       "2016-01-01 02:00:00  Panther            21.1            NaN            21.1   \n",
       "2016-01-01 03:00:00  Panther            20.6            NaN            20.0   \n",
       "2016-01-01 04:00:00  Panther            21.1            NaN            20.6   \n",
       "\n",
       "                     precipDepth1HR  precipDepth6HR  seaLvlPressure  \\\n",
       "timestamp                                                             \n",
       "2016-01-01 00:00:00             0.0             NaN             NaN   \n",
       "2016-01-01 01:00:00            -1.0             NaN          1019.4   \n",
       "2016-01-01 02:00:00             0.0             NaN          1018.8   \n",
       "2016-01-01 03:00:00             0.0             NaN          1018.1   \n",
       "2016-01-01 04:00:00             0.0             NaN          1019.0   \n",
       "\n",
       "                     windDirection  windSpeed  \n",
       "timestamp                                      \n",
       "2016-01-01 00:00:00            0.0        0.0  \n",
       "2016-01-01 01:00:00            0.0        0.0  \n",
       "2016-01-01 02:00:00          210.0        1.5  \n",
       "2016-01-01 03:00:00            0.0        0.0  \n",
       "2016-01-01 04:00:00          290.0        1.5  "
      ]
     },
     "execution_count": 13,
     "metadata": {},
     "output_type": "execute_result"
    }
   ],
   "source": [
    "weather_data.head()"
   ]
  },
  {
   "cell_type": "code",
   "execution_count": 14,
   "id": "1ac24c56",
   "metadata": {},
   "outputs": [],
   "source": [
    "weather_site = weather_data[weather_data.site_id == 'Panther'].truncate(before='2017-01-01')"
   ]
  },
  {
   "cell_type": "code",
   "execution_count": 15,
   "id": "8bbcd1d5",
   "metadata": {},
   "outputs": [],
   "source": [
    "weather_site=weather_site.fillna(method='ffill')"
   ]
  },
  {
   "cell_type": "code",
   "execution_count": 16,
   "id": "578020ac",
   "metadata": {},
   "outputs": [
    {
     "data": {
      "text/html": [
       "<div>\n",
       "<style scoped>\n",
       "    .dataframe tbody tr th:only-of-type {\n",
       "        vertical-align: middle;\n",
       "    }\n",
       "\n",
       "    .dataframe tbody tr th {\n",
       "        vertical-align: top;\n",
       "    }\n",
       "\n",
       "    .dataframe thead th {\n",
       "        text-align: right;\n",
       "    }\n",
       "</style>\n",
       "<table border=\"1\" class=\"dataframe\">\n",
       "  <thead>\n",
       "    <tr style=\"text-align: right;\">\n",
       "      <th></th>\n",
       "      <th>site_id</th>\n",
       "      <th>airTemperature</th>\n",
       "      <th>cloudCoverage</th>\n",
       "      <th>dewTemperature</th>\n",
       "      <th>precipDepth1HR</th>\n",
       "      <th>precipDepth6HR</th>\n",
       "      <th>seaLvlPressure</th>\n",
       "      <th>windDirection</th>\n",
       "      <th>windSpeed</th>\n",
       "    </tr>\n",
       "    <tr>\n",
       "      <th>timestamp</th>\n",
       "      <th></th>\n",
       "      <th></th>\n",
       "      <th></th>\n",
       "      <th></th>\n",
       "      <th></th>\n",
       "      <th></th>\n",
       "      <th></th>\n",
       "      <th></th>\n",
       "      <th></th>\n",
       "    </tr>\n",
       "  </thead>\n",
       "  <tbody>\n",
       "    <tr>\n",
       "      <th>2017-01-01 00:00:00</th>\n",
       "      <td>Panther</td>\n",
       "      <td>15.6</td>\n",
       "      <td>2.0</td>\n",
       "      <td>12.8</td>\n",
       "      <td>0.0</td>\n",
       "      <td>NaN</td>\n",
       "      <td>1022.1</td>\n",
       "      <td>130.0</td>\n",
       "      <td>2.1</td>\n",
       "    </tr>\n",
       "    <tr>\n",
       "      <th>2017-01-01 01:00:00</th>\n",
       "      <td>Panther</td>\n",
       "      <td>15.0</td>\n",
       "      <td>0.0</td>\n",
       "      <td>12.8</td>\n",
       "      <td>0.0</td>\n",
       "      <td>NaN</td>\n",
       "      <td>1021.7</td>\n",
       "      <td>150.0</td>\n",
       "      <td>1.5</td>\n",
       "    </tr>\n",
       "    <tr>\n",
       "      <th>2017-01-01 02:00:00</th>\n",
       "      <td>Panther</td>\n",
       "      <td>15.0</td>\n",
       "      <td>2.0</td>\n",
       "      <td>13.3</td>\n",
       "      <td>0.0</td>\n",
       "      <td>NaN</td>\n",
       "      <td>1021.6</td>\n",
       "      <td>0.0</td>\n",
       "      <td>0.0</td>\n",
       "    </tr>\n",
       "    <tr>\n",
       "      <th>2017-01-01 03:00:00</th>\n",
       "      <td>Panther</td>\n",
       "      <td>13.3</td>\n",
       "      <td>0.0</td>\n",
       "      <td>12.2</td>\n",
       "      <td>0.0</td>\n",
       "      <td>NaN</td>\n",
       "      <td>1021.4</td>\n",
       "      <td>0.0</td>\n",
       "      <td>0.0</td>\n",
       "    </tr>\n",
       "    <tr>\n",
       "      <th>2017-01-01 04:00:00</th>\n",
       "      <td>Panther</td>\n",
       "      <td>12.2</td>\n",
       "      <td>4.0</td>\n",
       "      <td>11.7</td>\n",
       "      <td>0.0</td>\n",
       "      <td>NaN</td>\n",
       "      <td>1021.4</td>\n",
       "      <td>0.0</td>\n",
       "      <td>0.0</td>\n",
       "    </tr>\n",
       "  </tbody>\n",
       "</table>\n",
       "</div>"
      ],
      "text/plain": [
       "                     site_id  airTemperature  cloudCoverage  dewTemperature  \\\n",
       "timestamp                                                                     \n",
       "2017-01-01 00:00:00  Panther            15.6            2.0            12.8   \n",
       "2017-01-01 01:00:00  Panther            15.0            0.0            12.8   \n",
       "2017-01-01 02:00:00  Panther            15.0            2.0            13.3   \n",
       "2017-01-01 03:00:00  Panther            13.3            0.0            12.2   \n",
       "2017-01-01 04:00:00  Panther            12.2            4.0            11.7   \n",
       "\n",
       "                     precipDepth1HR  precipDepth6HR  seaLvlPressure  \\\n",
       "timestamp                                                             \n",
       "2017-01-01 00:00:00             0.0             NaN          1022.1   \n",
       "2017-01-01 01:00:00             0.0             NaN          1021.7   \n",
       "2017-01-01 02:00:00             0.0             NaN          1021.6   \n",
       "2017-01-01 03:00:00             0.0             NaN          1021.4   \n",
       "2017-01-01 04:00:00             0.0             NaN          1021.4   \n",
       "\n",
       "                     windDirection  windSpeed  \n",
       "timestamp                                      \n",
       "2017-01-01 00:00:00          130.0        2.1  \n",
       "2017-01-01 01:00:00          150.0        1.5  \n",
       "2017-01-01 02:00:00            0.0        0.0  \n",
       "2017-01-01 03:00:00            0.0        0.0  \n",
       "2017-01-01 04:00:00            0.0        0.0  "
      ]
     },
     "execution_count": 16,
     "metadata": {},
     "output_type": "execute_result"
    }
   ],
   "source": [
    "weather_site.head()"
   ]
  },
  {
   "cell_type": "code",
   "execution_count": 17,
   "id": "f1a3c253",
   "metadata": {},
   "outputs": [
    {
     "data": {
      "text/plain": [
       "(8760, 9)"
      ]
     },
     "execution_count": 17,
     "metadata": {},
     "output_type": "execute_result"
    }
   ],
   "source": [
    "weather_site.shape"
   ]
  },
  {
   "cell_type": "code",
   "execution_count": 18,
   "id": "86d4b355",
   "metadata": {},
   "outputs": [],
   "source": [
    "number_data = weather_site.select_dtypes(include='number')\n",
    "weather_hourly = number_data.resample(\"H\").mean()\n",
    "\n"
   ]
  },
  {
   "cell_type": "code",
   "execution_count": 19,
   "id": "649ea657",
   "metadata": {},
   "outputs": [
    {
     "data": {
      "text/html": [
       "<div>\n",
       "<style scoped>\n",
       "    .dataframe tbody tr th:only-of-type {\n",
       "        vertical-align: middle;\n",
       "    }\n",
       "\n",
       "    .dataframe tbody tr th {\n",
       "        vertical-align: top;\n",
       "    }\n",
       "\n",
       "    .dataframe thead th {\n",
       "        text-align: right;\n",
       "    }\n",
       "</style>\n",
       "<table border=\"1\" class=\"dataframe\">\n",
       "  <thead>\n",
       "    <tr style=\"text-align: right;\">\n",
       "      <th></th>\n",
       "      <th>airTemperature</th>\n",
       "      <th>cloudCoverage</th>\n",
       "      <th>dewTemperature</th>\n",
       "      <th>precipDepth1HR</th>\n",
       "      <th>precipDepth6HR</th>\n",
       "      <th>seaLvlPressure</th>\n",
       "      <th>windDirection</th>\n",
       "      <th>windSpeed</th>\n",
       "    </tr>\n",
       "    <tr>\n",
       "      <th>timestamp</th>\n",
       "      <th></th>\n",
       "      <th></th>\n",
       "      <th></th>\n",
       "      <th></th>\n",
       "      <th></th>\n",
       "      <th></th>\n",
       "      <th></th>\n",
       "      <th></th>\n",
       "    </tr>\n",
       "  </thead>\n",
       "  <tbody>\n",
       "    <tr>\n",
       "      <th>2017-01-01 00:00:00</th>\n",
       "      <td>15.6</td>\n",
       "      <td>2.0</td>\n",
       "      <td>12.8</td>\n",
       "      <td>0.0</td>\n",
       "      <td>NaN</td>\n",
       "      <td>1022.1</td>\n",
       "      <td>130.0</td>\n",
       "      <td>2.1</td>\n",
       "    </tr>\n",
       "    <tr>\n",
       "      <th>2017-01-01 01:00:00</th>\n",
       "      <td>15.0</td>\n",
       "      <td>0.0</td>\n",
       "      <td>12.8</td>\n",
       "      <td>0.0</td>\n",
       "      <td>NaN</td>\n",
       "      <td>1021.7</td>\n",
       "      <td>150.0</td>\n",
       "      <td>1.5</td>\n",
       "    </tr>\n",
       "    <tr>\n",
       "      <th>2017-01-01 02:00:00</th>\n",
       "      <td>15.0</td>\n",
       "      <td>2.0</td>\n",
       "      <td>13.3</td>\n",
       "      <td>0.0</td>\n",
       "      <td>NaN</td>\n",
       "      <td>1021.6</td>\n",
       "      <td>0.0</td>\n",
       "      <td>0.0</td>\n",
       "    </tr>\n",
       "    <tr>\n",
       "      <th>2017-01-01 03:00:00</th>\n",
       "      <td>13.3</td>\n",
       "      <td>0.0</td>\n",
       "      <td>12.2</td>\n",
       "      <td>0.0</td>\n",
       "      <td>NaN</td>\n",
       "      <td>1021.4</td>\n",
       "      <td>0.0</td>\n",
       "      <td>0.0</td>\n",
       "    </tr>\n",
       "    <tr>\n",
       "      <th>2017-01-01 04:00:00</th>\n",
       "      <td>12.2</td>\n",
       "      <td>4.0</td>\n",
       "      <td>11.7</td>\n",
       "      <td>0.0</td>\n",
       "      <td>NaN</td>\n",
       "      <td>1021.4</td>\n",
       "      <td>0.0</td>\n",
       "      <td>0.0</td>\n",
       "    </tr>\n",
       "  </tbody>\n",
       "</table>\n",
       "</div>"
      ],
      "text/plain": [
       "                     airTemperature  cloudCoverage  dewTemperature  \\\n",
       "timestamp                                                            \n",
       "2017-01-01 00:00:00            15.6            2.0            12.8   \n",
       "2017-01-01 01:00:00            15.0            0.0            12.8   \n",
       "2017-01-01 02:00:00            15.0            2.0            13.3   \n",
       "2017-01-01 03:00:00            13.3            0.0            12.2   \n",
       "2017-01-01 04:00:00            12.2            4.0            11.7   \n",
       "\n",
       "                     precipDepth1HR  precipDepth6HR  seaLvlPressure  \\\n",
       "timestamp                                                             \n",
       "2017-01-01 00:00:00             0.0             NaN          1022.1   \n",
       "2017-01-01 01:00:00             0.0             NaN          1021.7   \n",
       "2017-01-01 02:00:00             0.0             NaN          1021.6   \n",
       "2017-01-01 03:00:00             0.0             NaN          1021.4   \n",
       "2017-01-01 04:00:00             0.0             NaN          1021.4   \n",
       "\n",
       "                     windDirection  windSpeed  \n",
       "timestamp                                      \n",
       "2017-01-01 00:00:00          130.0        2.1  \n",
       "2017-01-01 01:00:00          150.0        1.5  \n",
       "2017-01-01 02:00:00            0.0        0.0  \n",
       "2017-01-01 03:00:00            0.0        0.0  \n",
       "2017-01-01 04:00:00            0.0        0.0  "
      ]
     },
     "execution_count": 19,
     "metadata": {},
     "output_type": "execute_result"
    }
   ],
   "source": [
    "weather_hourly.head()"
   ]
  },
  {
   "cell_type": "code",
   "execution_count": 20,
   "id": "a18dc709",
   "metadata": {},
   "outputs": [
    {
     "data": {
      "text/plain": [
       "(8760, 8)"
      ]
     },
     "execution_count": 20,
     "metadata": {},
     "output_type": "execute_result"
    }
   ],
   "source": [
    "weather_hourly.shape"
   ]
  },
  {
   "cell_type": "code",
   "execution_count": 21,
   "id": "ea824810",
   "metadata": {},
   "outputs": [
    {
     "name": "stdout",
     "output_type": "stream",
     "text": [
      "<class 'pandas.core.frame.DataFrame'>\n",
      "DatetimeIndex: 8760 entries, 2017-01-01 00:00:00 to 2017-12-31 23:00:00\n",
      "Freq: H\n",
      "Data columns (total 8 columns):\n",
      " #   Column          Non-Null Count  Dtype  \n",
      "---  ------          --------------  -----  \n",
      " 0   airTemperature  8760 non-null   float64\n",
      " 1   cloudCoverage   8760 non-null   float64\n",
      " 2   dewTemperature  8760 non-null   float64\n",
      " 3   precipDepth1HR  8760 non-null   float64\n",
      " 4   precipDepth6HR  8699 non-null   float64\n",
      " 5   seaLvlPressure  8760 non-null   float64\n",
      " 6   windDirection   8760 non-null   float64\n",
      " 7   windSpeed       8760 non-null   float64\n",
      "dtypes: float64(8)\n",
      "memory usage: 615.9 KB\n"
     ]
    }
   ],
   "source": [
    "weather_hourly.info()"
   ]
  },
  {
   "cell_type": "code",
   "execution_count": 22,
   "id": "8f164036",
   "metadata": {},
   "outputs": [],
   "source": [
    "weather_hourly2 = weather_hourly[weather_hourly > -10]\n"
   ]
  },
  {
   "cell_type": "code",
   "execution_count": 23,
   "id": "8e6f9689",
   "metadata": {},
   "outputs": [],
   "source": [
    "weather_hourly3 = weather_hourly2.fillna(method='ffill')"
   ]
  },
  {
   "cell_type": "code",
   "execution_count": 24,
   "id": "7f453b3d",
   "metadata": {},
   "outputs": [],
   "source": [
    "temperature = weather_hourly3[\"airTemperature\"]"
   ]
  },
  {
   "cell_type": "code",
   "execution_count": 25,
   "id": "b139551c",
   "metadata": {},
   "outputs": [
    {
     "data": {
      "text/plain": [
       "timestamp\n",
       "2017-01-01 00:00:00    15.6\n",
       "2017-01-01 01:00:00    15.0\n",
       "2017-01-01 02:00:00    15.0\n",
       "2017-01-01 03:00:00    13.3\n",
       "2017-01-01 04:00:00    12.2\n",
       "Freq: H, Name: airTemperature, dtype: float64"
      ]
     },
     "execution_count": 25,
     "metadata": {},
     "output_type": "execute_result"
    }
   ],
   "source": [
    "temperature.head()"
   ]
  },
  {
   "cell_type": "code",
   "execution_count": 26,
   "id": "b1d44942",
   "metadata": {},
   "outputs": [
    {
     "data": {
      "text/plain": [
       "<Axes: xlabel='timestamp'>"
      ]
     },
     "execution_count": 26,
     "metadata": {},
     "output_type": "execute_result"
    },
    {
     "data": {
      "image/png": "[encoded data removed]",
      "text/plain": [
       "<Figure size 640x480 with 1 Axes>"
      ]
     },
     "metadata": {},
     "output_type": "display_data"
    }
   ],
   "source": [
    "temperature.plot()"
   ]
  },
  {
   "cell_type": "code",
   "execution_count": 27,
   "id": "e19b0d0a",
   "metadata": {},
   "outputs": [],
   "source": [
    "training_months = [1,2,3,4,5,6,7,8,9]\n",
    "test_months = [10,11]"
   ]
  },
  {
   "cell_type": "code",
   "execution_count": 28,
   "id": "6bf2a311",
   "metadata": {},
   "outputs": [
    {
     "data": {
      "text/plain": [
       "6552"
      ]
     },
     "execution_count": 28,
     "metadata": {},
     "output_type": "execute_result"
    }
   ],
   "source": [
    "a=office_data.index.month.isin(training_months)\n",
    "len(a[a==True])"
   ]
  },
  {
   "cell_type": "code",
   "execution_count": 29,
   "id": "1c97fe55",
   "metadata": {},
   "outputs": [
    {
     "data": {
      "text/plain": [
       "array([ True,  True,  True, ..., False, False, False])"
      ]
     },
     "execution_count": 29,
     "metadata": {},
     "output_type": "execute_result"
    }
   ],
   "source": [
    "a"
   ]
  },
  {
   "cell_type": "code",
   "execution_count": 30,
   "id": "65f1275a",
   "metadata": {},
   "outputs": [],
   "source": [
    "train = office_data[office_data.index.month.isin(training_months)]\n",
    "test = office_data[office_data.index.month.isin(test_months)]"
   ]
  },
  {
   "cell_type": "code",
   "execution_count": 31,
   "id": "a2b4301f",
   "metadata": {},
   "outputs": [
    {
     "data": {
      "text/html": [
       "<div>\n",
       "<style scoped>\n",
       "    .dataframe tbody tr th:only-of-type {\n",
       "        vertical-align: middle;\n",
       "    }\n",
       "\n",
       "    .dataframe tbody tr th {\n",
       "        vertical-align: top;\n",
       "    }\n",
       "\n",
       "    .dataframe thead th {\n",
       "        text-align: right;\n",
       "    }\n",
       "</style>\n",
       "<table border=\"1\" class=\"dataframe\">\n",
       "  <thead>\n",
       "    <tr style=\"text-align: right;\">\n",
       "      <th></th>\n",
       "      <th>Panther_office_Catherine</th>\n",
       "    </tr>\n",
       "    <tr>\n",
       "      <th>timestamp</th>\n",
       "      <th></th>\n",
       "    </tr>\n",
       "  </thead>\n",
       "  <tbody>\n",
       "    <tr>\n",
       "      <th>2017-01-01 00:00:00</th>\n",
       "      <td>17.6434</td>\n",
       "    </tr>\n",
       "    <tr>\n",
       "      <th>2017-01-01 01:00:00</th>\n",
       "      <td>18.3635</td>\n",
       "    </tr>\n",
       "    <tr>\n",
       "      <th>2017-01-01 02:00:00</th>\n",
       "      <td>17.8435</td>\n",
       "    </tr>\n",
       "    <tr>\n",
       "      <th>2017-01-01 03:00:00</th>\n",
       "      <td>18.6836</td>\n",
       "    </tr>\n",
       "    <tr>\n",
       "      <th>2017-01-01 04:00:00</th>\n",
       "      <td>17.6834</td>\n",
       "    </tr>\n",
       "    <tr>\n",
       "      <th>...</th>\n",
       "      <td>...</td>\n",
       "    </tr>\n",
       "    <tr>\n",
       "      <th>2017-09-30 19:00:00</th>\n",
       "      <td>44.0085</td>\n",
       "    </tr>\n",
       "    <tr>\n",
       "      <th>2017-09-30 20:00:00</th>\n",
       "      <td>42.5682</td>\n",
       "    </tr>\n",
       "    <tr>\n",
       "      <th>2017-09-30 21:00:00</th>\n",
       "      <td>46.2889</td>\n",
       "    </tr>\n",
       "    <tr>\n",
       "      <th>2017-09-30 22:00:00</th>\n",
       "      <td>50.1297</td>\n",
       "    </tr>\n",
       "    <tr>\n",
       "      <th>2017-09-30 23:00:00</th>\n",
       "      <td>32.2062</td>\n",
       "    </tr>\n",
       "  </tbody>\n",
       "</table>\n",
       "<p>6552 rows × 1 columns</p>\n",
       "</div>"
      ],
      "text/plain": [
       "                     Panther_office_Catherine\n",
       "timestamp                                    \n",
       "2017-01-01 00:00:00                   17.6434\n",
       "2017-01-01 01:00:00                   18.3635\n",
       "2017-01-01 02:00:00                   17.8435\n",
       "2017-01-01 03:00:00                   18.6836\n",
       "2017-01-01 04:00:00                   17.6834\n",
       "...                                       ...\n",
       "2017-09-30 19:00:00                   44.0085\n",
       "2017-09-30 20:00:00                   42.5682\n",
       "2017-09-30 21:00:00                   46.2889\n",
       "2017-09-30 22:00:00                   50.1297\n",
       "2017-09-30 23:00:00                   32.2062\n",
       "\n",
       "[6552 rows x 1 columns]"
      ]
     },
     "execution_count": 31,
     "metadata": {},
     "output_type": "execute_result"
    }
   ],
   "source": [
    "train"
   ]
  },
  {
   "cell_type": "code",
   "execution_count": 32,
   "id": "60959219",
   "metadata": {},
   "outputs": [
    {
     "name": "stdout",
     "output_type": "stream",
     "text": [
      "<class 'pandas.core.frame.DataFrame'>\n",
      "DatetimeIndex: 6552 entries, 2017-01-01 00:00:00 to 2017-09-30 23:00:00\n",
      "Data columns (total 1 columns):\n",
      " #   Column                    Non-Null Count  Dtype  \n",
      "---  ------                    --------------  -----  \n",
      " 0   Panther_office_Catherine  6540 non-null   float64\n",
      "dtypes: float64(1)\n",
      "memory usage: 102.4 KB\n"
     ]
    }
   ],
   "source": [
    "train.info()"
   ]
  },
  {
   "cell_type": "code",
   "execution_count": 33,
   "id": "278ef7fd",
   "metadata": {},
   "outputs": [
    {
     "name": "stdout",
     "output_type": "stream",
     "text": [
      "<class 'pandas.core.frame.DataFrame'>\n",
      "DatetimeIndex: 1464 entries, 2017-10-01 00:00:00 to 2017-11-30 23:00:00\n",
      "Data columns (total 1 columns):\n",
      " #   Column                    Non-Null Count  Dtype  \n",
      "---  ------                    --------------  -----  \n",
      " 0   Panther_office_Catherine  1464 non-null   float64\n",
      "dtypes: float64(1)\n",
      "memory usage: 22.9 KB\n"
     ]
    }
   ],
   "source": [
    "test.info()"
   ]
  },
  {
   "cell_type": "code",
   "execution_count": 34,
   "id": "3885b26d",
   "metadata": {},
   "outputs": [],
   "source": [
    "train_features = pd.concat([pd.get_dummies(train.index.hour), \n",
    "                                     pd.get_dummies(train.index.dayofweek), \n",
    "                                     pd.DataFrame(temperature[temperature.index.month.isin(training_months)].values)], axis=1).dropna()"
   ]
  },
  {
   "cell_type": "code",
   "execution_count": 35,
   "id": "f69b3104",
   "metadata": {},
   "outputs": [
    {
     "data": {
      "text/plain": [
       "6552"
      ]
     },
     "execution_count": 35,
     "metadata": {},
     "output_type": "execute_result"
    }
   ],
   "source": [
    "a=temperature[temperature.index.month.isin(training_months)].values\n",
    "len(a)"
   ]
  },
  {
   "cell_type": "code",
   "execution_count": 36,
   "id": "f4f263fe",
   "metadata": {},
   "outputs": [
    {
     "data": {
      "text/html": [
       "<div>\n",
       "<style scoped>\n",
       "    .dataframe tbody tr th:only-of-type {\n",
       "        vertical-align: middle;\n",
       "    }\n",
       "\n",
       "    .dataframe tbody tr th {\n",
       "        vertical-align: top;\n",
       "    }\n",
       "\n",
       "    .dataframe thead th {\n",
       "        text-align: right;\n",
       "    }\n",
       "</style>\n",
       "<table border=\"1\" class=\"dataframe\">\n",
       "  <thead>\n",
       "    <tr style=\"text-align: right;\">\n",
       "      <th></th>\n",
       "      <th>0</th>\n",
       "      <th>1</th>\n",
       "      <th>2</th>\n",
       "      <th>3</th>\n",
       "      <th>4</th>\n",
       "      <th>5</th>\n",
       "      <th>6</th>\n",
       "      <th>7</th>\n",
       "      <th>8</th>\n",
       "      <th>9</th>\n",
       "      <th>...</th>\n",
       "      <th>22</th>\n",
       "      <th>23</th>\n",
       "      <th>0</th>\n",
       "      <th>1</th>\n",
       "      <th>2</th>\n",
       "      <th>3</th>\n",
       "      <th>4</th>\n",
       "      <th>5</th>\n",
       "      <th>6</th>\n",
       "      <th>0</th>\n",
       "    </tr>\n",
       "  </thead>\n",
       "  <tbody>\n",
       "    <tr>\n",
       "      <th>0</th>\n",
       "      <td>True</td>\n",
       "      <td>False</td>\n",
       "      <td>False</td>\n",
       "      <td>False</td>\n",
       "      <td>False</td>\n",
       "      <td>False</td>\n",
       "      <td>False</td>\n",
       "      <td>False</td>\n",
       "      <td>False</td>\n",
       "      <td>False</td>\n",
       "      <td>...</td>\n",
       "      <td>False</td>\n",
       "      <td>False</td>\n",
       "      <td>False</td>\n",
       "      <td>False</td>\n",
       "      <td>False</td>\n",
       "      <td>False</td>\n",
       "      <td>False</td>\n",
       "      <td>False</td>\n",
       "      <td>True</td>\n",
       "      <td>15.6</td>\n",
       "    </tr>\n",
       "    <tr>\n",
       "      <th>1</th>\n",
       "      <td>False</td>\n",
       "      <td>True</td>\n",
       "      <td>False</td>\n",
       "      <td>False</td>\n",
       "      <td>False</td>\n",
       "      <td>False</td>\n",
       "      <td>False</td>\n",
       "      <td>False</td>\n",
       "      <td>False</td>\n",
       "      <td>False</td>\n",
       "      <td>...</td>\n",
       "      <td>False</td>\n",
       "      <td>False</td>\n",
       "      <td>False</td>\n",
       "      <td>False</td>\n",
       "      <td>False</td>\n",
       "      <td>False</td>\n",
       "      <td>False</td>\n",
       "      <td>False</td>\n",
       "      <td>True</td>\n",
       "      <td>15.0</td>\n",
       "    </tr>\n",
       "    <tr>\n",
       "      <th>2</th>\n",
       "      <td>False</td>\n",
       "      <td>False</td>\n",
       "      <td>True</td>\n",
       "      <td>False</td>\n",
       "      <td>False</td>\n",
       "      <td>False</td>\n",
       "      <td>False</td>\n",
       "      <td>False</td>\n",
       "      <td>False</td>\n",
       "      <td>False</td>\n",
       "      <td>...</td>\n",
       "      <td>False</td>\n",
       "      <td>False</td>\n",
       "      <td>False</td>\n",
       "      <td>False</td>\n",
       "      <td>False</td>\n",
       "      <td>False</td>\n",
       "      <td>False</td>\n",
       "      <td>False</td>\n",
       "      <td>True</td>\n",
       "      <td>15.0</td>\n",
       "    </tr>\n",
       "    <tr>\n",
       "      <th>3</th>\n",
       "      <td>False</td>\n",
       "      <td>False</td>\n",
       "      <td>False</td>\n",
       "      <td>True</td>\n",
       "      <td>False</td>\n",
       "      <td>False</td>\n",
       "      <td>False</td>\n",
       "      <td>False</td>\n",
       "      <td>False</td>\n",
       "      <td>False</td>\n",
       "      <td>...</td>\n",
       "      <td>False</td>\n",
       "      <td>False</td>\n",
       "      <td>False</td>\n",
       "      <td>False</td>\n",
       "      <td>False</td>\n",
       "      <td>False</td>\n",
       "      <td>False</td>\n",
       "      <td>False</td>\n",
       "      <td>True</td>\n",
       "      <td>13.3</td>\n",
       "    </tr>\n",
       "    <tr>\n",
       "      <th>4</th>\n",
       "      <td>False</td>\n",
       "      <td>False</td>\n",
       "      <td>False</td>\n",
       "      <td>False</td>\n",
       "      <td>True</td>\n",
       "      <td>False</td>\n",
       "      <td>False</td>\n",
       "      <td>False</td>\n",
       "      <td>False</td>\n",
       "      <td>False</td>\n",
       "      <td>...</td>\n",
       "      <td>False</td>\n",
       "      <td>False</td>\n",
       "      <td>False</td>\n",
       "      <td>False</td>\n",
       "      <td>False</td>\n",
       "      <td>False</td>\n",
       "      <td>False</td>\n",
       "      <td>False</td>\n",
       "      <td>True</td>\n",
       "      <td>12.2</td>\n",
       "    </tr>\n",
       "  </tbody>\n",
       "</table>\n",
       "<p>5 rows × 32 columns</p>\n",
       "</div>"
      ],
      "text/plain": [
       "      0      1      2      3      4      5      6      7      8      9   ...  \\\n",
       "0   True  False  False  False  False  False  False  False  False  False  ...   \n",
       "1  False   True  False  False  False  False  False  False  False  False  ...   \n",
       "2  False  False   True  False  False  False  False  False  False  False  ...   \n",
       "3  False  False  False   True  False  False  False  False  False  False  ...   \n",
       "4  False  False  False  False   True  False  False  False  False  False  ...   \n",
       "\n",
       "      22     23     0      1      2      3      4      5     6     0   \n",
       "0  False  False  False  False  False  False  False  False  True  15.6  \n",
       "1  False  False  False  False  False  False  False  False  True  15.0  \n",
       "2  False  False  False  False  False  False  False  False  True  15.0  \n",
       "3  False  False  False  False  False  False  False  False  True  13.3  \n",
       "4  False  False  False  False  False  False  False  False  True  12.2  \n",
       "\n",
       "[5 rows x 32 columns]"
      ]
     },
     "execution_count": 36,
     "metadata": {},
     "output_type": "execute_result"
    }
   ],
   "source": [
    "train_features.head()"
   ]
  },
  {
   "cell_type": "code",
   "execution_count": 37,
   "id": "75a7f52f",
   "metadata": {},
   "outputs": [
    {
     "data": {
      "text/plain": [
       "timestamp\n",
       "2017-01-01 00:00:00    17.6434\n",
       "2017-01-01 01:00:00    18.3635\n",
       "2017-01-01 02:00:00    17.8435\n",
       "2017-01-01 03:00:00    18.6836\n",
       "2017-01-01 04:00:00    17.6834\n",
       "                        ...   \n",
       "2017-09-30 19:00:00    44.0085\n",
       "2017-09-30 20:00:00    42.5682\n",
       "2017-09-30 21:00:00    46.2889\n",
       "2017-09-30 22:00:00    50.1297\n",
       "2017-09-30 23:00:00    32.2062\n",
       "Name: Panther_office_Catherine, Length: 6552, dtype: float64"
      ]
     },
     "execution_count": 37,
     "metadata": {},
     "output_type": "execute_result"
    }
   ],
   "source": [
    "train[\"Panther_office_Catherine\"]"
   ]
  },
  {
   "cell_type": "code",
   "execution_count": 38,
   "id": "baae1580",
   "metadata": {},
   "outputs": [],
   "source": [
    "X_train= train_features\n",
    "Y_train= train[\"Panther_office_Catherine\"]"
   ]
  },
  {
   "cell_type": "code",
   "execution_count": 39,
   "id": "b52b9bf1",
   "metadata": {},
   "outputs": [
    {
     "data": {
      "text/plain": [
       "timestamp\n",
       "2017-01-01 00:00:00    17.6434\n",
       "2017-01-01 01:00:00    18.3635\n",
       "2017-01-01 02:00:00    17.8435\n",
       "2017-01-01 03:00:00    18.6836\n",
       "2017-01-01 04:00:00    17.6834\n",
       "                        ...   \n",
       "2017-09-30 19:00:00    44.0085\n",
       "2017-09-30 20:00:00    42.5682\n",
       "2017-09-30 21:00:00    46.2889\n",
       "2017-09-30 22:00:00    50.1297\n",
       "2017-09-30 23:00:00    32.2062\n",
       "Name: Panther_office_Catherine, Length: 6552, dtype: float64"
      ]
     },
     "execution_count": 39,
     "metadata": {},
     "output_type": "execute_result"
    }
   ],
   "source": [
    "Y_train"
   ]
  },
  {
   "cell_type": "code",
   "execution_count": 40,
   "id": "509cfb99",
   "metadata": {},
   "outputs": [],
   "source": [
    "train=train.fillna(method='ffill')"
   ]
  },
  {
   "cell_type": "markdown",
   "id": "76342dfd",
   "metadata": {},
   "source": [
    "# KNeighbors Regressor"
   ]
  },
  {
   "cell_type": "code",
   "execution_count": 41,
   "id": "3c766d64",
   "metadata": {},
   "outputs": [],
   "source": [
    "model = KNeighborsRegressor().fit(np.array(train_features), np.array(train.values));"
   ]
  },
  {
   "cell_type": "code",
   "execution_count": 42,
   "id": "70ee2d85",
   "metadata": {},
   "outputs": [
    {
     "data": {
      "text/plain": [
       "array([[True, False, False, ..., False, True, 15.6],\n",
       "       [False, True, False, ..., False, True, 15.0],\n",
       "       [False, False, True, ..., False, True, 15.0],\n",
       "       ...,\n",
       "       [False, False, False, ..., True, False, 24.4],\n",
       "       [False, False, False, ..., True, False, 23.9],\n",
       "       [False, False, False, ..., True, False, 23.9]], dtype=object)"
      ]
     },
     "execution_count": 42,
     "metadata": {},
     "output_type": "execute_result"
    }
   ],
   "source": [
    "X_train= np.array(train_features)\n",
    "X_train"
   ]
  },
  {
   "cell_type": "code",
   "execution_count": 43,
   "id": "28045261",
   "metadata": {},
   "outputs": [
    {
     "data": {
      "text/plain": [
       "array([[17.6434],\n",
       "       [18.3635],\n",
       "       [17.8435],\n",
       "       ...,\n",
       "       [46.2889],\n",
       "       [50.1297],\n",
       "       [32.2062]])"
      ]
     },
     "execution_count": 43,
     "metadata": {},
     "output_type": "execute_result"
    }
   ],
   "source": [
    "Y_train= np.array(train.values)\n",
    "Y_train"
   ]
  },
  {
   "cell_type": "code",
   "execution_count": 44,
   "id": "ff32e4b7",
   "metadata": {},
   "outputs": [],
   "source": [
    "test_features = np.array(pd.concat([pd.get_dummies(test.index.hour),\n",
    "                                    pd.get_dummies(test.index.dayofweek),\n",
    "                                    pd.DataFrame(temperature[temperature.index.month.isin(test_months)].values)], axis=1).dropna())"
   ]
  },
  {
   "cell_type": "code",
   "execution_count": 45,
   "id": "6c99628b",
   "metadata": {},
   "outputs": [],
   "source": [
    "X_test= np.array(test_features)"
   ]
  },
  {
   "cell_type": "code",
   "execution_count": 46,
   "id": "aa3a8539",
   "metadata": {},
   "outputs": [],
   "source": [
    "predictions = model.predict(test_features)"
   ]
  },
  {
   "cell_type": "code",
   "execution_count": 47,
   "id": "09808752",
   "metadata": {},
   "outputs": [],
   "source": [
    "Y_test=np.array(test.values)"
   ]
  },
  {
   "cell_type": "code",
   "execution_count": 48,
   "id": "4fd91ed1",
   "metadata": {},
   "outputs": [],
   "source": [
    "predicted_vs_actual = pd.concat([test, pd.DataFrame(predictions, index=test.index)], axis=1)"
   ]
  },
  {
   "cell_type": "code",
   "execution_count": 49,
   "id": "e8273fe1",
   "metadata": {},
   "outputs": [],
   "source": [
    "predicted_vs_actual.columns = [\"Actual\", \"Predicted\"]"
   ]
  },
  {
   "cell_type": "code",
   "execution_count": 50,
   "id": "4725f633",
   "metadata": {},
   "outputs": [
    {
     "data": {
      "text/html": [
       "<div>\n",
       "<style scoped>\n",
       "    .dataframe tbody tr th:only-of-type {\n",
       "        vertical-align: middle;\n",
       "    }\n",
       "\n",
       "    .dataframe tbody tr th {\n",
       "        vertical-align: top;\n",
       "    }\n",
       "\n",
       "    .dataframe thead th {\n",
       "        text-align: right;\n",
       "    }\n",
       "</style>\n",
       "<table border=\"1\" class=\"dataframe\">\n",
       "  <thead>\n",
       "    <tr style=\"text-align: right;\">\n",
       "      <th></th>\n",
       "      <th>Actual</th>\n",
       "      <th>Predicted</th>\n",
       "    </tr>\n",
       "    <tr>\n",
       "      <th>timestamp</th>\n",
       "      <th></th>\n",
       "      <th></th>\n",
       "    </tr>\n",
       "  </thead>\n",
       "  <tbody>\n",
       "    <tr>\n",
       "      <th>2017-10-01 00:00:00</th>\n",
       "      <td>25.2849</td>\n",
       "      <td>18.99566</td>\n",
       "    </tr>\n",
       "    <tr>\n",
       "      <th>2017-10-01 01:00:00</th>\n",
       "      <td>25.5249</td>\n",
       "      <td>19.31576</td>\n",
       "    </tr>\n",
       "    <tr>\n",
       "      <th>2017-10-01 02:00:00</th>\n",
       "      <td>25.6049</td>\n",
       "      <td>19.18768</td>\n",
       "    </tr>\n",
       "    <tr>\n",
       "      <th>2017-10-01 03:00:00</th>\n",
       "      <td>25.8450</td>\n",
       "      <td>19.23570</td>\n",
       "    </tr>\n",
       "    <tr>\n",
       "      <th>2017-10-01 04:00:00</th>\n",
       "      <td>25.6049</td>\n",
       "      <td>19.13172</td>\n",
       "    </tr>\n",
       "  </tbody>\n",
       "</table>\n",
       "</div>"
      ],
      "text/plain": [
       "                      Actual  Predicted\n",
       "timestamp                              \n",
       "2017-10-01 00:00:00  25.2849   18.99566\n",
       "2017-10-01 01:00:00  25.5249   19.31576\n",
       "2017-10-01 02:00:00  25.6049   19.18768\n",
       "2017-10-01 03:00:00  25.8450   19.23570\n",
       "2017-10-01 04:00:00  25.6049   19.13172"
      ]
     },
     "execution_count": 50,
     "metadata": {},
     "output_type": "execute_result"
    }
   ],
   "source": [
    "predicted_vs_actual.head()"
   ]
  },
  {
   "cell_type": "code",
   "execution_count": 51,
   "id": "dea8fece",
   "metadata": {},
   "outputs": [
    {
     "data": {
      "text/plain": [
       "<Axes: ylabel='Density'>"
      ]
     },
     "execution_count": 51,
     "metadata": {},
     "output_type": "execute_result"
    },
    {
     "data": {
      "image/png": "[encoded data removed]",
      "text/plain": [
       "<Figure size 640x480 with 1 Axes>"
      ]
     },
     "metadata": {},
     "output_type": "display_data"
    }
   ],
   "source": [
    "predicted_vs_actual.plot(kind='kde')"
   ]
  },
  {
   "cell_type": "code",
   "execution_count": 52,
   "id": "6d2ed60a",
   "metadata": {},
   "outputs": [],
   "source": [
    "train.columns = [\"Actual\"]"
   ]
  },
  {
   "cell_type": "code",
   "execution_count": 53,
   "id": "ee92ee89",
   "metadata": {},
   "outputs": [],
   "source": [
    "predicted_vs_actual_plus_training = pd.concat([train, predicted_vs_actual], sort=True)"
   ]
  },
  {
   "cell_type": "code",
   "execution_count": 54,
   "id": "0445e1dd",
   "metadata": {},
   "outputs": [
    {
     "data": {
      "text/html": [
       "<div>\n",
       "<style scoped>\n",
       "    .dataframe tbody tr th:only-of-type {\n",
       "        vertical-align: middle;\n",
       "    }\n",
       "\n",
       "    .dataframe tbody tr th {\n",
       "        vertical-align: top;\n",
       "    }\n",
       "\n",
       "    .dataframe thead th {\n",
       "        text-align: right;\n",
       "    }\n",
       "</style>\n",
       "<table border=\"1\" class=\"dataframe\">\n",
       "  <thead>\n",
       "    <tr style=\"text-align: right;\">\n",
       "      <th></th>\n",
       "      <th>Actual</th>\n",
       "      <th>Predicted</th>\n",
       "    </tr>\n",
       "    <tr>\n",
       "      <th>timestamp</th>\n",
       "      <th></th>\n",
       "      <th></th>\n",
       "    </tr>\n",
       "  </thead>\n",
       "  <tbody>\n",
       "    <tr>\n",
       "      <th>2017-01-01 00:00:00</th>\n",
       "      <td>17.6434</td>\n",
       "      <td>NaN</td>\n",
       "    </tr>\n",
       "    <tr>\n",
       "      <th>2017-01-01 01:00:00</th>\n",
       "      <td>18.3635</td>\n",
       "      <td>NaN</td>\n",
       "    </tr>\n",
       "    <tr>\n",
       "      <th>2017-01-01 02:00:00</th>\n",
       "      <td>17.8435</td>\n",
       "      <td>NaN</td>\n",
       "    </tr>\n",
       "    <tr>\n",
       "      <th>2017-01-01 03:00:00</th>\n",
       "      <td>18.6836</td>\n",
       "      <td>NaN</td>\n",
       "    </tr>\n",
       "    <tr>\n",
       "      <th>2017-01-01 04:00:00</th>\n",
       "      <td>17.6834</td>\n",
       "      <td>NaN</td>\n",
       "    </tr>\n",
       "    <tr>\n",
       "      <th>...</th>\n",
       "      <td>...</td>\n",
       "      <td>...</td>\n",
       "    </tr>\n",
       "    <tr>\n",
       "      <th>2017-11-30 19:00:00</th>\n",
       "      <td>47.8092</td>\n",
       "      <td>64.62046</td>\n",
       "    </tr>\n",
       "    <tr>\n",
       "      <th>2017-11-30 20:00:00</th>\n",
       "      <td>49.2095</td>\n",
       "      <td>66.63688</td>\n",
       "    </tr>\n",
       "    <tr>\n",
       "      <th>2017-11-30 21:00:00</th>\n",
       "      <td>51.4099</td>\n",
       "      <td>69.24536</td>\n",
       "    </tr>\n",
       "    <tr>\n",
       "      <th>2017-11-30 22:00:00</th>\n",
       "      <td>50.6898</td>\n",
       "      <td>71.61382</td>\n",
       "    </tr>\n",
       "    <tr>\n",
       "      <th>2017-11-30 23:00:00</th>\n",
       "      <td>34.2466</td>\n",
       "      <td>38.22340</td>\n",
       "    </tr>\n",
       "  </tbody>\n",
       "</table>\n",
       "<p>8016 rows × 2 columns</p>\n",
       "</div>"
      ],
      "text/plain": [
       "                      Actual  Predicted\n",
       "timestamp                              \n",
       "2017-01-01 00:00:00  17.6434        NaN\n",
       "2017-01-01 01:00:00  18.3635        NaN\n",
       "2017-01-01 02:00:00  17.8435        NaN\n",
       "2017-01-01 03:00:00  18.6836        NaN\n",
       "2017-01-01 04:00:00  17.6834        NaN\n",
       "...                      ...        ...\n",
       "2017-11-30 19:00:00  47.8092   64.62046\n",
       "2017-11-30 20:00:00  49.2095   66.63688\n",
       "2017-11-30 21:00:00  51.4099   69.24536\n",
       "2017-11-30 22:00:00  50.6898   71.61382\n",
       "2017-11-30 23:00:00  34.2466   38.22340\n",
       "\n",
       "[8016 rows x 2 columns]"
      ]
     },
     "execution_count": 54,
     "metadata": {},
     "output_type": "execute_result"
    }
   ],
   "source": [
    "predicted_vs_actual_plus_training"
   ]
  },
  {
   "cell_type": "code",
   "execution_count": 55,
   "id": "cb332d80",
   "metadata": {},
   "outputs": [
    {
     "data": {
      "text/plain": [
       "<Axes: ylabel='Density'>"
      ]
     },
     "execution_count": 55,
     "metadata": {},
     "output_type": "execute_result"
    },
    {
     "data": {
      "image/png": "[encoded data removed]",
      "text/plain": [
       "<Figure size 640x480 with 1 Axes>"
      ]
     },
     "metadata": {},
     "output_type": "display_data"
    }
   ],
   "source": [
    "predicted_vs_actual_plus_training.plot(kind='kde')"
   ]
  },
  {
   "cell_type": "code",
   "execution_count": 56,
   "id": "5303649e",
   "metadata": {},
   "outputs": [
    {
     "data": {
      "text/plain": [
       "21.704806043144885"
      ]
     },
     "execution_count": 56,
     "metadata": {},
     "output_type": "execute_result"
    }
   ],
   "source": [
    "\n",
    "errors = abs(predicted_vs_actual['Predicted'] - predicted_vs_actual['Actual'])\n",
    "E = 100 * np.mean((errors / predicted_vs_actual['Actual']))\n",
    "E"
   ]
  },
  {
   "cell_type": "markdown",
   "id": "1581c0eb",
   "metadata": {},
   "source": [
    "# From executing KNeighbours Regressor, we have obtained an accuracy of 78.295% i.e., it has an error of 21.704%"
   ]
  },
  {
   "cell_type": "markdown",
   "id": "50d48e00",
   "metadata": {},
   "source": [
    "# random_forest"
   ]
  },
  {
   "cell_type": "code",
   "execution_count": 57,
   "id": "6af00511",
   "metadata": {},
   "outputs": [
    {
     "name": "stderr",
     "output_type": "stream",
     "text": [
      "C:\\Users\\Karthik\\anaconda3\\Lib\\site-packages\\sklearn\\base.py:1151: DataConversionWarning: A column-vector y was passed when a 1d array was expected. Please change the shape of y to (n_samples,), for example using ravel().\n",
      "  return fit_method(estimator, *args, **kwargs)\n"
     ]
    }
   ],
   "source": [
    "\n",
    "random_forest=RandomForestRegressor().fit(np.array(train_features), np.array(train.values))\n",
    "#random_forest\n",
    "predictions = random_forest.predict(np.array(test_features))\n",
    "#acc_random_forest = round(random_forest.score(np.array(train_features), np.array(train.values)) * 100, 2)\n",
    "#acc_random_forest"
   ]
  },
  {
   "cell_type": "code",
   "execution_count": 58,
   "id": "08cb00ce",
   "metadata": {},
   "outputs": [],
   "source": [
    "predicted_vs_actual = pd.concat([test, pd.DataFrame(predictions, index=test.index)], axis=1)\n",
    "predicted_vs_actual.columns = [\"Actual\", \"Predicted\"]"
   ]
  },
  {
   "cell_type": "code",
   "execution_count": 59,
   "id": "b46828a9",
   "metadata": {},
   "outputs": [
    {
     "data": {
      "text/html": [
       "<div>\n",
       "<style scoped>\n",
       "    .dataframe tbody tr th:only-of-type {\n",
       "        vertical-align: middle;\n",
       "    }\n",
       "\n",
       "    .dataframe tbody tr th {\n",
       "        vertical-align: top;\n",
       "    }\n",
       "\n",
       "    .dataframe thead th {\n",
       "        text-align: right;\n",
       "    }\n",
       "</style>\n",
       "<table border=\"1\" class=\"dataframe\">\n",
       "  <thead>\n",
       "    <tr style=\"text-align: right;\">\n",
       "      <th></th>\n",
       "      <th>Actual</th>\n",
       "      <th>Predicted</th>\n",
       "    </tr>\n",
       "    <tr>\n",
       "      <th>timestamp</th>\n",
       "      <th></th>\n",
       "      <th></th>\n",
       "    </tr>\n",
       "  </thead>\n",
       "  <tbody>\n",
       "    <tr>\n",
       "      <th>2017-10-01 00:00:00</th>\n",
       "      <td>25.2849</td>\n",
       "      <td>17.652165</td>\n",
       "    </tr>\n",
       "    <tr>\n",
       "      <th>2017-10-01 01:00:00</th>\n",
       "      <td>25.5249</td>\n",
       "      <td>20.416939</td>\n",
       "    </tr>\n",
       "    <tr>\n",
       "      <th>2017-10-01 02:00:00</th>\n",
       "      <td>25.6049</td>\n",
       "      <td>20.169928</td>\n",
       "    </tr>\n",
       "    <tr>\n",
       "      <th>2017-10-01 03:00:00</th>\n",
       "      <td>25.8450</td>\n",
       "      <td>19.636343</td>\n",
       "    </tr>\n",
       "    <tr>\n",
       "      <th>2017-10-01 04:00:00</th>\n",
       "      <td>25.6049</td>\n",
       "      <td>18.952358</td>\n",
       "    </tr>\n",
       "  </tbody>\n",
       "</table>\n",
       "</div>"
      ],
      "text/plain": [
       "                      Actual  Predicted\n",
       "timestamp                              \n",
       "2017-10-01 00:00:00  25.2849  17.652165\n",
       "2017-10-01 01:00:00  25.5249  20.416939\n",
       "2017-10-01 02:00:00  25.6049  20.169928\n",
       "2017-10-01 03:00:00  25.8450  19.636343\n",
       "2017-10-01 04:00:00  25.6049  18.952358"
      ]
     },
     "execution_count": 59,
     "metadata": {},
     "output_type": "execute_result"
    }
   ],
   "source": [
    "predicted_vs_actual.head()"
   ]
  },
  {
   "cell_type": "code",
   "execution_count": 60,
   "id": "28c4afe6",
   "metadata": {},
   "outputs": [
    {
     "data": {
      "text/html": [
       "<div>\n",
       "<style scoped>\n",
       "    .dataframe tbody tr th:only-of-type {\n",
       "        vertical-align: middle;\n",
       "    }\n",
       "\n",
       "    .dataframe tbody tr th {\n",
       "        vertical-align: top;\n",
       "    }\n",
       "\n",
       "    .dataframe thead th {\n",
       "        text-align: right;\n",
       "    }\n",
       "</style>\n",
       "<table border=\"1\" class=\"dataframe\">\n",
       "  <thead>\n",
       "    <tr style=\"text-align: right;\">\n",
       "      <th></th>\n",
       "      <th>Panther_office_Catherine</th>\n",
       "    </tr>\n",
       "    <tr>\n",
       "      <th>timestamp</th>\n",
       "      <th></th>\n",
       "    </tr>\n",
       "  </thead>\n",
       "  <tbody>\n",
       "    <tr>\n",
       "      <th>2017-10-01 00:00:00</th>\n",
       "      <td>25.2849</td>\n",
       "    </tr>\n",
       "    <tr>\n",
       "      <th>2017-10-01 01:00:00</th>\n",
       "      <td>25.5249</td>\n",
       "    </tr>\n",
       "    <tr>\n",
       "      <th>2017-10-01 02:00:00</th>\n",
       "      <td>25.6049</td>\n",
       "    </tr>\n",
       "    <tr>\n",
       "      <th>2017-10-01 03:00:00</th>\n",
       "      <td>25.8450</td>\n",
       "    </tr>\n",
       "    <tr>\n",
       "      <th>2017-10-01 04:00:00</th>\n",
       "      <td>25.6049</td>\n",
       "    </tr>\n",
       "    <tr>\n",
       "      <th>...</th>\n",
       "      <td>...</td>\n",
       "    </tr>\n",
       "    <tr>\n",
       "      <th>2017-11-30 19:00:00</th>\n",
       "      <td>47.8092</td>\n",
       "    </tr>\n",
       "    <tr>\n",
       "      <th>2017-11-30 20:00:00</th>\n",
       "      <td>49.2095</td>\n",
       "    </tr>\n",
       "    <tr>\n",
       "      <th>2017-11-30 21:00:00</th>\n",
       "      <td>51.4099</td>\n",
       "    </tr>\n",
       "    <tr>\n",
       "      <th>2017-11-30 22:00:00</th>\n",
       "      <td>50.6898</td>\n",
       "    </tr>\n",
       "    <tr>\n",
       "      <th>2017-11-30 23:00:00</th>\n",
       "      <td>34.2466</td>\n",
       "    </tr>\n",
       "  </tbody>\n",
       "</table>\n",
       "<p>1464 rows × 1 columns</p>\n",
       "</div>"
      ],
      "text/plain": [
       "                     Panther_office_Catherine\n",
       "timestamp                                    \n",
       "2017-10-01 00:00:00                   25.2849\n",
       "2017-10-01 01:00:00                   25.5249\n",
       "2017-10-01 02:00:00                   25.6049\n",
       "2017-10-01 03:00:00                   25.8450\n",
       "2017-10-01 04:00:00                   25.6049\n",
       "...                                       ...\n",
       "2017-11-30 19:00:00                   47.8092\n",
       "2017-11-30 20:00:00                   49.2095\n",
       "2017-11-30 21:00:00                   51.4099\n",
       "2017-11-30 22:00:00                   50.6898\n",
       "2017-11-30 23:00:00                   34.2466\n",
       "\n",
       "[1464 rows x 1 columns]"
      ]
     },
     "execution_count": 60,
     "metadata": {},
     "output_type": "execute_result"
    }
   ],
   "source": [
    "test"
   ]
  },
  {
   "cell_type": "code",
   "execution_count": 61,
   "id": "17605c6e",
   "metadata": {},
   "outputs": [
    {
     "data": {
      "text/plain": [
       "<Axes: ylabel='Density'>"
      ]
     },
     "execution_count": 61,
     "metadata": {},
     "output_type": "execute_result"
    },
    {
     "data": {
      "image/png": "[encoded data removed]",
      "text/plain": [
       "<Figure size 640x480 with 1 Axes>"
      ]
     },
     "metadata": {},
     "output_type": "display_data"
    }
   ],
   "source": [
    "predicted_vs_actual.plot(kind='kde')"
   ]
  },
  {
   "cell_type": "code",
   "execution_count": 62,
   "id": "e402aafc",
   "metadata": {},
   "outputs": [],
   "source": [
    "train.columns = [\"Actual\"]\n",
    "predicted_vs_actual_plus_training = pd.concat([train, predicted_vs_actual], sort=True)"
   ]
  },
  {
   "cell_type": "code",
   "execution_count": 63,
   "id": "27693966",
   "metadata": {},
   "outputs": [
    {
     "data": {
      "text/html": [
       "<div>\n",
       "<style scoped>\n",
       "    .dataframe tbody tr th:only-of-type {\n",
       "        vertical-align: middle;\n",
       "    }\n",
       "\n",
       "    .dataframe tbody tr th {\n",
       "        vertical-align: top;\n",
       "    }\n",
       "\n",
       "    .dataframe thead th {\n",
       "        text-align: right;\n",
       "    }\n",
       "</style>\n",
       "<table border=\"1\" class=\"dataframe\">\n",
       "  <thead>\n",
       "    <tr style=\"text-align: right;\">\n",
       "      <th></th>\n",
       "      <th>Actual</th>\n",
       "      <th>Predicted</th>\n",
       "    </tr>\n",
       "    <tr>\n",
       "      <th>timestamp</th>\n",
       "      <th></th>\n",
       "      <th></th>\n",
       "    </tr>\n",
       "  </thead>\n",
       "  <tbody>\n",
       "    <tr>\n",
       "      <th>2017-01-01 00:00:00</th>\n",
       "      <td>17.6434</td>\n",
       "      <td>NaN</td>\n",
       "    </tr>\n",
       "    <tr>\n",
       "      <th>2017-01-01 01:00:00</th>\n",
       "      <td>18.3635</td>\n",
       "      <td>NaN</td>\n",
       "    </tr>\n",
       "    <tr>\n",
       "      <th>2017-01-01 02:00:00</th>\n",
       "      <td>17.8435</td>\n",
       "      <td>NaN</td>\n",
       "    </tr>\n",
       "    <tr>\n",
       "      <th>2017-01-01 03:00:00</th>\n",
       "      <td>18.6836</td>\n",
       "      <td>NaN</td>\n",
       "    </tr>\n",
       "    <tr>\n",
       "      <th>2017-01-01 04:00:00</th>\n",
       "      <td>17.6834</td>\n",
       "      <td>NaN</td>\n",
       "    </tr>\n",
       "    <tr>\n",
       "      <th>...</th>\n",
       "      <td>...</td>\n",
       "      <td>...</td>\n",
       "    </tr>\n",
       "    <tr>\n",
       "      <th>2017-11-30 19:00:00</th>\n",
       "      <td>47.8092</td>\n",
       "      <td>59.448360</td>\n",
       "    </tr>\n",
       "    <tr>\n",
       "      <th>2017-11-30 20:00:00</th>\n",
       "      <td>49.2095</td>\n",
       "      <td>70.327800</td>\n",
       "    </tr>\n",
       "    <tr>\n",
       "      <th>2017-11-30 21:00:00</th>\n",
       "      <td>51.4099</td>\n",
       "      <td>60.935164</td>\n",
       "    </tr>\n",
       "    <tr>\n",
       "      <th>2017-11-30 22:00:00</th>\n",
       "      <td>50.6898</td>\n",
       "      <td>66.204977</td>\n",
       "    </tr>\n",
       "    <tr>\n",
       "      <th>2017-11-30 23:00:00</th>\n",
       "      <td>34.2466</td>\n",
       "      <td>35.983834</td>\n",
       "    </tr>\n",
       "  </tbody>\n",
       "</table>\n",
       "<p>8016 rows × 2 columns</p>\n",
       "</div>"
      ],
      "text/plain": [
       "                      Actual  Predicted\n",
       "timestamp                              \n",
       "2017-01-01 00:00:00  17.6434        NaN\n",
       "2017-01-01 01:00:00  18.3635        NaN\n",
       "2017-01-01 02:00:00  17.8435        NaN\n",
       "2017-01-01 03:00:00  18.6836        NaN\n",
       "2017-01-01 04:00:00  17.6834        NaN\n",
       "...                      ...        ...\n",
       "2017-11-30 19:00:00  47.8092  59.448360\n",
       "2017-11-30 20:00:00  49.2095  70.327800\n",
       "2017-11-30 21:00:00  51.4099  60.935164\n",
       "2017-11-30 22:00:00  50.6898  66.204977\n",
       "2017-11-30 23:00:00  34.2466  35.983834\n",
       "\n",
       "[8016 rows x 2 columns]"
      ]
     },
     "execution_count": 63,
     "metadata": {},
     "output_type": "execute_result"
    }
   ],
   "source": [
    "predicted_vs_actual_plus_training"
   ]
  },
  {
   "cell_type": "code",
   "execution_count": 64,
   "id": "fbe609ce",
   "metadata": {},
   "outputs": [
    {
     "data": {
      "text/html": [
       "<div>\n",
       "<style scoped>\n",
       "    .dataframe tbody tr th:only-of-type {\n",
       "        vertical-align: middle;\n",
       "    }\n",
       "\n",
       "    .dataframe tbody tr th {\n",
       "        vertical-align: top;\n",
       "    }\n",
       "\n",
       "    .dataframe thead th {\n",
       "        text-align: right;\n",
       "    }\n",
       "</style>\n",
       "<table border=\"1\" class=\"dataframe\">\n",
       "  <thead>\n",
       "    <tr style=\"text-align: right;\">\n",
       "      <th></th>\n",
       "      <th>Actual</th>\n",
       "      <th>Predicted</th>\n",
       "    </tr>\n",
       "    <tr>\n",
       "      <th>timestamp</th>\n",
       "      <th></th>\n",
       "      <th></th>\n",
       "    </tr>\n",
       "  </thead>\n",
       "  <tbody>\n",
       "    <tr>\n",
       "      <th>2017-10-01 00:00:00</th>\n",
       "      <td>25.2849</td>\n",
       "      <td>17.652165</td>\n",
       "    </tr>\n",
       "    <tr>\n",
       "      <th>2017-10-01 01:00:00</th>\n",
       "      <td>25.5249</td>\n",
       "      <td>20.416939</td>\n",
       "    </tr>\n",
       "    <tr>\n",
       "      <th>2017-10-01 02:00:00</th>\n",
       "      <td>25.6049</td>\n",
       "      <td>20.169928</td>\n",
       "    </tr>\n",
       "    <tr>\n",
       "      <th>2017-10-01 03:00:00</th>\n",
       "      <td>25.8450</td>\n",
       "      <td>19.636343</td>\n",
       "    </tr>\n",
       "    <tr>\n",
       "      <th>2017-10-01 04:00:00</th>\n",
       "      <td>25.6049</td>\n",
       "      <td>18.952358</td>\n",
       "    </tr>\n",
       "    <tr>\n",
       "      <th>...</th>\n",
       "      <td>...</td>\n",
       "      <td>...</td>\n",
       "    </tr>\n",
       "    <tr>\n",
       "      <th>2017-11-30 19:00:00</th>\n",
       "      <td>47.8092</td>\n",
       "      <td>59.448360</td>\n",
       "    </tr>\n",
       "    <tr>\n",
       "      <th>2017-11-30 20:00:00</th>\n",
       "      <td>49.2095</td>\n",
       "      <td>70.327800</td>\n",
       "    </tr>\n",
       "    <tr>\n",
       "      <th>2017-11-30 21:00:00</th>\n",
       "      <td>51.4099</td>\n",
       "      <td>60.935164</td>\n",
       "    </tr>\n",
       "    <tr>\n",
       "      <th>2017-11-30 22:00:00</th>\n",
       "      <td>50.6898</td>\n",
       "      <td>66.204977</td>\n",
       "    </tr>\n",
       "    <tr>\n",
       "      <th>2017-11-30 23:00:00</th>\n",
       "      <td>34.2466</td>\n",
       "      <td>35.983834</td>\n",
       "    </tr>\n",
       "  </tbody>\n",
       "</table>\n",
       "<p>1464 rows × 2 columns</p>\n",
       "</div>"
      ],
      "text/plain": [
       "                      Actual  Predicted\n",
       "timestamp                              \n",
       "2017-10-01 00:00:00  25.2849  17.652165\n",
       "2017-10-01 01:00:00  25.5249  20.416939\n",
       "2017-10-01 02:00:00  25.6049  20.169928\n",
       "2017-10-01 03:00:00  25.8450  19.636343\n",
       "2017-10-01 04:00:00  25.6049  18.952358\n",
       "...                      ...        ...\n",
       "2017-11-30 19:00:00  47.8092  59.448360\n",
       "2017-11-30 20:00:00  49.2095  70.327800\n",
       "2017-11-30 21:00:00  51.4099  60.935164\n",
       "2017-11-30 22:00:00  50.6898  66.204977\n",
       "2017-11-30 23:00:00  34.2466  35.983834\n",
       "\n",
       "[1464 rows x 2 columns]"
      ]
     },
     "execution_count": 64,
     "metadata": {},
     "output_type": "execute_result"
    }
   ],
   "source": [
    "predicted_vs_actual"
   ]
  },
  {
   "cell_type": "code",
   "execution_count": 65,
   "id": "2dba238d",
   "metadata": {},
   "outputs": [
    {
     "data": {
      "text/plain": [
       "<Axes: ylabel='Density'>"
      ]
     },
     "execution_count": 65,
     "metadata": {},
     "output_type": "execute_result"
    },
    {
     "data": {
      "image/png": "[encoded data removed]",
      "text/plain": [
       "<Figure size 640x480 with 1 Axes>"
      ]
     },
     "metadata": {},
     "output_type": "display_data"
    }
   ],
   "source": [
    "predicted_vs_actual_plus_training.plot(kind='kde')"
   ]
  },
  {
   "cell_type": "code",
   "execution_count": 66,
   "id": "9248eab3",
   "metadata": {},
   "outputs": [
    {
     "data": {
      "text/plain": [
       "18.676324502420254"
      ]
     },
     "execution_count": 66,
     "metadata": {},
     "output_type": "execute_result"
    }
   ],
   "source": [
    "\n",
    "errors = abs(predicted_vs_actual['Predicted'] - predicted_vs_actual['Actual'])\n",
    "E = 100 * np.mean((errors / predicted_vs_actual['Actual']))\n",
    "E"
   ]
  },
  {
   "cell_type": "markdown",
   "id": "a790b920",
   "metadata": {},
   "source": [
    "# By executing Random Forest, we have obtained an error of 18.676% which means that an accuracy of 81.324% is attained."
   ]
  },
  {
   "cell_type": "markdown",
   "id": "53870cc0",
   "metadata": {},
   "source": [
    "# Stochastic Gradient Descent"
   ]
  },
  {
   "cell_type": "code",
   "execution_count": 67,
   "id": "4dbd374a",
   "metadata": {},
   "outputs": [],
   "source": [
    "#Stochastic Gradient Descent\n",
    "from sklearn.linear_model import SGDRegressor\n",
    "sgd_regressor = SGDRegressor()\n",
    "sgd_regressor.fit(np.array(train_features), Y_train.ravel())\n",
    "Y_pred = sgd_regressor.predict(np.array(X_test))\n"
   ]
  },
  {
   "cell_type": "code",
   "execution_count": 68,
   "id": "0a2f1dc0",
   "metadata": {},
   "outputs": [],
   "source": [
    "predicted_vs_actual1 = pd.concat([test, pd.DataFrame(Y_pred, index=test.index)], axis=1)\n",
    "predicted_vs_actual1.columns = [\"Actual\", \"Predicted\"]"
   ]
  },
  {
   "cell_type": "code",
   "execution_count": 69,
   "id": "fd482d53",
   "metadata": {},
   "outputs": [
    {
     "data": {
      "text/html": [
       "<div>\n",
       "<style scoped>\n",
       "    .dataframe tbody tr th:only-of-type {\n",
       "        vertical-align: middle;\n",
       "    }\n",
       "\n",
       "    .dataframe tbody tr th {\n",
       "        vertical-align: top;\n",
       "    }\n",
       "\n",
       "    .dataframe thead th {\n",
       "        text-align: right;\n",
       "    }\n",
       "</style>\n",
       "<table border=\"1\" class=\"dataframe\">\n",
       "  <thead>\n",
       "    <tr style=\"text-align: right;\">\n",
       "      <th></th>\n",
       "      <th>Actual</th>\n",
       "      <th>Predicted</th>\n",
       "    </tr>\n",
       "    <tr>\n",
       "      <th>timestamp</th>\n",
       "      <th></th>\n",
       "      <th></th>\n",
       "    </tr>\n",
       "  </thead>\n",
       "  <tbody>\n",
       "    <tr>\n",
       "      <th>2017-10-01 00:00:00</th>\n",
       "      <td>25.2849</td>\n",
       "      <td>12.827367</td>\n",
       "    </tr>\n",
       "    <tr>\n",
       "      <th>2017-10-01 01:00:00</th>\n",
       "      <td>25.5249</td>\n",
       "      <td>12.998806</td>\n",
       "    </tr>\n",
       "    <tr>\n",
       "      <th>2017-10-01 02:00:00</th>\n",
       "      <td>25.6049</td>\n",
       "      <td>12.625468</td>\n",
       "    </tr>\n",
       "    <tr>\n",
       "      <th>2017-10-01 03:00:00</th>\n",
       "      <td>25.8450</td>\n",
       "      <td>12.091021</td>\n",
       "    </tr>\n",
       "    <tr>\n",
       "      <th>2017-10-01 04:00:00</th>\n",
       "      <td>25.6049</td>\n",
       "      <td>11.467989</td>\n",
       "    </tr>\n",
       "  </tbody>\n",
       "</table>\n",
       "</div>"
      ],
      "text/plain": [
       "                      Actual  Predicted\n",
       "timestamp                              \n",
       "2017-10-01 00:00:00  25.2849  12.827367\n",
       "2017-10-01 01:00:00  25.5249  12.998806\n",
       "2017-10-01 02:00:00  25.6049  12.625468\n",
       "2017-10-01 03:00:00  25.8450  12.091021\n",
       "2017-10-01 04:00:00  25.6049  11.467989"
      ]
     },
     "execution_count": 69,
     "metadata": {},
     "output_type": "execute_result"
    }
   ],
   "source": [
    "predicted_vs_actual1.head()"
   ]
  },
  {
   "cell_type": "code",
   "execution_count": 70,
   "id": "de76ab42",
   "metadata": {},
   "outputs": [
    {
     "data": {
      "text/html": [
       "<div>\n",
       "<style scoped>\n",
       "    .dataframe tbody tr th:only-of-type {\n",
       "        vertical-align: middle;\n",
       "    }\n",
       "\n",
       "    .dataframe tbody tr th {\n",
       "        vertical-align: top;\n",
       "    }\n",
       "\n",
       "    .dataframe thead th {\n",
       "        text-align: right;\n",
       "    }\n",
       "</style>\n",
       "<table border=\"1\" class=\"dataframe\">\n",
       "  <thead>\n",
       "    <tr style=\"text-align: right;\">\n",
       "      <th></th>\n",
       "      <th>Actual</th>\n",
       "      <th>Predicted</th>\n",
       "    </tr>\n",
       "    <tr>\n",
       "      <th>timestamp</th>\n",
       "      <th></th>\n",
       "      <th></th>\n",
       "    </tr>\n",
       "  </thead>\n",
       "  <tbody>\n",
       "    <tr>\n",
       "      <th>2017-01-01 00:00:00</th>\n",
       "      <td>17.6434</td>\n",
       "      <td>NaN</td>\n",
       "    </tr>\n",
       "    <tr>\n",
       "      <th>2017-01-01 01:00:00</th>\n",
       "      <td>18.3635</td>\n",
       "      <td>NaN</td>\n",
       "    </tr>\n",
       "    <tr>\n",
       "      <th>2017-01-01 02:00:00</th>\n",
       "      <td>17.8435</td>\n",
       "      <td>NaN</td>\n",
       "    </tr>\n",
       "    <tr>\n",
       "      <th>2017-01-01 03:00:00</th>\n",
       "      <td>18.6836</td>\n",
       "      <td>NaN</td>\n",
       "    </tr>\n",
       "    <tr>\n",
       "      <th>2017-01-01 04:00:00</th>\n",
       "      <td>17.6834</td>\n",
       "      <td>NaN</td>\n",
       "    </tr>\n",
       "    <tr>\n",
       "      <th>...</th>\n",
       "      <td>...</td>\n",
       "      <td>...</td>\n",
       "    </tr>\n",
       "    <tr>\n",
       "      <th>2017-11-30 19:00:00</th>\n",
       "      <td>47.8092</td>\n",
       "      <td>55.791888</td>\n",
       "    </tr>\n",
       "    <tr>\n",
       "      <th>2017-11-30 20:00:00</th>\n",
       "      <td>49.2095</td>\n",
       "      <td>61.089688</td>\n",
       "    </tr>\n",
       "    <tr>\n",
       "      <th>2017-11-30 21:00:00</th>\n",
       "      <td>51.4099</td>\n",
       "      <td>62.222700</td>\n",
       "    </tr>\n",
       "    <tr>\n",
       "      <th>2017-11-30 22:00:00</th>\n",
       "      <td>50.6898</td>\n",
       "      <td>62.396357</td>\n",
       "    </tr>\n",
       "    <tr>\n",
       "      <th>2017-11-30 23:00:00</th>\n",
       "      <td>34.2466</td>\n",
       "      <td>41.664480</td>\n",
       "    </tr>\n",
       "  </tbody>\n",
       "</table>\n",
       "<p>8016 rows × 2 columns</p>\n",
       "</div>"
      ],
      "text/plain": [
       "                      Actual  Predicted\n",
       "timestamp                              \n",
       "2017-01-01 00:00:00  17.6434        NaN\n",
       "2017-01-01 01:00:00  18.3635        NaN\n",
       "2017-01-01 02:00:00  17.8435        NaN\n",
       "2017-01-01 03:00:00  18.6836        NaN\n",
       "2017-01-01 04:00:00  17.6834        NaN\n",
       "...                      ...        ...\n",
       "2017-11-30 19:00:00  47.8092  55.791888\n",
       "2017-11-30 20:00:00  49.2095  61.089688\n",
       "2017-11-30 21:00:00  51.4099  62.222700\n",
       "2017-11-30 22:00:00  50.6898  62.396357\n",
       "2017-11-30 23:00:00  34.2466  41.664480\n",
       "\n",
       "[8016 rows x 2 columns]"
      ]
     },
     "execution_count": 70,
     "metadata": {},
     "output_type": "execute_result"
    }
   ],
   "source": [
    "train.columns = [\"Actual\"]\n",
    "predicted_vs_actual1_plus_training = pd.concat([train, predicted_vs_actual1], sort=True)\n",
    "predicted_vs_actual1_plus_training"
   ]
  },
  {
   "cell_type": "code",
   "execution_count": 71,
   "id": "e607e936",
   "metadata": {},
   "outputs": [
    {
     "data": {
      "text/plain": [
       "<Axes: ylabel='Density'>"
      ]
     },
     "execution_count": 71,
     "metadata": {},
     "output_type": "execute_result"
    },
    {
     "data": {
      "image/png": "[encoded data removed]",
      "text/plain": [
       "<Figure size 640x480 with 1 Axes>"
      ]
     },
     "metadata": {},
     "output_type": "display_data"
    }
   ],
   "source": [
    "predicted_vs_actual1_plus_training.plot(kind='kde')"
   ]
  },
  {
   "cell_type": "code",
   "execution_count": 72,
   "id": "13c2b004",
   "metadata": {},
   "outputs": [
    {
     "data": {
      "text/plain": [
       "22.442539059699595"
      ]
     },
     "execution_count": 72,
     "metadata": {},
     "output_type": "execute_result"
    }
   ],
   "source": [
    "errors = abs(predicted_vs_actual1['Predicted'] - predicted_vs_actual1['Actual'])\n",
    "E = 100 * np.mean((errors / predicted_vs_actual1['Actual']))\n",
    "E"
   ]
  },
  {
   "cell_type": "markdown",
   "id": "5e4baef3",
   "metadata": {},
   "source": [
    "# We see that an accuracy of 77.5575% is obtained by executing Stochastic Gradient Descent. i.e., an error of 22.4425% is attained."
   ]
  },
  {
   "cell_type": "markdown",
   "id": "e9320cb7",
   "metadata": {},
   "source": [
    "# Decision Tree"
   ]
  },
  {
   "cell_type": "code",
   "execution_count": 73,
   "id": "f938f8ee",
   "metadata": {},
   "outputs": [],
   "source": [
    "\"\"\"decision_tree = DecisionTreeClassifier()\n",
    "decision_tree.fit(np.array(train_features), Y_train.ravel())\n",
    "Y_pred = decision_tree.predict(np.array(X_test))\"\"\"\n",
    "from sklearn.tree import DecisionTreeRegressor\n",
    "decision_tree = DecisionTreeRegressor()\n",
    "decision_tree.fit(np.array(train_features), Y_train.ravel())\n",
    "Y_pred2 = decision_tree.predict(np.array(X_test))"
   ]
  },
  {
   "cell_type": "code",
   "execution_count": 74,
   "id": "fd852dee",
   "metadata": {},
   "outputs": [],
   "source": [
    "predicted_vs_actual2 = pd.concat([test, pd.DataFrame(Y_pred2, index=test.index)], axis=1)\n",
    "predicted_vs_actual2.columns = [\"Actual\", \"Predicted\"]"
   ]
  },
  {
   "cell_type": "code",
   "execution_count": 75,
   "id": "abde72ae",
   "metadata": {},
   "outputs": [
    {
     "data": {
      "text/html": [
       "<div>\n",
       "<style scoped>\n",
       "    .dataframe tbody tr th:only-of-type {\n",
       "        vertical-align: middle;\n",
       "    }\n",
       "\n",
       "    .dataframe tbody tr th {\n",
       "        vertical-align: top;\n",
       "    }\n",
       "\n",
       "    .dataframe thead th {\n",
       "        text-align: right;\n",
       "    }\n",
       "</style>\n",
       "<table border=\"1\" class=\"dataframe\">\n",
       "  <thead>\n",
       "    <tr style=\"text-align: right;\">\n",
       "      <th></th>\n",
       "      <th>Actual</th>\n",
       "      <th>Predicted</th>\n",
       "    </tr>\n",
       "    <tr>\n",
       "      <th>timestamp</th>\n",
       "      <th></th>\n",
       "      <th></th>\n",
       "    </tr>\n",
       "  </thead>\n",
       "  <tbody>\n",
       "    <tr>\n",
       "      <th>2017-01-01 00:00:00</th>\n",
       "      <td>17.6434</td>\n",
       "      <td>NaN</td>\n",
       "    </tr>\n",
       "    <tr>\n",
       "      <th>2017-01-01 01:00:00</th>\n",
       "      <td>18.3635</td>\n",
       "      <td>NaN</td>\n",
       "    </tr>\n",
       "    <tr>\n",
       "      <th>2017-01-01 02:00:00</th>\n",
       "      <td>17.8435</td>\n",
       "      <td>NaN</td>\n",
       "    </tr>\n",
       "    <tr>\n",
       "      <th>2017-01-01 03:00:00</th>\n",
       "      <td>18.6836</td>\n",
       "      <td>NaN</td>\n",
       "    </tr>\n",
       "    <tr>\n",
       "      <th>2017-01-01 04:00:00</th>\n",
       "      <td>17.6834</td>\n",
       "      <td>NaN</td>\n",
       "    </tr>\n",
       "    <tr>\n",
       "      <th>...</th>\n",
       "      <td>...</td>\n",
       "      <td>...</td>\n",
       "    </tr>\n",
       "    <tr>\n",
       "      <th>2017-11-30 19:00:00</th>\n",
       "      <td>47.8092</td>\n",
       "      <td>60.745033</td>\n",
       "    </tr>\n",
       "    <tr>\n",
       "      <th>2017-11-30 20:00:00</th>\n",
       "      <td>49.2095</td>\n",
       "      <td>71.153750</td>\n",
       "    </tr>\n",
       "    <tr>\n",
       "      <th>2017-11-30 21:00:00</th>\n",
       "      <td>51.4099</td>\n",
       "      <td>56.851000</td>\n",
       "    </tr>\n",
       "    <tr>\n",
       "      <th>2017-11-30 22:00:00</th>\n",
       "      <td>50.6898</td>\n",
       "      <td>65.252600</td>\n",
       "    </tr>\n",
       "    <tr>\n",
       "      <th>2017-11-30 23:00:00</th>\n",
       "      <td>34.2466</td>\n",
       "      <td>35.726900</td>\n",
       "    </tr>\n",
       "  </tbody>\n",
       "</table>\n",
       "<p>8016 rows × 2 columns</p>\n",
       "</div>"
      ],
      "text/plain": [
       "                      Actual  Predicted\n",
       "timestamp                              \n",
       "2017-01-01 00:00:00  17.6434        NaN\n",
       "2017-01-01 01:00:00  18.3635        NaN\n",
       "2017-01-01 02:00:00  17.8435        NaN\n",
       "2017-01-01 03:00:00  18.6836        NaN\n",
       "2017-01-01 04:00:00  17.6834        NaN\n",
       "...                      ...        ...\n",
       "2017-11-30 19:00:00  47.8092  60.745033\n",
       "2017-11-30 20:00:00  49.2095  71.153750\n",
       "2017-11-30 21:00:00  51.4099  56.851000\n",
       "2017-11-30 22:00:00  50.6898  65.252600\n",
       "2017-11-30 23:00:00  34.2466  35.726900\n",
       "\n",
       "[8016 rows x 2 columns]"
      ]
     },
     "execution_count": 75,
     "metadata": {},
     "output_type": "execute_result"
    }
   ],
   "source": [
    "train.columns = [\"Actual\"]\n",
    "predicted_vs_actual2_plus_training = pd.concat([train, predicted_vs_actual2], sort=True)\n",
    "predicted_vs_actual2_plus_training"
   ]
  },
  {
   "cell_type": "code",
   "execution_count": 76,
   "id": "43587c32",
   "metadata": {},
   "outputs": [
    {
     "data": {
      "text/plain": [
       "<Axes: ylabel='Density'>"
      ]
     },
     "execution_count": 76,
     "metadata": {},
     "output_type": "execute_result"
    },
    {
     "data": {
      "image/png": "[encoded data removed]",
      "text/plain": [
       "<Figure size 640x480 with 1 Axes>"
      ]
     },
     "metadata": {},
     "output_type": "display_data"
    }
   ],
   "source": [
    "predicted_vs_actual2_plus_training.plot(kind='kde')"
   ]
  },
  {
   "cell_type": "code",
   "execution_count": 77,
   "id": "8e931181",
   "metadata": {},
   "outputs": [
    {
     "data": {
      "text/plain": [
       "20.46834403443668"
      ]
     },
     "execution_count": 77,
     "metadata": {},
     "output_type": "execute_result"
    }
   ],
   "source": [
    "errors = abs(predicted_vs_actual2['Predicted'] - predicted_vs_actual2['Actual'])\n",
    "E = 100 * np.mean((errors / predicted_vs_actual2['Actual']))\n",
    "E"
   ]
  },
  {
   "cell_type": "markdown",
   "id": "86d3297a",
   "metadata": {},
   "source": [
    "# We observe an accuracy of 79.532% by implementing Decision Tree model, i.e., an error of 20.468%."
   ]
  },
  {
   "cell_type": "code",
   "execution_count": 78,
   "id": "5c4e2035",
   "metadata": {},
   "outputs": [
    {
     "data": {
      "text/plain": [
       "array([[True, False, False, ..., False, True, 15.6],\n",
       "       [False, True, False, ..., False, True, 15.0],\n",
       "       [False, False, True, ..., False, True, 15.0],\n",
       "       ...,\n",
       "       [False, False, False, ..., True, False, 24.4],\n",
       "       [False, False, False, ..., True, False, 23.9],\n",
       "       [False, False, False, ..., True, False, 23.9]], dtype=object)"
      ]
     },
     "execution_count": 78,
     "metadata": {},
     "output_type": "execute_result"
    }
   ],
   "source": [
    "#X_train=pd.DataFrame(train_features.astype(float))\n",
    "X_train=np.array(train_features)\n",
    "X_train"
   ]
  },
  {
   "cell_type": "code",
   "execution_count": 79,
   "id": "1dee1bbf",
   "metadata": {},
   "outputs": [
    {
     "data": {
      "text/plain": [
       "array([[17.6434],\n",
       "       [18.3635],\n",
       "       [17.8435],\n",
       "       ...,\n",
       "       [46.2889],\n",
       "       [50.1297],\n",
       "       [32.2062]])"
      ]
     },
     "execution_count": 79,
     "metadata": {},
     "output_type": "execute_result"
    }
   ],
   "source": [
    "#Y_train=pd.DataFrame(train.astype(float))\n",
    "Y_train=np.array(train.values)\n",
    "Y_train"
   ]
  },
  {
   "cell_type": "code",
   "execution_count": 80,
   "id": "214bd7fc",
   "metadata": {},
   "outputs": [
    {
     "data": {
      "text/plain": [
       "array([[True, False, False, ..., False, True, 23.9],\n",
       "       [False, True, False, ..., False, True, 23.3],\n",
       "       [False, False, True, ..., False, True, 23.3],\n",
       "       ...,\n",
       "       [False, False, False, ..., False, False, 18.9],\n",
       "       [False, False, False, ..., False, False, 18.3],\n",
       "       [False, False, False, ..., False, False, 17.2]], dtype=object)"
      ]
     },
     "execution_count": 80,
     "metadata": {},
     "output_type": "execute_result"
    }
   ],
   "source": [
    "#X_test=pd.DataFrame(test_features.astype(float))\n",
    "X_test=np.array(test_features)\n",
    "X_test"
   ]
  },
  {
   "cell_type": "code",
   "execution_count": 81,
   "id": "616c4957",
   "metadata": {},
   "outputs": [
    {
     "data": {
      "text/plain": [
       "array([[25.2849],\n",
       "       [25.5249],\n",
       "       [25.6049],\n",
       "       ...,\n",
       "       [51.4099],\n",
       "       [50.6898],\n",
       "       [34.2466]])"
      ]
     },
     "execution_count": 81,
     "metadata": {},
     "output_type": "execute_result"
    }
   ],
   "source": [
    "#Y_test=pd.DataFrame(test.values.astype(float))\n",
    "Y_test=np.array(test)\n",
    "Y_test"
   ]
  },
  {
   "cell_type": "code",
   "execution_count": 82,
   "id": "7d4a3fe0",
   "metadata": {},
   "outputs": [
    {
     "data": {
      "text/plain": [
       "(6552, 32)"
      ]
     },
     "execution_count": 82,
     "metadata": {},
     "output_type": "execute_result"
    }
   ],
   "source": [
    "X_train.shape"
   ]
  },
  {
   "cell_type": "markdown",
   "id": "06fa73fb",
   "metadata": {},
   "source": [
    "# LSTM Using PyTorch"
   ]
  },
  {
   "cell_type": "code",
   "execution_count": 87,
   "id": "1416d0a4",
   "metadata": {},
   "outputs": [],
   "source": [
    "X_train=(train_features)\n",
    "y_train=(train)\n",
    "X_test=(test_features)\n",
    "y_test=(test)"
   ]
  },
  {
   "cell_type": "code",
   "execution_count": 88,
   "id": "14911b0a",
   "metadata": {},
   "outputs": [
    {
     "name": "stdout",
     "output_type": "stream",
     "text": [
      "X-train-shape-(6552, 32)\n",
      "y_train_Shape-(6552, 1)\n",
      "X-test-shape-(1464, 32)\n",
      "y_train_Shape-(1464, 1)\n"
     ]
    }
   ],
   "source": [
    "print(\"X-train-shape-\" + str(X_train.shape) +\\\n",
    "      \"\\ny_train_Shape-\" + str(y_train.shape) +\\\n",
    "      \"\\nX-test-shape-\" + str(X_test.shape) +\\\n",
    "      \"\\ny_train_Shape-\" + str(y_test.shape))\n"
   ]
  },
  {
   "cell_type": "code",
   "execution_count": 89,
   "id": "7daf8885",
   "metadata": {},
   "outputs": [],
   "source": [
    "from sklearn.preprocessing import MinMaxScaler\n",
    "scaler = MinMaxScaler(feature_range=(-1, 1))\n",
    "\n",
    "X_train = np.array(X_train) if not isinstance(X_train, np.ndarray) else X_train\n",
    "X_test = np.array(X_test) if not isinstance(X_test, np.ndarray) else X_test\n",
    "y_train = np.array(y_train) if not isinstance(y_train, np.ndarray) else y_train\n",
    "y_test = np.array(y_test) if not isinstance(y_test, np.ndarray) else y_test\n",
    "\n",
    "if y_train.ndim == 1:\n",
    "    y_train = y_train.reshape(-1, 1)\n",
    "if y_test.ndim == 1:\n",
    "    y_test = y_test.reshape(-1, 1)\n",
    "\n",
    "X_train = scaler.fit_transform(X_train)\n",
    "X_test = scaler.transform(X_test)\n",
    "\n",
    "y_train = scaler.fit_transform(y_train)\n",
    "y_test = scaler.transform(y_test)"
   ]
  },
  {
   "cell_type": "code",
   "execution_count": 90,
   "id": "0b74f336",
   "metadata": {},
   "outputs": [
    {
     "data": {
      "text/plain": [
       "array([[ 1.        , -1.        , -1.        , ..., -1.        ,\n",
       "         1.        , -0.18292683],\n",
       "       [-1.        ,  1.        , -1.        , ..., -1.        ,\n",
       "         1.        , -0.2195122 ],\n",
       "       [-1.        , -1.        ,  1.        , ..., -1.        ,\n",
       "         1.        , -0.2195122 ],\n",
       "       ...,\n",
       "       [-1.        , -1.        , -1.        , ...,  1.        ,\n",
       "        -1.        ,  0.35365854],\n",
       "       [-1.        , -1.        , -1.        , ...,  1.        ,\n",
       "        -1.        ,  0.32317073],\n",
       "       [-1.        , -1.        , -1.        , ...,  1.        ,\n",
       "        -1.        ,  0.32317073]])"
      ]
     },
     "execution_count": 90,
     "metadata": {},
     "output_type": "execute_result"
    }
   ],
   "source": [
    "X_train"
   ]
  },
  {
   "cell_type": "code",
   "execution_count": 91,
   "id": "5be616ce",
   "metadata": {},
   "outputs": [
    {
     "data": {
      "text/plain": [
       "((6552, 32), (1464, 32), (6552, 1), (1464, 1))"
      ]
     },
     "execution_count": 91,
     "metadata": {},
     "output_type": "execute_result"
    }
   ],
   "source": [
    "X_train.shape, X_test.shape, y_train.shape, y_test.shape"
   ]
  },
  {
   "cell_type": "code",
   "execution_count": 92,
   "id": "dd4c16a5",
   "metadata": {},
   "outputs": [
    {
     "data": {
      "text/plain": [
       "((6552, 32, 1), (1464, 32, 1), (6552, 1), (1464, 1))"
      ]
     },
     "execution_count": 92,
     "metadata": {},
     "output_type": "execute_result"
    }
   ],
   "source": [
    "X_train = X_train.reshape((-1, 32, 1))\n",
    "X_test = X_test.reshape((-1, 32, 1))\n",
    "\n",
    "y_train = y_train.reshape((-1, 1))\n",
    "y_test = y_test.reshape((-1, 1))\n",
    "\n",
    "X_train.shape, X_test.shape, y_train.shape, y_test.shape"
   ]
  },
  {
   "cell_type": "code",
   "execution_count": 93,
   "id": "40daa660",
   "metadata": {},
   "outputs": [],
   "source": [
    "import torch\n",
    "import torch.nn as nn\n",
    "import torch.nn.functional as F"
   ]
  },
  {
   "cell_type": "code",
   "execution_count": 94,
   "id": "65da4d69",
   "metadata": {},
   "outputs": [
    {
     "data": {
      "text/plain": [
       "(torch.Size([6552, 32, 1]),\n",
       " torch.Size([1464, 32, 1]),\n",
       " torch.Size([6552, 1]),\n",
       " torch.Size([1464, 1]))"
      ]
     },
     "execution_count": 94,
     "metadata": {},
     "output_type": "execute_result"
    }
   ],
   "source": [
    "X_train = torch.tensor(X_train).float()\n",
    "y_train = torch.tensor(y_train).float()\n",
    "X_test = torch.tensor(X_test).float()\n",
    "y_test = torch.tensor(y_test).float()\n",
    "\n",
    "X_train.shape, X_test.shape, y_train.shape, y_test.shape"
   ]
  },
  {
   "cell_type": "code",
   "execution_count": 96,
   "id": "d35f43a6",
   "metadata": {},
   "outputs": [
    {
     "data": {
      "text/plain": [
       "'cpu'"
      ]
     },
     "execution_count": 96,
     "metadata": {},
     "output_type": "execute_result"
    }
   ],
   "source": [
    "device = 'cuda:0' if torch.cuda.is_available() else 'cpu'\n",
    "device"
   ]
  },
  {
   "cell_type": "code",
   "execution_count": 97,
   "id": "3f64ff1c",
   "metadata": {},
   "outputs": [],
   "source": [
    "from torch.utils.data import Dataset\n",
    "\n",
    "class TimeSeriesDataset(Dataset):\n",
    "    def __init__(self, X, y):\n",
    "        self.X = X\n",
    "        self.y = y\n",
    "\n",
    "    def __len__(self):\n",
    "        return len(self.X)\n",
    "\n",
    "    def __getitem__(self, i):\n",
    "        return self.X[i], self.y[i]\n",
    "    \n",
    "train_dataset = TimeSeriesDataset(X_train, y_train)\n",
    "test_dataset = TimeSeriesDataset(X_test, y_test)"
   ]
  },
  {
   "cell_type": "code",
   "execution_count": 98,
   "id": "8fb1a2a7",
   "metadata": {},
   "outputs": [
    {
     "data": {
      "text/plain": [
       "<__main__.TimeSeriesDataset at 0x1432624d590>"
      ]
     },
     "execution_count": 98,
     "metadata": {},
     "output_type": "execute_result"
    }
   ],
   "source": [
    "train_dataset"
   ]
  },
  {
   "cell_type": "code",
   "execution_count": 99,
   "id": "eeb75442",
   "metadata": {},
   "outputs": [],
   "source": [
    "from torch.utils.data import DataLoader\n",
    "\n",
    "batch_size = 8\n",
    "\n",
    "train_loader = DataLoader(train_dataset, batch_size=batch_size, shuffle=True)\n",
    "test_loader = DataLoader(test_dataset, batch_size=batch_size, shuffle=False)"
   ]
  },
  {
   "cell_type": "code",
   "execution_count": 100,
   "id": "6d0bcd63",
   "metadata": {},
   "outputs": [
    {
     "name": "stdout",
     "output_type": "stream",
     "text": [
      "torch.Size([8, 32, 1]) torch.Size([8, 1])\n"
     ]
    }
   ],
   "source": [
    "for _, batch in enumerate(train_loader):\n",
    "    x_batch, y_batch = batch[0].to(device), batch[1].to(device)\n",
    "    print(x_batch.shape, y_batch.shape)\n",
    "    break"
   ]
  },
  {
   "cell_type": "code",
   "execution_count": 101,
   "id": "1108843f",
   "metadata": {},
   "outputs": [
    {
     "data": {
      "text/plain": [
       "LSTM(\n",
       "  (lstm): LSTM(1, 64, num_layers=5, batch_first=True)\n",
       "  (fc): Linear(in_features=64, out_features=1, bias=True)\n",
       ")"
      ]
     },
     "execution_count": 101,
     "metadata": {},
     "output_type": "execute_result"
    }
   ],
   "source": [
    "class LSTM(nn.Module):\n",
    "    def __init__(self, input_size, hidden_size, num_stacked_layers):\n",
    "        super().__init__()\n",
    "        self.hidden_size = hidden_size\n",
    "        self.num_stacked_layers = num_stacked_layers\n",
    "\n",
    "        self.lstm = nn.LSTM(input_size, hidden_size, num_stacked_layers, \n",
    "                            batch_first=True)\n",
    "        \n",
    "        self.fc = nn.Linear(hidden_size, 1)\n",
    "\n",
    "    def forward(self, x):\n",
    "        batch_size = x.size(0)\n",
    "        h0 = torch.zeros(self.num_stacked_layers, batch_size, self.hidden_size).to(device)\n",
    "        c0 = torch.zeros(self.num_stacked_layers, batch_size, self.hidden_size).to(device)\n",
    "        \n",
    "        out, _ = self.lstm(x, (h0, c0))\n",
    "        out = self.fc(out[:, -1, :])\n",
    "        return out\n",
    "\n",
    "model = LSTM(1, 64, 5)\n",
    "model.to(device)\n",
    "model"
   ]
  },
  {
   "cell_type": "code",
   "execution_count": 102,
   "id": "e5a4cfac",
   "metadata": {},
   "outputs": [],
   "source": [
    "def train_one_epoch():\n",
    "    model.train(True)\n",
    "    print(f'Epoch: {epoch + 1}')\n",
    "    running_loss = 0.0\n",
    "    \n",
    "    for batch_index, batch in enumerate(train_loader):\n",
    "        x_batch, y_batch = batch[0].to(device), batch[1].to(device)\n",
    "        \n",
    "        output = model(x_batch)\n",
    "        loss = loss_function(output, y_batch)\n",
    "        running_loss += loss.item()\n",
    "        \n",
    "        optimizer.zero_grad()\n",
    "        loss.backward()\n",
    "        optimizer.step()\n",
    "\n",
    "        if batch_index % 100 == 99:  # print every 100 batches\n",
    "            avg_loss_across_batches = running_loss / 100\n",
    "            print('Batch {0}, Loss: {1:.3f}'.format(batch_index+1,\n",
    "                                                    avg_loss_across_batches))\n",
    "            running_loss = 0.0\n",
    "    print()"
   ]
  },
  {
   "cell_type": "code",
   "execution_count": 137,
   "id": "d4c7d8d9",
   "metadata": {},
   "outputs": [],
   "source": [
    "def validate_one_epoch():\n",
    "    model.train(False)\n",
    "    running_loss = 0.0\n",
    "    \n",
    "    for batch_index, batch in enumerate(test_loader):\n",
    "        x_batch, y_batch = batch[0].to(device), batch[1].to(device)\n",
    "        \n",
    "        with torch.no_grad():\n",
    "            output = model(x_batch)\n",
    "            loss = loss_function(output, y_batch)\n",
    "            running_loss += loss.item()\n",
    "\n",
    "    avg_loss_across_batches = running_loss / len(test_loader)\n",
    "    \n",
    "    print('Val Loss: {0:.3f}'.format(avg_loss_across_batches))\n",
    "    print('***************************************************')\n",
    "    print()"
   ]
  },
  {
   "cell_type": "code",
   "execution_count": 138,
   "id": "a9fdbc0f",
   "metadata": {
    "scrolled": true
   },
   "outputs": [
    {
     "name": "stdout",
     "output_type": "stream",
     "text": [
      "Epoch: 1\n",
      "Batch 100, Loss: 0.119\n",
      "Batch 200, Loss: 0.091\n",
      "Batch 300, Loss: 0.091\n",
      "Batch 400, Loss: 0.091\n",
      "Batch 500, Loss: 0.092\n",
      "Batch 600, Loss: 0.083\n",
      "Batch 700, Loss: 0.062\n",
      "Batch 800, Loss: 0.050\n",
      "\n",
      "Val Loss: 0.031\n",
      "***************************************************\n",
      "\n",
      "Epoch: 2\n",
      "Batch 100, Loss: 0.048\n",
      "Batch 200, Loss: 0.050\n",
      "Batch 300, Loss: 0.039\n",
      "Batch 400, Loss: 0.047\n",
      "Batch 500, Loss: 0.060\n",
      "Batch 600, Loss: 0.046\n",
      "Batch 700, Loss: 0.045\n",
      "Batch 800, Loss: 0.050\n",
      "\n",
      "Val Loss: 0.026\n",
      "***************************************************\n",
      "\n",
      "Epoch: 3\n",
      "Batch 100, Loss: 0.043\n",
      "Batch 200, Loss: 0.047\n",
      "Batch 300, Loss: 0.052\n",
      "Batch 400, Loss: 0.046\n",
      "Batch 500, Loss: 0.046\n",
      "Batch 600, Loss: 0.047\n",
      "Batch 700, Loss: 0.043\n",
      "Batch 800, Loss: 0.047\n",
      "\n",
      "Val Loss: 0.024\n",
      "***************************************************\n",
      "\n",
      "Epoch: 4\n",
      "Batch 100, Loss: 0.042\n",
      "Batch 200, Loss: 0.043\n",
      "Batch 300, Loss: 0.043\n",
      "Batch 400, Loss: 0.047\n",
      "Batch 500, Loss: 0.046\n",
      "Batch 600, Loss: 0.042\n",
      "Batch 700, Loss: 0.036\n",
      "Batch 800, Loss: 0.043\n",
      "\n",
      "Val Loss: 0.035\n",
      "***************************************************\n",
      "\n",
      "Epoch: 5\n",
      "Batch 100, Loss: 0.037\n",
      "Batch 200, Loss: 0.025\n",
      "Batch 300, Loss: 0.036\n",
      "Batch 400, Loss: 0.032\n",
      "Batch 500, Loss: 0.027\n",
      "Batch 600, Loss: 0.031\n",
      "Batch 700, Loss: 0.031\n",
      "Batch 800, Loss: 0.026\n",
      "\n",
      "Val Loss: 0.022\n",
      "***************************************************\n",
      "\n",
      "Epoch: 6\n",
      "Batch 100, Loss: 0.025\n",
      "Batch 200, Loss: 0.030\n",
      "Batch 300, Loss: 0.035\n",
      "Batch 400, Loss: 0.024\n",
      "Batch 500, Loss: 0.023\n",
      "Batch 600, Loss: 0.030\n",
      "Batch 700, Loss: 0.028\n",
      "Batch 800, Loss: 0.024\n",
      "\n",
      "Val Loss: 0.023\n",
      "***************************************************\n",
      "\n",
      "Epoch: 7\n",
      "Batch 100, Loss: 0.021\n",
      "Batch 200, Loss: 0.025\n",
      "Batch 300, Loss: 0.031\n",
      "Batch 400, Loss: 0.028\n",
      "Batch 500, Loss: 0.020\n",
      "Batch 600, Loss: 0.024\n",
      "Batch 700, Loss: 0.023\n",
      "Batch 800, Loss: 0.021\n",
      "\n",
      "Val Loss: 0.028\n",
      "***************************************************\n",
      "\n",
      "Epoch: 8\n",
      "Batch 100, Loss: 0.019\n",
      "Batch 200, Loss: 0.021\n",
      "Batch 300, Loss: 0.022\n",
      "Batch 400, Loss: 0.023\n",
      "Batch 500, Loss: 0.019\n",
      "Batch 600, Loss: 0.026\n",
      "Batch 700, Loss: 0.019\n",
      "Batch 800, Loss: 0.020\n",
      "\n",
      "Val Loss: 0.030\n",
      "***************************************************\n",
      "\n",
      "Epoch: 9\n",
      "Batch 100, Loss: 0.019\n",
      "Batch 200, Loss: 0.019\n",
      "Batch 300, Loss: 0.023\n",
      "Batch 400, Loss: 0.020\n",
      "Batch 500, Loss: 0.019\n",
      "Batch 600, Loss: 0.020\n",
      "Batch 700, Loss: 0.023\n",
      "Batch 800, Loss: 0.019\n",
      "\n",
      "Val Loss: 0.022\n",
      "***************************************************\n",
      "\n",
      "Epoch: 10\n",
      "Batch 100, Loss: 0.020\n",
      "Batch 200, Loss: 0.018\n",
      "Batch 300, Loss: 0.018\n",
      "Batch 400, Loss: 0.020\n",
      "Batch 500, Loss: 0.020\n",
      "Batch 600, Loss: 0.020\n",
      "Batch 700, Loss: 0.020\n",
      "Batch 800, Loss: 0.019\n",
      "\n",
      "Val Loss: 0.020\n",
      "***************************************************\n",
      "\n"
     ]
    }
   ],
   "source": [
    "learning_rate = 0.001\n",
    "num_epochs = 10\n",
    "loss_function = nn.MSELoss()\n",
    "optimizer = torch.optim.Adam(model.parameters(), lr=learning_rate)\n",
    "\n",
    "for epoch in range(num_epochs):\n",
    "    train_one_epoch()\n",
    "    validate_one_epoch()"
   ]
  },
  {
   "cell_type": "markdown",
   "id": "3a9943be",
   "metadata": {},
   "source": [
    "# The error obtained by implementing the LSTM model using PyTorch is 2% after 10 epochs, i.e., an accuracy of 98%."
   ]
  },
  {
   "cell_type": "code",
   "execution_count": 141,
   "id": "765021d3",
   "metadata": {},
   "outputs": [
    {
     "data": {
      "image/png": "[encoded data removed]",
      "text/plain": [
       "<Figure size 640x480 with 1 Axes>"
      ]
     },
     "metadata": {},
     "output_type": "display_data"
    }
   ],
   "source": [
    "with torch.no_grad():\n",
    "    predicted = model(X_train.to(device)).to('cpu').numpy()\n",
    "\n",
    "plt.plot(y_train, label='Actual Close')\n",
    "plt.plot(predicted, label='Predicted Close')\n",
    "plt.xlabel('Day')\n",
    "plt.ylabel('load')\n",
    "plt.legend()\n",
    "plt.show()"
   ]
  },
  {
   "cell_type": "code",
   "execution_count": 142,
   "id": "2efc17d0",
   "metadata": {},
   "outputs": [
    {
     "data": {
      "image/png": "[encoded data removed]",
      "text/plain": [
       "<Figure size 640x480 with 1 Axes>"
      ]
     },
     "metadata": {},
     "output_type": "display_data"
    }
   ],
   "source": [
    "with torch.no_grad():\n",
    "    predicted = model(X_test.to(device)).to('cpu').numpy()\n",
    "\n",
    "plt.plot(y_test, label='Actual Close')\n",
    "plt.plot(predicted, label='Predicted Close')\n",
    "plt.xlabel('Day')\n",
    "plt.ylabel('load')\n",
    "plt.legend()\n",
    "plt.show()"
   ]
  },
  {
   "cell_type": "markdown",
   "id": "1bea9273",
   "metadata": {},
   "source": [
    "# Transformer"
   ]
  },
  {
   "cell_type": "code",
   "execution_count": 121,
   "id": "9097d0d3",
   "metadata": {},
   "outputs": [
    {
     "name": "stderr",
     "output_type": "stream",
     "text": [
      "C:\\Users\\Karthik\\anaconda3\\Lib\\site-packages\\torch\\nn\\modules\\transformer.py:286: UserWarning: enable_nested_tensor is True, but self.use_nested_tensor is False because encoder_layer.self_attn.batch_first was not True(use batch_first for better inference performance)\n",
      "  warnings.warn(f\"enable_nested_tensor is True, but self.use_nested_tensor is False because {why_not_sparsity_fast_path}\")\n"
     ]
    },
    {
     "name": "stdout",
     "output_type": "stream",
     "text": [
      "Epoch 1: Train loss 3.7577, Test loss 2.4239\n",
      "Epoch 2: Train loss 2.3740, Test loss 2.3177\n",
      "Epoch 3: Train loss 2.3434, Test loss 2.3154\n",
      "Epoch 4: Train loss 2.3448, Test loss 2.3150\n",
      "Epoch 5: Train loss 2.3479, Test loss 2.3105\n",
      "Epoch 6: Train loss 2.3373, Test loss 2.3196\n",
      "Epoch 7: Train loss 2.3366, Test loss 2.3144\n",
      "Epoch 8: Train loss 2.3345, Test loss 2.3308\n",
      "Epoch 9: Train loss 2.3318, Test loss 2.3299\n",
      "Epoch 10: Train loss 2.3266, Test loss 2.3211\n"
     ]
    },
    {
     "data": {
      "image/png": "[encoded data removed]",
      "text/plain": [
       "<Figure size 800x500 with 1 Axes>"
      ]
     },
     "metadata": {},
     "output_type": "display_data"
    }
   ],
   "source": [
    "import torch\n",
    "import torch.nn as nn\n",
    "import math\n",
    "from torch.utils.data import Dataset, DataLoader\n",
    "import matplotlib.pyplot as plt\n",
    "\n",
    "class TransformerModel(nn.Module):\n",
    "    def __init__(self, ntoken, ninp, nhead, nhid, nlayers, dropout=0.5):\n",
    "        super(TransformerModel, self).__init__()\n",
    "        self.model_type = 'Transformer'\n",
    "        self.pos_encoder = PositionalEncoding(ninp, dropout)\n",
    "        encoder_layers = nn.TransformerEncoderLayer(ninp, nhead, nhid, dropout)\n",
    "        self.transformer_encoder = nn.TransformerEncoder(encoder_layers, nlayers)\n",
    "        self.encoder = nn.Embedding(ntoken, ninp)\n",
    "        self.ninp = ninp\n",
    "        self.decoder = nn.Linear(ninp, ntoken)\n",
    "        self.init_weights()\n",
    "\n",
    "    def init_weights(self):\n",
    "        initrange = 0.1\n",
    "        self.encoder.weight.data.uniform_(-initrange, initrange)\n",
    "        self.decoder.weight.data.uniform_(-initrange, initrange)\n",
    "        self.decoder.bias.data.zero_()\n",
    "\n",
    "    def forward(self, src, src_mask=None):\n",
    "        src = self.encoder(src) * math.sqrt(self.ninp)\n",
    "        src = self.pos_encoder(src)\n",
    "        output = self.transformer_encoder(src, src_mask)\n",
    "        output = self.decoder(output)\n",
    "        return output\n",
    "\n",
    "class PositionalEncoding(nn.Module):\n",
    "    def __init__(self, d_model, dropout=0.1, max_len=5000):\n",
    "        super(PositionalEncoding, self).__init__()\n",
    "        self.dropout = nn.Dropout(p=dropout)\n",
    "        position = torch.arange(max_len).unsqueeze(1)\n",
    "        div_term = torch.exp(torch.arange(0, d_model, 2) * -(math.log(10000.0) / d_model))\n",
    "        pe = torch.zeros(max_len, d_model)\n",
    "        pe[:, 0::2] = torch.sin(position * div_term)\n",
    "        pe[:, 1::2] = torch.cos(position * div_term)\n",
    "        pe = pe.unsqueeze(0).transpose(0, 1)\n",
    "        self.register_buffer('pe', pe)\n",
    "\n",
    "    def forward(self, x):\n",
    "        x = x + self.pe[:x.size(0), :]\n",
    "        return self.dropout(x)\n",
    "\n",
    "class TextDataset(Dataset):\n",
    "    def __init__(self, X, y):\n",
    "        self.X = X\n",
    "        self.y = y\n",
    "\n",
    "    def __len__(self):\n",
    "        return len(self.X)\n",
    "\n",
    "    def __getitem__(self, idx):\n",
    "        return self.X[idx].clone().detach(), self.y[idx].clone().detach()\n",
    "\n",
    "ntokens = 10  \n",
    "ninp = 512\n",
    "nhead = 8\n",
    "nhid = 512\n",
    "nlayers = 6\n",
    "dropout = 0.1\n",
    "device = torch.device(\"cuda\" if torch.cuda.is_available() else \"cpu\")\n",
    "\n",
    "model = TransformerModel(ntokens, ninp, nhead, nhid, nlayers, dropout).to(device)\n",
    "criterion = nn.CrossEntropyLoss()\n",
    "optimizer = torch.optim.Adam(model.parameters(), lr=0.005)  # Consider adjusting learning rate\n",
    "\n",
    "X_train, y_train = torch.randint(0, ntokens, (1000, 30)), torch.randint(0, ntokens, (1000, 30))\n",
    "X_test, y_test = torch.randint(0, ntokens, (200, 30)), torch.randint(0, ntokens, (200, 30))\n",
    "train_dataset = TextDataset(X_train, y_train)\n",
    "test_dataset = TextDataset(X_test, y_test)\n",
    "train_loader = DataLoader(train_dataset, batch_size=32, shuffle=True)\n",
    "test_loader = DataLoader(test_dataset, batch_size=32, shuffle=False)\n",
    "\n",
    "def train_epoch(model, train_loader, optimizer, criterion, device):\n",
    "    model.train()\n",
    "    total_loss = 0\n",
    "    for X_batch, y_batch in train_loader:\n",
    "        X_batch, y_batch = X_batch.to(device), y_batch.to(device)\n",
    "        optimizer.zero_grad()\n",
    "        output = model(X_batch)\n",
    "        loss = criterion(output.view(-1, ntokens), y_batch.view(-1))\n",
    "        loss.backward()\n",
    "        optimizer.step()\n",
    "        total_loss += loss.item()\n",
    "    return total_loss / len(train_loader)\n",
    "\n",
    "def evaluate(model, test_loader, criterion, device):\n",
    "    model.eval()\n",
    "    total_loss = 0\n",
    "    with torch.no_grad():\n",
    "        for X_batch, y_batch in test_loader:\n",
    "            X_batch, y_batch = X_batch.to(device), y_batch.to(device)\n",
    "            output = model(X_batch)\n",
    "            loss = criterion(output.view(-1, ntokens), y_batch.view(-1))\n",
    "            total_loss += loss.item()\n",
    "    return total_loss / len(test_loader)\n",
    "\n",
    "train_losses = []\n",
    "test_losses = []\n",
    "num_epochs = 10\n",
    "for epoch in range(num_epochs):\n",
    "    train_loss = train_epoch(model, train_loader, optimizer, criterion, device)\n",
    "    test_loss = evaluate(model, test_loader, criterion, device)\n",
    "    train_losses.append(train_loss)\n",
    "    test_losses.append(test_loss)\n",
    "    print(f'Epoch {epoch+1}: Train loss {train_loss:.4f}, Test loss {test_loss:.4f}')\n",
    "\n",
    "\n",
    "plt.figure(figsize=(8, 5))\n",
    "plt.plot(train_losses, label='Train Loss')\n",
    "plt.plot(test_losses, label='Test Loss')\n",
    "plt.xlabel('Epoch')\n",
    "plt.ylabel('Loss')\n",
    "plt.title('Train vs Test Loss')\n",
    "plt.legend()\n",
    "plt.grid(True)\n",
    "plt.show()\n"
   ]
  },
  {
   "cell_type": "markdown",
   "id": "ad5f9555",
   "metadata": {},
   "source": []
  }
 ],
 "metadata": {
  "kernelspec": {
   "display_name": "Python 3 (ipykernel)",
   "language": "python",
   "name": "python3"
  },
  "language_info": {
   "codemirror_mode": {
    "name": "ipython",
    "version": 3
   },
   "file_extension": ".py",
   "mimetype": "text/x-python",
   "name": "python",
   "nbconvert_exporter": "python",
   "pygments_lexer": "ipython3",
   "version": "3.11.5"
  }
 },
 "nbformat": 4,
 "nbformat_minor": 5
}
