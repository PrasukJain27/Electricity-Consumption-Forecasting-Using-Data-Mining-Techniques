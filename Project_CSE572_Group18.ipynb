{
 "cells": [
  {
   "cell_type": "code",
   "execution_count": 3,
   "id": "fb804678",
   "metadata": {},
   "outputs": [],
   "source": [
    "import pandas as pd\n",
    "import matplotlib.pyplot as plt\n",
    "import matplotlib\n",
    "import sklearn\n",
    "from sklearn import metrics\n",
    "from sklearn.neighbors import KNeighborsRegressor\n",
    "from scipy.cluster.vq import kmeans, vq, whiten\n",
    "from scipy.spatial.distance import cdist\n",
    "import numpy as np\n",
    "from datetime import datetime"
   ]
  },
  {
   "cell_type": "code",
   "execution_count": 4,
   "id": "76b38877",
   "metadata": {},
   "outputs": [],
   "source": [
    "metadata_path = \"D:\\Data's\\metadata.csv\"\n",
    "weather_path = \"D:\\Data's\\weather.csv\"\n",
    "energy_path = \"D:\\Data's\\electricity_cleaned.csv\"\n",
    "df = pd.read_csv(energy_path, index_col='timestamp', parse_dates=True)"
   ]
  },
  {
   "cell_type": "code",
   "execution_count": 5,
   "id": "1451d6c0",
   "metadata": {},
   "outputs": [
    {
     "name": "stdout",
     "output_type": "stream",
     "text": [
      "<class 'pandas.core.frame.DataFrame'>\n",
      "DatetimeIndex: 17544 entries, 2016-01-01 00:00:00 to 2017-12-31 23:00:00\n",
      "Columns: 1578 entries, Panther_parking_Lorriane to Mouse_science_Micheal\n",
      "dtypes: float64(1578)\n",
      "memory usage: 211.3 MB\n"
     ]
    }
   ],
   "source": [
    "df.info()"
   ]
  },
  {
   "cell_type": "code",
   "execution_count": 6,
   "id": "de0ba22f",
   "metadata": {},
   "outputs": [
    {
     "data": {
      "text/html": [
       "<div>\n",
       "<style scoped>\n",
       "    .dataframe tbody tr th:only-of-type {\n",
       "        vertical-align: middle;\n",
       "    }\n",
       "\n",
       "    .dataframe tbody tr th {\n",
       "        vertical-align: top;\n",
       "    }\n",
       "\n",
       "    .dataframe thead th {\n",
       "        text-align: right;\n",
       "    }\n",
       "</style>\n",
       "<table border=\"1\" class=\"dataframe\">\n",
       "  <thead>\n",
       "    <tr style=\"text-align: right;\">\n",
       "      <th></th>\n",
       "      <th>Panther_parking_Lorriane</th>\n",
       "      <th>Panther_lodging_Cora</th>\n",
       "      <th>Panther_office_Hannah</th>\n",
       "      <th>Panther_lodging_Hattie</th>\n",
       "      <th>Panther_education_Teofila</th>\n",
       "      <th>Panther_education_Jerome</th>\n",
       "      <th>Panther_retail_Felix</th>\n",
       "      <th>Panther_parking_Asia</th>\n",
       "      <th>Panther_education_Misty</th>\n",
       "      <th>Panther_retail_Gilbert</th>\n",
       "      <th>...</th>\n",
       "      <th>Cockatoo_public_Caleb</th>\n",
       "      <th>Cockatoo_education_Tyler</th>\n",
       "      <th>Cockatoo_public_Shad</th>\n",
       "      <th>Mouse_health_Buddy</th>\n",
       "      <th>Mouse_health_Modesto</th>\n",
       "      <th>Mouse_lodging_Vicente</th>\n",
       "      <th>Mouse_health_Justin</th>\n",
       "      <th>Mouse_health_Ileana</th>\n",
       "      <th>Mouse_health_Estela</th>\n",
       "      <th>Mouse_science_Micheal</th>\n",
       "    </tr>\n",
       "    <tr>\n",
       "      <th>timestamp</th>\n",
       "      <th></th>\n",
       "      <th></th>\n",
       "      <th></th>\n",
       "      <th></th>\n",
       "      <th></th>\n",
       "      <th></th>\n",
       "      <th></th>\n",
       "      <th></th>\n",
       "      <th></th>\n",
       "      <th></th>\n",
       "      <th></th>\n",
       "      <th></th>\n",
       "      <th></th>\n",
       "      <th></th>\n",
       "      <th></th>\n",
       "      <th></th>\n",
       "      <th></th>\n",
       "      <th></th>\n",
       "      <th></th>\n",
       "      <th></th>\n",
       "      <th></th>\n",
       "    </tr>\n",
       "  </thead>\n",
       "  <tbody>\n",
       "    <tr>\n",
       "      <th>2016-01-01 00:00:00</th>\n",
       "      <td>NaN</td>\n",
       "      <td>NaN</td>\n",
       "      <td>NaN</td>\n",
       "      <td>NaN</td>\n",
       "      <td>NaN</td>\n",
       "      <td>NaN</td>\n",
       "      <td>NaN</td>\n",
       "      <td>NaN</td>\n",
       "      <td>NaN</td>\n",
       "      <td>NaN</td>\n",
       "      <td>...</td>\n",
       "      <td>123.200</td>\n",
       "      <td>727.575</td>\n",
       "      <td>69.200</td>\n",
       "      <td>8.8224</td>\n",
       "      <td>370.0870</td>\n",
       "      <td>10.0</td>\n",
       "      <td>282.9965</td>\n",
       "      <td>26.0</td>\n",
       "      <td>135.0</td>\n",
       "      <td>168.2243</td>\n",
       "    </tr>\n",
       "    <tr>\n",
       "      <th>2016-01-01 01:00:00</th>\n",
       "      <td>NaN</td>\n",
       "      <td>NaN</td>\n",
       "      <td>NaN</td>\n",
       "      <td>NaN</td>\n",
       "      <td>NaN</td>\n",
       "      <td>NaN</td>\n",
       "      <td>NaN</td>\n",
       "      <td>NaN</td>\n",
       "      <td>NaN</td>\n",
       "      <td>NaN</td>\n",
       "      <td>...</td>\n",
       "      <td>126.475</td>\n",
       "      <td>731.200</td>\n",
       "      <td>66.275</td>\n",
       "      <td>17.6449</td>\n",
       "      <td>737.8260</td>\n",
       "      <td>30.0</td>\n",
       "      <td>574.9265</td>\n",
       "      <td>51.0</td>\n",
       "      <td>265.0</td>\n",
       "      <td>336.4486</td>\n",
       "    </tr>\n",
       "    <tr>\n",
       "      <th>2016-01-01 02:00:00</th>\n",
       "      <td>NaN</td>\n",
       "      <td>NaN</td>\n",
       "      <td>NaN</td>\n",
       "      <td>NaN</td>\n",
       "      <td>NaN</td>\n",
       "      <td>NaN</td>\n",
       "      <td>NaN</td>\n",
       "      <td>NaN</td>\n",
       "      <td>NaN</td>\n",
       "      <td>NaN</td>\n",
       "      <td>...</td>\n",
       "      <td>127.825</td>\n",
       "      <td>724.675</td>\n",
       "      <td>64.675</td>\n",
       "      <td>17.6449</td>\n",
       "      <td>729.9255</td>\n",
       "      <td>30.0</td>\n",
       "      <td>570.2780</td>\n",
       "      <td>50.0</td>\n",
       "      <td>272.0</td>\n",
       "      <td>336.4486</td>\n",
       "    </tr>\n",
       "    <tr>\n",
       "      <th>2016-01-01 03:00:00</th>\n",
       "      <td>NaN</td>\n",
       "      <td>NaN</td>\n",
       "      <td>NaN</td>\n",
       "      <td>NaN</td>\n",
       "      <td>NaN</td>\n",
       "      <td>NaN</td>\n",
       "      <td>NaN</td>\n",
       "      <td>NaN</td>\n",
       "      <td>NaN</td>\n",
       "      <td>NaN</td>\n",
       "      <td>...</td>\n",
       "      <td>130.475</td>\n",
       "      <td>737.375</td>\n",
       "      <td>65.875</td>\n",
       "      <td>17.6449</td>\n",
       "      <td>722.2620</td>\n",
       "      <td>20.0</td>\n",
       "      <td>561.1470</td>\n",
       "      <td>52.0</td>\n",
       "      <td>276.0</td>\n",
       "      <td>336.4486</td>\n",
       "    </tr>\n",
       "    <tr>\n",
       "      <th>2016-01-01 04:00:00</th>\n",
       "      <td>NaN</td>\n",
       "      <td>NaN</td>\n",
       "      <td>NaN</td>\n",
       "      <td>NaN</td>\n",
       "      <td>NaN</td>\n",
       "      <td>NaN</td>\n",
       "      <td>NaN</td>\n",
       "      <td>NaN</td>\n",
       "      <td>NaN</td>\n",
       "      <td>NaN</td>\n",
       "      <td>...</td>\n",
       "      <td>129.675</td>\n",
       "      <td>721.150</td>\n",
       "      <td>66.275</td>\n",
       "      <td>17.6449</td>\n",
       "      <td>719.1665</td>\n",
       "      <td>30.0</td>\n",
       "      <td>564.3695</td>\n",
       "      <td>50.0</td>\n",
       "      <td>280.0</td>\n",
       "      <td>336.4486</td>\n",
       "    </tr>\n",
       "  </tbody>\n",
       "</table>\n",
       "<p>5 rows × 1578 columns</p>\n",
       "</div>"
      ],
      "text/plain": [
       "                     Panther_parking_Lorriane  Panther_lodging_Cora  \\\n",
       "timestamp                                                             \n",
       "2016-01-01 00:00:00                       NaN                   NaN   \n",
       "2016-01-01 01:00:00                       NaN                   NaN   \n",
       "2016-01-01 02:00:00                       NaN                   NaN   \n",
       "2016-01-01 03:00:00                       NaN                   NaN   \n",
       "2016-01-01 04:00:00                       NaN                   NaN   \n",
       "\n",
       "                     Panther_office_Hannah  Panther_lodging_Hattie  \\\n",
       "timestamp                                                            \n",
       "2016-01-01 00:00:00                    NaN                     NaN   \n",
       "2016-01-01 01:00:00                    NaN                     NaN   \n",
       "2016-01-01 02:00:00                    NaN                     NaN   \n",
       "2016-01-01 03:00:00                    NaN                     NaN   \n",
       "2016-01-01 04:00:00                    NaN                     NaN   \n",
       "\n",
       "                     Panther_education_Teofila  Panther_education_Jerome  \\\n",
       "timestamp                                                                  \n",
       "2016-01-01 00:00:00                        NaN                       NaN   \n",
       "2016-01-01 01:00:00                        NaN                       NaN   \n",
       "2016-01-01 02:00:00                        NaN                       NaN   \n",
       "2016-01-01 03:00:00                        NaN                       NaN   \n",
       "2016-01-01 04:00:00                        NaN                       NaN   \n",
       "\n",
       "                     Panther_retail_Felix  Panther_parking_Asia  \\\n",
       "timestamp                                                         \n",
       "2016-01-01 00:00:00                   NaN                   NaN   \n",
       "2016-01-01 01:00:00                   NaN                   NaN   \n",
       "2016-01-01 02:00:00                   NaN                   NaN   \n",
       "2016-01-01 03:00:00                   NaN                   NaN   \n",
       "2016-01-01 04:00:00                   NaN                   NaN   \n",
       "\n",
       "                     Panther_education_Misty  Panther_retail_Gilbert  ...  \\\n",
       "timestamp                                                             ...   \n",
       "2016-01-01 00:00:00                      NaN                     NaN  ...   \n",
       "2016-01-01 01:00:00                      NaN                     NaN  ...   \n",
       "2016-01-01 02:00:00                      NaN                     NaN  ...   \n",
       "2016-01-01 03:00:00                      NaN                     NaN  ...   \n",
       "2016-01-01 04:00:00                      NaN                     NaN  ...   \n",
       "\n",
       "                     Cockatoo_public_Caleb  Cockatoo_education_Tyler  \\\n",
       "timestamp                                                              \n",
       "2016-01-01 00:00:00                123.200                   727.575   \n",
       "2016-01-01 01:00:00                126.475                   731.200   \n",
       "2016-01-01 02:00:00                127.825                   724.675   \n",
       "2016-01-01 03:00:00                130.475                   737.375   \n",
       "2016-01-01 04:00:00                129.675                   721.150   \n",
       "\n",
       "                     Cockatoo_public_Shad  Mouse_health_Buddy  \\\n",
       "timestamp                                                       \n",
       "2016-01-01 00:00:00                69.200              8.8224   \n",
       "2016-01-01 01:00:00                66.275             17.6449   \n",
       "2016-01-01 02:00:00                64.675             17.6449   \n",
       "2016-01-01 03:00:00                65.875             17.6449   \n",
       "2016-01-01 04:00:00                66.275             17.6449   \n",
       "\n",
       "                     Mouse_health_Modesto  Mouse_lodging_Vicente  \\\n",
       "timestamp                                                          \n",
       "2016-01-01 00:00:00              370.0870                   10.0   \n",
       "2016-01-01 01:00:00              737.8260                   30.0   \n",
       "2016-01-01 02:00:00              729.9255                   30.0   \n",
       "2016-01-01 03:00:00              722.2620                   20.0   \n",
       "2016-01-01 04:00:00              719.1665                   30.0   \n",
       "\n",
       "                     Mouse_health_Justin  Mouse_health_Ileana  \\\n",
       "timestamp                                                       \n",
       "2016-01-01 00:00:00             282.9965                 26.0   \n",
       "2016-01-01 01:00:00             574.9265                 51.0   \n",
       "2016-01-01 02:00:00             570.2780                 50.0   \n",
       "2016-01-01 03:00:00             561.1470                 52.0   \n",
       "2016-01-01 04:00:00             564.3695                 50.0   \n",
       "\n",
       "                     Mouse_health_Estela  Mouse_science_Micheal  \n",
       "timestamp                                                        \n",
       "2016-01-01 00:00:00                135.0               168.2243  \n",
       "2016-01-01 01:00:00                265.0               336.4486  \n",
       "2016-01-01 02:00:00                272.0               336.4486  \n",
       "2016-01-01 03:00:00                276.0               336.4486  \n",
       "2016-01-01 04:00:00                280.0               336.4486  \n",
       "\n",
       "[5 rows x 1578 columns]"
      ]
     },
     "execution_count": 6,
     "metadata": {},
     "output_type": "execute_result"
    }
   ],
   "source": [
    "df.head()"
   ]
  },
  {
   "cell_type": "code",
   "execution_count": 7,
   "id": "5712bc3c",
   "metadata": {},
   "outputs": [],
   "source": [
    "#building_name = 'Panther_office_Lois'\n",
    "building_name ='Panther_office_Catherine'"
   ]
  },
  {
   "cell_type": "code",
   "execution_count": null,
   "id": "b857720d",
   "metadata": {},
   "outputs": [],
   "source": []
  },
  {
   "cell_type": "code",
   "execution_count": 8,
   "id": "dc11b1c1",
   "metadata": {},
   "outputs": [
    {
     "data": {
      "text/html": [
       "<div>\n",
       "<style scoped>\n",
       "    .dataframe tbody tr th:only-of-type {\n",
       "        vertical-align: middle;\n",
       "    }\n",
       "\n",
       "    .dataframe tbody tr th {\n",
       "        vertical-align: top;\n",
       "    }\n",
       "\n",
       "    .dataframe thead th {\n",
       "        text-align: right;\n",
       "    }\n",
       "</style>\n",
       "<table border=\"1\" class=\"dataframe\">\n",
       "  <thead>\n",
       "    <tr style=\"text-align: right;\">\n",
       "      <th></th>\n",
       "      <th>Panther_office_Catherine</th>\n",
       "    </tr>\n",
       "    <tr>\n",
       "      <th>timestamp</th>\n",
       "      <th></th>\n",
       "    </tr>\n",
       "  </thead>\n",
       "  <tbody>\n",
       "    <tr>\n",
       "      <th>2017-01-01 00:00:00</th>\n",
       "      <td>17.6434</td>\n",
       "    </tr>\n",
       "    <tr>\n",
       "      <th>2017-01-01 01:00:00</th>\n",
       "      <td>18.3635</td>\n",
       "    </tr>\n",
       "    <tr>\n",
       "      <th>2017-01-01 02:00:00</th>\n",
       "      <td>17.8435</td>\n",
       "    </tr>\n",
       "    <tr>\n",
       "      <th>2017-01-01 03:00:00</th>\n",
       "      <td>18.6836</td>\n",
       "    </tr>\n",
       "    <tr>\n",
       "      <th>2017-01-01 04:00:00</th>\n",
       "      <td>17.6834</td>\n",
       "    </tr>\n",
       "    <tr>\n",
       "      <th>...</th>\n",
       "      <td>...</td>\n",
       "    </tr>\n",
       "    <tr>\n",
       "      <th>2017-12-31 19:00:00</th>\n",
       "      <td>71.0937</td>\n",
       "    </tr>\n",
       "    <tr>\n",
       "      <th>2017-12-31 20:00:00</th>\n",
       "      <td>74.0543</td>\n",
       "    </tr>\n",
       "    <tr>\n",
       "      <th>2017-12-31 21:00:00</th>\n",
       "      <td>64.2524</td>\n",
       "    </tr>\n",
       "    <tr>\n",
       "      <th>2017-12-31 22:00:00</th>\n",
       "      <td>58.7713</td>\n",
       "    </tr>\n",
       "    <tr>\n",
       "      <th>2017-12-31 23:00:00</th>\n",
       "      <td>28.6855</td>\n",
       "    </tr>\n",
       "  </tbody>\n",
       "</table>\n",
       "<p>8760 rows × 1 columns</p>\n",
       "</div>"
      ],
      "text/plain": [
       "                     Panther_office_Catherine\n",
       "timestamp                                    \n",
       "2017-01-01 00:00:00                   17.6434\n",
       "2017-01-01 01:00:00                   18.3635\n",
       "2017-01-01 02:00:00                   17.8435\n",
       "2017-01-01 03:00:00                   18.6836\n",
       "2017-01-01 04:00:00                   17.6834\n",
       "...                                       ...\n",
       "2017-12-31 19:00:00                   71.0937\n",
       "2017-12-31 20:00:00                   74.0543\n",
       "2017-12-31 21:00:00                   64.2524\n",
       "2017-12-31 22:00:00                   58.7713\n",
       "2017-12-31 23:00:00                   28.6855\n",
       "\n",
       "[8760 rows x 1 columns]"
      ]
     },
     "execution_count": 8,
     "metadata": {},
     "output_type": "execute_result"
    }
   ],
   "source": [
    "office_data = pd.DataFrame(df[building_name].truncate(before='2017-01-01'))\n",
    "office_data.interpolate(method='nearest')"
   ]
  },
  {
   "cell_type": "code",
   "execution_count": 9,
   "id": "57ae870b",
   "metadata": {},
   "outputs": [
    {
     "name": "stdout",
     "output_type": "stream",
     "text": [
      "<class 'pandas.core.frame.DataFrame'>\n",
      "DatetimeIndex: 8760 entries, 2017-01-01 00:00:00 to 2017-12-31 23:00:00\n",
      "Data columns (total 1 columns):\n",
      " #   Column                    Non-Null Count  Dtype  \n",
      "---  ------                    --------------  -----  \n",
      " 0   Panther_office_Catherine  8748 non-null   float64\n",
      "dtypes: float64(1)\n",
      "memory usage: 136.9 KB\n"
     ]
    }
   ],
   "source": [
    "office_data.info()"
   ]
  },
  {
   "cell_type": "code",
   "execution_count": 10,
   "id": "49377e39",
   "metadata": {},
   "outputs": [
    {
     "data": {
      "text/html": [
       "<div>\n",
       "<style scoped>\n",
       "    .dataframe tbody tr th:only-of-type {\n",
       "        vertical-align: middle;\n",
       "    }\n",
       "\n",
       "    .dataframe tbody tr th {\n",
       "        vertical-align: top;\n",
       "    }\n",
       "\n",
       "    .dataframe thead th {\n",
       "        text-align: right;\n",
       "    }\n",
       "</style>\n",
       "<table border=\"1\" class=\"dataframe\">\n",
       "  <thead>\n",
       "    <tr style=\"text-align: right;\">\n",
       "      <th></th>\n",
       "      <th>Panther_office_Catherine</th>\n",
       "    </tr>\n",
       "    <tr>\n",
       "      <th>timestamp</th>\n",
       "      <th></th>\n",
       "    </tr>\n",
       "  </thead>\n",
       "  <tbody>\n",
       "    <tr>\n",
       "      <th>2017-01-01 00:00:00</th>\n",
       "      <td>17.6434</td>\n",
       "    </tr>\n",
       "    <tr>\n",
       "      <th>2017-01-01 01:00:00</th>\n",
       "      <td>18.3635</td>\n",
       "    </tr>\n",
       "    <tr>\n",
       "      <th>2017-01-01 02:00:00</th>\n",
       "      <td>17.8435</td>\n",
       "    </tr>\n",
       "    <tr>\n",
       "      <th>2017-01-01 03:00:00</th>\n",
       "      <td>18.6836</td>\n",
       "    </tr>\n",
       "    <tr>\n",
       "      <th>2017-01-01 04:00:00</th>\n",
       "      <td>17.6834</td>\n",
       "    </tr>\n",
       "  </tbody>\n",
       "</table>\n",
       "</div>"
      ],
      "text/plain": [
       "                     Panther_office_Catherine\n",
       "timestamp                                    \n",
       "2017-01-01 00:00:00                   17.6434\n",
       "2017-01-01 01:00:00                   18.3635\n",
       "2017-01-01 02:00:00                   17.8435\n",
       "2017-01-01 03:00:00                   18.6836\n",
       "2017-01-01 04:00:00                   17.6834"
      ]
     },
     "execution_count": 10,
     "metadata": {},
     "output_type": "execute_result"
    }
   ],
   "source": [
    "office_data.head()"
   ]
  },
  {
   "cell_type": "code",
   "execution_count": 11,
   "id": "48b8aaad",
   "metadata": {},
   "outputs": [
    {
     "data": {
      "text/plain": [
       "<Axes: xlabel='timestamp'>"
      ]
     },
     "execution_count": 11,
     "metadata": {},
     "output_type": "execute_result"
    },
    {
     "data": {
      "image/png": "[encoded data removed]",
      "text/plain": [
       "<Figure size 640x480 with 1 Axes>"
      ]
     },
     "metadata": {},
     "output_type": "display_data"
    }
   ],
   "source": [
    "office_data.plot()"
   ]
  },
  {
   "cell_type": "code",
   "execution_count": 12,
   "id": "84104189",
   "metadata": {},
   "outputs": [],
   "source": [
    "weather_data = pd.read_csv(weather_path, index_col='timestamp', parse_dates=True)"
   ]
  },
  {
   "cell_type": "code",
   "execution_count": 13,
   "id": "137f598e",
   "metadata": {},
   "outputs": [
    {
     "data": {
      "text/html": [
       "<div>\n",
       "<style scoped>\n",
       "    .dataframe tbody tr th:only-of-type {\n",
       "        vertical-align: middle;\n",
       "    }\n",
       "\n",
       "    .dataframe tbody tr th {\n",
       "        vertical-align: top;\n",
       "    }\n",
       "\n",
       "    .dataframe thead th {\n",
       "        text-align: right;\n",
       "    }\n",
       "</style>\n",
       "<table border=\"1\" class=\"dataframe\">\n",
       "  <thead>\n",
       "    <tr style=\"text-align: right;\">\n",
       "      <th></th>\n",
       "      <th>site_id</th>\n",
       "      <th>airTemperature</th>\n",
       "      <th>cloudCoverage</th>\n",
       "      <th>dewTemperature</th>\n",
       "      <th>precipDepth1HR</th>\n",
       "      <th>precipDepth6HR</th>\n",
       "      <th>seaLvlPressure</th>\n",
       "      <th>windDirection</th>\n",
       "      <th>windSpeed</th>\n",
       "    </tr>\n",
       "    <tr>\n",
       "      <th>timestamp</th>\n",
       "      <th></th>\n",
       "      <th></th>\n",
       "      <th></th>\n",
       "      <th></th>\n",
       "      <th></th>\n",
       "      <th></th>\n",
       "      <th></th>\n",
       "      <th></th>\n",
       "      <th></th>\n",
       "    </tr>\n",
       "  </thead>\n",
       "  <tbody>\n",
       "    <tr>\n",
       "      <th>2016-01-01 00:00:00</th>\n",
       "      <td>Panther</td>\n",
       "      <td>19.4</td>\n",
       "      <td>NaN</td>\n",
       "      <td>19.4</td>\n",
       "      <td>0.0</td>\n",
       "      <td>NaN</td>\n",
       "      <td>NaN</td>\n",
       "      <td>0.0</td>\n",
       "      <td>0.0</td>\n",
       "    </tr>\n",
       "    <tr>\n",
       "      <th>2016-01-01 01:00:00</th>\n",
       "      <td>Panther</td>\n",
       "      <td>21.1</td>\n",
       "      <td>6.0</td>\n",
       "      <td>21.1</td>\n",
       "      <td>-1.0</td>\n",
       "      <td>NaN</td>\n",
       "      <td>1019.4</td>\n",
       "      <td>0.0</td>\n",
       "      <td>0.0</td>\n",
       "    </tr>\n",
       "    <tr>\n",
       "      <th>2016-01-01 02:00:00</th>\n",
       "      <td>Panther</td>\n",
       "      <td>21.1</td>\n",
       "      <td>NaN</td>\n",
       "      <td>21.1</td>\n",
       "      <td>0.0</td>\n",
       "      <td>NaN</td>\n",
       "      <td>1018.8</td>\n",
       "      <td>210.0</td>\n",
       "      <td>1.5</td>\n",
       "    </tr>\n",
       "    <tr>\n",
       "      <th>2016-01-01 03:00:00</th>\n",
       "      <td>Panther</td>\n",
       "      <td>20.6</td>\n",
       "      <td>NaN</td>\n",
       "      <td>20.0</td>\n",
       "      <td>0.0</td>\n",
       "      <td>NaN</td>\n",
       "      <td>1018.1</td>\n",
       "      <td>0.0</td>\n",
       "      <td>0.0</td>\n",
       "    </tr>\n",
       "    <tr>\n",
       "      <th>2016-01-01 04:00:00</th>\n",
       "      <td>Panther</td>\n",
       "      <td>21.1</td>\n",
       "      <td>NaN</td>\n",
       "      <td>20.6</td>\n",
       "      <td>0.0</td>\n",
       "      <td>NaN</td>\n",
       "      <td>1019.0</td>\n",
       "      <td>290.0</td>\n",
       "      <td>1.5</td>\n",
       "    </tr>\n",
       "  </tbody>\n",
       "</table>\n",
       "</div>"
      ],
      "text/plain": [
       "                     site_id  airTemperature  cloudCoverage  dewTemperature  \\\n",
       "timestamp                                                                     \n",
       "2016-01-01 00:00:00  Panther            19.4            NaN            19.4   \n",
       "2016-01-01 01:00:00  Panther            21.1            6.0            21.1   \n",
       "2016-01-01 02:00:00  Panther            21.1            NaN            21.1   \n",
       "2016-01-01 03:00:00  Panther            20.6            NaN            20.0   \n",
       "2016-01-01 04:00:00  Panther            21.1            NaN            20.6   \n",
       "\n",
       "                     precipDepth1HR  precipDepth6HR  seaLvlPressure  \\\n",
       "timestamp                                                             \n",
       "2016-01-01 00:00:00             0.0             NaN             NaN   \n",
       "2016-01-01 01:00:00            -1.0             NaN          1019.4   \n",
       "2016-01-01 02:00:00             0.0             NaN          1018.8   \n",
       "2016-01-01 03:00:00             0.0             NaN          1018.1   \n",
       "2016-01-01 04:00:00             0.0             NaN          1019.0   \n",
       "\n",
       "                     windDirection  windSpeed  \n",
       "timestamp                                      \n",
       "2016-01-01 00:00:00            0.0        0.0  \n",
       "2016-01-01 01:00:00            0.0        0.0  \n",
       "2016-01-01 02:00:00          210.0        1.5  \n",
       "2016-01-01 03:00:00            0.0        0.0  \n",
       "2016-01-01 04:00:00          290.0        1.5  "
      ]
     },
     "execution_count": 13,
     "metadata": {},
     "output_type": "execute_result"
    }
   ],
   "source": [
    "weather_data.head()"
   ]
  },
  {
   "cell_type": "code",
   "execution_count": 14,
   "id": "1ac24c56",
   "metadata": {},
   "outputs": [],
   "source": [
    "weather_site = weather_data[weather_data.site_id == 'Panther'].truncate(before='2017-01-01')"
   ]
  },
  {
   "cell_type": "code",
   "execution_count": 16,
   "id": "48cdd512",
   "metadata": {},
   "outputs": [],
   "source": [
    "weather_site=weather_site.fillna(method='ffill')"
   ]
  },
  {
   "cell_type": "code",
   "execution_count": 17,
   "id": "578020ac",
   "metadata": {},
   "outputs": [
    {
     "data": {
      "text/html": [
       "<div>\n",
       "<style scoped>\n",
       "    .dataframe tbody tr th:only-of-type {\n",
       "        vertical-align: middle;\n",
       "    }\n",
       "\n",
       "    .dataframe tbody tr th {\n",
       "        vertical-align: top;\n",
       "    }\n",
       "\n",
       "    .dataframe thead th {\n",
       "        text-align: right;\n",
       "    }\n",
       "</style>\n",
       "<table border=\"1\" class=\"dataframe\">\n",
       "  <thead>\n",
       "    <tr style=\"text-align: right;\">\n",
       "      <th></th>\n",
       "      <th>site_id</th>\n",
       "      <th>airTemperature</th>\n",
       "      <th>cloudCoverage</th>\n",
       "      <th>dewTemperature</th>\n",
       "      <th>precipDepth1HR</th>\n",
       "      <th>precipDepth6HR</th>\n",
       "      <th>seaLvlPressure</th>\n",
       "      <th>windDirection</th>\n",
       "      <th>windSpeed</th>\n",
       "    </tr>\n",
       "    <tr>\n",
       "      <th>timestamp</th>\n",
       "      <th></th>\n",
       "      <th></th>\n",
       "      <th></th>\n",
       "      <th></th>\n",
       "      <th></th>\n",
       "      <th></th>\n",
       "      <th></th>\n",
       "      <th></th>\n",
       "      <th></th>\n",
       "    </tr>\n",
       "  </thead>\n",
       "  <tbody>\n",
       "    <tr>\n",
       "      <th>2017-01-01 00:00:00</th>\n",
       "      <td>Panther</td>\n",
       "      <td>15.6</td>\n",
       "      <td>2.0</td>\n",
       "      <td>12.8</td>\n",
       "      <td>0.0</td>\n",
       "      <td>NaN</td>\n",
       "      <td>1022.1</td>\n",
       "      <td>130.0</td>\n",
       "      <td>2.1</td>\n",
       "    </tr>\n",
       "    <tr>\n",
       "      <th>2017-01-01 01:00:00</th>\n",
       "      <td>Panther</td>\n",
       "      <td>15.0</td>\n",
       "      <td>0.0</td>\n",
       "      <td>12.8</td>\n",
       "      <td>0.0</td>\n",
       "      <td>NaN</td>\n",
       "      <td>1021.7</td>\n",
       "      <td>150.0</td>\n",
       "      <td>1.5</td>\n",
       "    </tr>\n",
       "    <tr>\n",
       "      <th>2017-01-01 02:00:00</th>\n",
       "      <td>Panther</td>\n",
       "      <td>15.0</td>\n",
       "      <td>2.0</td>\n",
       "      <td>13.3</td>\n",
       "      <td>0.0</td>\n",
       "      <td>NaN</td>\n",
       "      <td>1021.6</td>\n",
       "      <td>0.0</td>\n",
       "      <td>0.0</td>\n",
       "    </tr>\n",
       "    <tr>\n",
       "      <th>2017-01-01 03:00:00</th>\n",
       "      <td>Panther</td>\n",
       "      <td>13.3</td>\n",
       "      <td>0.0</td>\n",
       "      <td>12.2</td>\n",
       "      <td>0.0</td>\n",
       "      <td>NaN</td>\n",
       "      <td>1021.4</td>\n",
       "      <td>0.0</td>\n",
       "      <td>0.0</td>\n",
       "    </tr>\n",
       "    <tr>\n",
       "      <th>2017-01-01 04:00:00</th>\n",
       "      <td>Panther</td>\n",
       "      <td>12.2</td>\n",
       "      <td>4.0</td>\n",
       "      <td>11.7</td>\n",
       "      <td>0.0</td>\n",
       "      <td>NaN</td>\n",
       "      <td>1021.4</td>\n",
       "      <td>0.0</td>\n",
       "      <td>0.0</td>\n",
       "    </tr>\n",
       "  </tbody>\n",
       "</table>\n",
       "</div>"
      ],
      "text/plain": [
       "                     site_id  airTemperature  cloudCoverage  dewTemperature  \\\n",
       "timestamp                                                                     \n",
       "2017-01-01 00:00:00  Panther            15.6            2.0            12.8   \n",
       "2017-01-01 01:00:00  Panther            15.0            0.0            12.8   \n",
       "2017-01-01 02:00:00  Panther            15.0            2.0            13.3   \n",
       "2017-01-01 03:00:00  Panther            13.3            0.0            12.2   \n",
       "2017-01-01 04:00:00  Panther            12.2            4.0            11.7   \n",
       "\n",
       "                     precipDepth1HR  precipDepth6HR  seaLvlPressure  \\\n",
       "timestamp                                                             \n",
       "2017-01-01 00:00:00             0.0             NaN          1022.1   \n",
       "2017-01-01 01:00:00             0.0             NaN          1021.7   \n",
       "2017-01-01 02:00:00             0.0             NaN          1021.6   \n",
       "2017-01-01 03:00:00             0.0             NaN          1021.4   \n",
       "2017-01-01 04:00:00             0.0             NaN          1021.4   \n",
       "\n",
       "                     windDirection  windSpeed  \n",
       "timestamp                                      \n",
       "2017-01-01 00:00:00          130.0        2.1  \n",
       "2017-01-01 01:00:00          150.0        1.5  \n",
       "2017-01-01 02:00:00            0.0        0.0  \n",
       "2017-01-01 03:00:00            0.0        0.0  \n",
       "2017-01-01 04:00:00            0.0        0.0  "
      ]
     },
     "execution_count": 17,
     "metadata": {},
     "output_type": "execute_result"
    }
   ],
   "source": [
    "weather_site.head()"
   ]
  },
  {
   "cell_type": "code",
   "execution_count": 18,
   "id": "f1a3c253",
   "metadata": {},
   "outputs": [
    {
     "data": {
      "text/plain": [
       "(8760, 9)"
      ]
     },
     "execution_count": 18,
     "metadata": {},
     "output_type": "execute_result"
    }
   ],
   "source": [
    "weather_site.shape"
   ]
  },
  {
   "cell_type": "code",
   "execution_count": 19,
   "id": "86d4b355",
   "metadata": {},
   "outputs": [],
   "source": [
    "number_data = weather_site.select_dtypes(include='number')\n",
    "weather_hourly = number_data.resample(\"H\").mean()\n",
    "\n"
   ]
  },
  {
   "cell_type": "code",
   "execution_count": 20,
   "id": "649ea657",
   "metadata": {},
   "outputs": [
    {
     "data": {
      "text/html": [
       "<div>\n",
       "<style scoped>\n",
       "    .dataframe tbody tr th:only-of-type {\n",
       "        vertical-align: middle;\n",
       "    }\n",
       "\n",
       "    .dataframe tbody tr th {\n",
       "        vertical-align: top;\n",
       "    }\n",
       "\n",
       "    .dataframe thead th {\n",
       "        text-align: right;\n",
       "    }\n",
       "</style>\n",
       "<table border=\"1\" class=\"dataframe\">\n",
       "  <thead>\n",
       "    <tr style=\"text-align: right;\">\n",
       "      <th></th>\n",
       "      <th>airTemperature</th>\n",
       "      <th>cloudCoverage</th>\n",
       "      <th>dewTemperature</th>\n",
       "      <th>precipDepth1HR</th>\n",
       "      <th>precipDepth6HR</th>\n",
       "      <th>seaLvlPressure</th>\n",
       "      <th>windDirection</th>\n",
       "      <th>windSpeed</th>\n",
       "    </tr>\n",
       "    <tr>\n",
       "      <th>timestamp</th>\n",
       "      <th></th>\n",
       "      <th></th>\n",
       "      <th></th>\n",
       "      <th></th>\n",
       "      <th></th>\n",
       "      <th></th>\n",
       "      <th></th>\n",
       "      <th></th>\n",
       "    </tr>\n",
       "  </thead>\n",
       "  <tbody>\n",
       "    <tr>\n",
       "      <th>2017-01-01 00:00:00</th>\n",
       "      <td>15.6</td>\n",
       "      <td>2.0</td>\n",
       "      <td>12.8</td>\n",
       "      <td>0.0</td>\n",
       "      <td>NaN</td>\n",
       "      <td>1022.1</td>\n",
       "      <td>130.0</td>\n",
       "      <td>2.1</td>\n",
       "    </tr>\n",
       "    <tr>\n",
       "      <th>2017-01-01 01:00:00</th>\n",
       "      <td>15.0</td>\n",
       "      <td>0.0</td>\n",
       "      <td>12.8</td>\n",
       "      <td>0.0</td>\n",
       "      <td>NaN</td>\n",
       "      <td>1021.7</td>\n",
       "      <td>150.0</td>\n",
       "      <td>1.5</td>\n",
       "    </tr>\n",
       "    <tr>\n",
       "      <th>2017-01-01 02:00:00</th>\n",
       "      <td>15.0</td>\n",
       "      <td>2.0</td>\n",
       "      <td>13.3</td>\n",
       "      <td>0.0</td>\n",
       "      <td>NaN</td>\n",
       "      <td>1021.6</td>\n",
       "      <td>0.0</td>\n",
       "      <td>0.0</td>\n",
       "    </tr>\n",
       "    <tr>\n",
       "      <th>2017-01-01 03:00:00</th>\n",
       "      <td>13.3</td>\n",
       "      <td>0.0</td>\n",
       "      <td>12.2</td>\n",
       "      <td>0.0</td>\n",
       "      <td>NaN</td>\n",
       "      <td>1021.4</td>\n",
       "      <td>0.0</td>\n",
       "      <td>0.0</td>\n",
       "    </tr>\n",
       "    <tr>\n",
       "      <th>2017-01-01 04:00:00</th>\n",
       "      <td>12.2</td>\n",
       "      <td>4.0</td>\n",
       "      <td>11.7</td>\n",
       "      <td>0.0</td>\n",
       "      <td>NaN</td>\n",
       "      <td>1021.4</td>\n",
       "      <td>0.0</td>\n",
       "      <td>0.0</td>\n",
       "    </tr>\n",
       "  </tbody>\n",
       "</table>\n",
       "</div>"
      ],
      "text/plain": [
       "                     airTemperature  cloudCoverage  dewTemperature  \\\n",
       "timestamp                                                            \n",
       "2017-01-01 00:00:00            15.6            2.0            12.8   \n",
       "2017-01-01 01:00:00            15.0            0.0            12.8   \n",
       "2017-01-01 02:00:00            15.0            2.0            13.3   \n",
       "2017-01-01 03:00:00            13.3            0.0            12.2   \n",
       "2017-01-01 04:00:00            12.2            4.0            11.7   \n",
       "\n",
       "                     precipDepth1HR  precipDepth6HR  seaLvlPressure  \\\n",
       "timestamp                                                             \n",
       "2017-01-01 00:00:00             0.0             NaN          1022.1   \n",
       "2017-01-01 01:00:00             0.0             NaN          1021.7   \n",
       "2017-01-01 02:00:00             0.0             NaN          1021.6   \n",
       "2017-01-01 03:00:00             0.0             NaN          1021.4   \n",
       "2017-01-01 04:00:00             0.0             NaN          1021.4   \n",
       "\n",
       "                     windDirection  windSpeed  \n",
       "timestamp                                      \n",
       "2017-01-01 00:00:00          130.0        2.1  \n",
       "2017-01-01 01:00:00          150.0        1.5  \n",
       "2017-01-01 02:00:00            0.0        0.0  \n",
       "2017-01-01 03:00:00            0.0        0.0  \n",
       "2017-01-01 04:00:00            0.0        0.0  "
      ]
     },
     "execution_count": 20,
     "metadata": {},
     "output_type": "execute_result"
    }
   ],
   "source": [
    "weather_hourly.head()"
   ]
  },
  {
   "cell_type": "code",
   "execution_count": 21,
   "id": "a18dc709",
   "metadata": {},
   "outputs": [
    {
     "data": {
      "text/plain": [
       "(8760, 8)"
      ]
     },
     "execution_count": 21,
     "metadata": {},
     "output_type": "execute_result"
    }
   ],
   "source": [
    "weather_hourly.shape"
   ]
  },
  {
   "cell_type": "code",
   "execution_count": 22,
   "id": "ea824810",
   "metadata": {},
   "outputs": [
    {
     "name": "stdout",
     "output_type": "stream",
     "text": [
      "<class 'pandas.core.frame.DataFrame'>\n",
      "DatetimeIndex: 8760 entries, 2017-01-01 00:00:00 to 2017-12-31 23:00:00\n",
      "Freq: H\n",
      "Data columns (total 8 columns):\n",
      " #   Column          Non-Null Count  Dtype  \n",
      "---  ------          --------------  -----  \n",
      " 0   airTemperature  8760 non-null   float64\n",
      " 1   cloudCoverage   8760 non-null   float64\n",
      " 2   dewTemperature  8760 non-null   float64\n",
      " 3   precipDepth1HR  8760 non-null   float64\n",
      " 4   precipDepth6HR  8699 non-null   float64\n",
      " 5   seaLvlPressure  8760 non-null   float64\n",
      " 6   windDirection   8760 non-null   float64\n",
      " 7   windSpeed       8760 non-null   float64\n",
      "dtypes: float64(8)\n",
      "memory usage: 615.9 KB\n"
     ]
    }
   ],
   "source": [
    "weather_hourly.info()"
   ]
  },
  {
   "cell_type": "code",
   "execution_count": 24,
   "id": "8f164036",
   "metadata": {},
   "outputs": [],
   "source": [
    "weather_hourly2 = weather_hourly[weather_hourly > -10]\n"
   ]
  },
  {
   "cell_type": "code",
   "execution_count": 25,
   "id": "8e6f9689",
   "metadata": {},
   "outputs": [],
   "source": [
    "weather_hourly3 = weather_hourly2.fillna(method='ffill')"
   ]
  },
  {
   "cell_type": "code",
   "execution_count": 26,
   "id": "7f453b3d",
   "metadata": {},
   "outputs": [],
   "source": [
    "temperature = weather_hourly3[\"airTemperature\"]"
   ]
  },
  {
   "cell_type": "code",
   "execution_count": 27,
   "id": "b1d44942",
   "metadata": {},
   "outputs": [
    {
     "data": {
      "text/plain": [
       "<Axes: xlabel='timestamp'>"
      ]
     },
     "execution_count": 27,
     "metadata": {},
     "output_type": "execute_result"
    },
    {
     "data": {
      "image/png": "[encoded data removed]",
      "text/plain": [
       "<Figure size 640x480 with 1 Axes>"
      ]
     },
     "metadata": {},
     "output_type": "display_data"
    }
   ],
   "source": [
    "temperature.plot()"
   ]
  },
  {
   "cell_type": "code",
   "execution_count": 28,
   "id": "e19b0d0a",
   "metadata": {},
   "outputs": [],
   "source": [
    "training_months = [3,4,5,6,7]\n",
    "test_months = [8,9]"
   ]
  },
  {
   "cell_type": "code",
   "execution_count": 29,
   "id": "65f1275a",
   "metadata": {},
   "outputs": [],
   "source": [
    "train = office_data[office_data.index.month.isin(training_months)]\n",
    "test = office_data[office_data.index.month.isin(test_months)]"
   ]
  },
  {
   "cell_type": "code",
   "execution_count": 30,
   "id": "60959219",
   "metadata": {},
   "outputs": [
    {
     "name": "stdout",
     "output_type": "stream",
     "text": [
      "<class 'pandas.core.frame.DataFrame'>\n",
      "DatetimeIndex: 3672 entries, 2017-03-01 00:00:00 to 2017-07-31 23:00:00\n",
      "Data columns (total 1 columns):\n",
      " #   Column                    Non-Null Count  Dtype  \n",
      "---  ------                    --------------  -----  \n",
      " 0   Panther_office_Catherine  3665 non-null   float64\n",
      "dtypes: float64(1)\n",
      "memory usage: 57.4 KB\n"
     ]
    }
   ],
   "source": [
    "train.info()"
   ]
  },
  {
   "cell_type": "code",
   "execution_count": 31,
   "id": "278ef7fd",
   "metadata": {},
   "outputs": [
    {
     "name": "stdout",
     "output_type": "stream",
     "text": [
      "<class 'pandas.core.frame.DataFrame'>\n",
      "DatetimeIndex: 1464 entries, 2017-08-01 00:00:00 to 2017-09-30 23:00:00\n",
      "Data columns (total 1 columns):\n",
      " #   Column                    Non-Null Count  Dtype  \n",
      "---  ------                    --------------  -----  \n",
      " 0   Panther_office_Catherine  1464 non-null   float64\n",
      "dtypes: float64(1)\n",
      "memory usage: 22.9 KB\n"
     ]
    }
   ],
   "source": [
    "test.info()"
   ]
  },
  {
   "cell_type": "code",
   "execution_count": 32,
   "id": "3885b26d",
   "metadata": {},
   "outputs": [],
   "source": [
    "train_features = pd.concat([pd.get_dummies(train.index.hour), \n",
    "                                     pd.get_dummies(train.index.dayofweek), \n",
    "                                     pd.DataFrame(temperature[temperature.index.month.isin(training_months)].values)], axis=1).dropna()"
   ]
  },
  {
   "cell_type": "code",
   "execution_count": 33,
   "id": "f4f263fe",
   "metadata": {},
   "outputs": [
    {
     "data": {
      "text/html": [
       "<div>\n",
       "<style scoped>\n",
       "    .dataframe tbody tr th:only-of-type {\n",
       "        vertical-align: middle;\n",
       "    }\n",
       "\n",
       "    .dataframe tbody tr th {\n",
       "        vertical-align: top;\n",
       "    }\n",
       "\n",
       "    .dataframe thead th {\n",
       "        text-align: right;\n",
       "    }\n",
       "</style>\n",
       "<table border=\"1\" class=\"dataframe\">\n",
       "  <thead>\n",
       "    <tr style=\"text-align: right;\">\n",
       "      <th></th>\n",
       "      <th>0</th>\n",
       "      <th>1</th>\n",
       "      <th>2</th>\n",
       "      <th>3</th>\n",
       "      <th>4</th>\n",
       "      <th>5</th>\n",
       "      <th>6</th>\n",
       "      <th>7</th>\n",
       "      <th>8</th>\n",
       "      <th>9</th>\n",
       "      <th>...</th>\n",
       "      <th>22</th>\n",
       "      <th>23</th>\n",
       "      <th>0</th>\n",
       "      <th>1</th>\n",
       "      <th>2</th>\n",
       "      <th>3</th>\n",
       "      <th>4</th>\n",
       "      <th>5</th>\n",
       "      <th>6</th>\n",
       "      <th>0</th>\n",
       "    </tr>\n",
       "  </thead>\n",
       "  <tbody>\n",
       "    <tr>\n",
       "      <th>0</th>\n",
       "      <td>True</td>\n",
       "      <td>False</td>\n",
       "      <td>False</td>\n",
       "      <td>False</td>\n",
       "      <td>False</td>\n",
       "      <td>False</td>\n",
       "      <td>False</td>\n",
       "      <td>False</td>\n",
       "      <td>False</td>\n",
       "      <td>False</td>\n",
       "      <td>...</td>\n",
       "      <td>False</td>\n",
       "      <td>False</td>\n",
       "      <td>False</td>\n",
       "      <td>False</td>\n",
       "      <td>True</td>\n",
       "      <td>False</td>\n",
       "      <td>False</td>\n",
       "      <td>False</td>\n",
       "      <td>False</td>\n",
       "      <td>20.6</td>\n",
       "    </tr>\n",
       "    <tr>\n",
       "      <th>1</th>\n",
       "      <td>False</td>\n",
       "      <td>True</td>\n",
       "      <td>False</td>\n",
       "      <td>False</td>\n",
       "      <td>False</td>\n",
       "      <td>False</td>\n",
       "      <td>False</td>\n",
       "      <td>False</td>\n",
       "      <td>False</td>\n",
       "      <td>False</td>\n",
       "      <td>...</td>\n",
       "      <td>False</td>\n",
       "      <td>False</td>\n",
       "      <td>False</td>\n",
       "      <td>False</td>\n",
       "      <td>True</td>\n",
       "      <td>False</td>\n",
       "      <td>False</td>\n",
       "      <td>False</td>\n",
       "      <td>False</td>\n",
       "      <td>20.0</td>\n",
       "    </tr>\n",
       "    <tr>\n",
       "      <th>2</th>\n",
       "      <td>False</td>\n",
       "      <td>False</td>\n",
       "      <td>True</td>\n",
       "      <td>False</td>\n",
       "      <td>False</td>\n",
       "      <td>False</td>\n",
       "      <td>False</td>\n",
       "      <td>False</td>\n",
       "      <td>False</td>\n",
       "      <td>False</td>\n",
       "      <td>...</td>\n",
       "      <td>False</td>\n",
       "      <td>False</td>\n",
       "      <td>False</td>\n",
       "      <td>False</td>\n",
       "      <td>True</td>\n",
       "      <td>False</td>\n",
       "      <td>False</td>\n",
       "      <td>False</td>\n",
       "      <td>False</td>\n",
       "      <td>20.0</td>\n",
       "    </tr>\n",
       "    <tr>\n",
       "      <th>3</th>\n",
       "      <td>False</td>\n",
       "      <td>False</td>\n",
       "      <td>False</td>\n",
       "      <td>True</td>\n",
       "      <td>False</td>\n",
       "      <td>False</td>\n",
       "      <td>False</td>\n",
       "      <td>False</td>\n",
       "      <td>False</td>\n",
       "      <td>False</td>\n",
       "      <td>...</td>\n",
       "      <td>False</td>\n",
       "      <td>False</td>\n",
       "      <td>False</td>\n",
       "      <td>False</td>\n",
       "      <td>True</td>\n",
       "      <td>False</td>\n",
       "      <td>False</td>\n",
       "      <td>False</td>\n",
       "      <td>False</td>\n",
       "      <td>19.4</td>\n",
       "    </tr>\n",
       "    <tr>\n",
       "      <th>4</th>\n",
       "      <td>False</td>\n",
       "      <td>False</td>\n",
       "      <td>False</td>\n",
       "      <td>False</td>\n",
       "      <td>True</td>\n",
       "      <td>False</td>\n",
       "      <td>False</td>\n",
       "      <td>False</td>\n",
       "      <td>False</td>\n",
       "      <td>False</td>\n",
       "      <td>...</td>\n",
       "      <td>False</td>\n",
       "      <td>False</td>\n",
       "      <td>False</td>\n",
       "      <td>False</td>\n",
       "      <td>True</td>\n",
       "      <td>False</td>\n",
       "      <td>False</td>\n",
       "      <td>False</td>\n",
       "      <td>False</td>\n",
       "      <td>18.9</td>\n",
       "    </tr>\n",
       "  </tbody>\n",
       "</table>\n",
       "<p>5 rows × 32 columns</p>\n",
       "</div>"
      ],
      "text/plain": [
       "      0      1      2      3      4      5      6      7      8      9   ...  \\\n",
       "0   True  False  False  False  False  False  False  False  False  False  ...   \n",
       "1  False   True  False  False  False  False  False  False  False  False  ...   \n",
       "2  False  False   True  False  False  False  False  False  False  False  ...   \n",
       "3  False  False  False   True  False  False  False  False  False  False  ...   \n",
       "4  False  False  False  False   True  False  False  False  False  False  ...   \n",
       "\n",
       "      22     23     0      1     2      3      4      5      6     0   \n",
       "0  False  False  False  False  True  False  False  False  False  20.6  \n",
       "1  False  False  False  False  True  False  False  False  False  20.0  \n",
       "2  False  False  False  False  True  False  False  False  False  20.0  \n",
       "3  False  False  False  False  True  False  False  False  False  19.4  \n",
       "4  False  False  False  False  True  False  False  False  False  18.9  \n",
       "\n",
       "[5 rows x 32 columns]"
      ]
     },
     "execution_count": 33,
     "metadata": {},
     "output_type": "execute_result"
    }
   ],
   "source": [
    "train_features.head()"
   ]
  },
  {
   "cell_type": "code",
   "execution_count": 35,
   "id": "2d4255f7",
   "metadata": {},
   "outputs": [],
   "source": [
    "train=train.fillna(method='ffill')"
   ]
  },
  {
   "cell_type": "code",
   "execution_count": 36,
   "id": "3c766d64",
   "metadata": {},
   "outputs": [],
   "source": [
    "model = KNeighborsRegressor().fit(np.array(train_features), np.array(train.values));"
   ]
  },
  {
   "cell_type": "code",
   "execution_count": 37,
   "id": "ff32e4b7",
   "metadata": {},
   "outputs": [],
   "source": [
    "test_features = np.array(pd.concat([pd.get_dummies(test.index.hour),\n",
    "                                    pd.get_dummies(test.index.dayofweek),\n",
    "                                    pd.DataFrame(temperature[temperature.index.month.isin(test_months)].values)], axis=1).dropna())"
   ]
  },
  {
   "cell_type": "code",
   "execution_count": 38,
   "id": "aa3a8539",
   "metadata": {},
   "outputs": [],
   "source": [
    "predictions = model.predict(test_features)"
   ]
  },
  {
   "cell_type": "code",
   "execution_count": 40,
   "id": "4fd91ed1",
   "metadata": {},
   "outputs": [],
   "source": [
    "predicted_vs_actual = pd.concat([test, pd.DataFrame(predictions, index=test.index)], axis=1)"
   ]
  },
  {
   "cell_type": "code",
   "execution_count": 41,
   "id": "e8273fe1",
   "metadata": {},
   "outputs": [],
   "source": [
    "predicted_vs_actual.columns = [\"Actual\", \"Predicted\"]"
   ]
  },
  {
   "cell_type": "code",
   "execution_count": 42,
   "id": "4725f633",
   "metadata": {},
   "outputs": [
    {
     "data": {
      "text/html": [
       "<div>\n",
       "<style scoped>\n",
       "    .dataframe tbody tr th:only-of-type {\n",
       "        vertical-align: middle;\n",
       "    }\n",
       "\n",
       "    .dataframe tbody tr th {\n",
       "        vertical-align: top;\n",
       "    }\n",
       "\n",
       "    .dataframe thead th {\n",
       "        text-align: right;\n",
       "    }\n",
       "</style>\n",
       "<table border=\"1\" class=\"dataframe\">\n",
       "  <thead>\n",
       "    <tr style=\"text-align: right;\">\n",
       "      <th></th>\n",
       "      <th>Actual</th>\n",
       "      <th>Predicted</th>\n",
       "    </tr>\n",
       "    <tr>\n",
       "      <th>timestamp</th>\n",
       "      <th></th>\n",
       "      <th></th>\n",
       "    </tr>\n",
       "  </thead>\n",
       "  <tbody>\n",
       "    <tr>\n",
       "      <th>2017-08-01 00:00:00</th>\n",
       "      <td>17.7634</td>\n",
       "      <td>21.06804</td>\n",
       "    </tr>\n",
       "    <tr>\n",
       "      <th>2017-08-01 01:00:00</th>\n",
       "      <td>17.7234</td>\n",
       "      <td>18.93964</td>\n",
       "    </tr>\n",
       "    <tr>\n",
       "      <th>2017-08-01 02:00:00</th>\n",
       "      <td>18.4035</td>\n",
       "      <td>20.98804</td>\n",
       "    </tr>\n",
       "    <tr>\n",
       "      <th>2017-08-01 03:00:00</th>\n",
       "      <td>17.6834</td>\n",
       "      <td>18.58760</td>\n",
       "    </tr>\n",
       "    <tr>\n",
       "      <th>2017-08-01 04:00:00</th>\n",
       "      <td>18.0835</td>\n",
       "      <td>18.78764</td>\n",
       "    </tr>\n",
       "  </tbody>\n",
       "</table>\n",
       "</div>"
      ],
      "text/plain": [
       "                      Actual  Predicted\n",
       "timestamp                              \n",
       "2017-08-01 00:00:00  17.7634   21.06804\n",
       "2017-08-01 01:00:00  17.7234   18.93964\n",
       "2017-08-01 02:00:00  18.4035   20.98804\n",
       "2017-08-01 03:00:00  17.6834   18.58760\n",
       "2017-08-01 04:00:00  18.0835   18.78764"
      ]
     },
     "execution_count": 42,
     "metadata": {},
     "output_type": "execute_result"
    }
   ],
   "source": [
    "predicted_vs_actual.head()"
   ]
  },
  {
   "cell_type": "code",
   "execution_count": 43,
   "id": "dea8fece",
   "metadata": {},
   "outputs": [
    {
     "data": {
      "text/plain": [
       "<Axes: xlabel='timestamp'>"
      ]
     },
     "execution_count": 43,
     "metadata": {},
     "output_type": "execute_result"
    },
    {
     "data": {
      "image/png": "[encoded data removed]",
      "text/plain": [
       "<Figure size 640x480 with 1 Axes>"
      ]
     },
     "metadata": {},
     "output_type": "display_data"
    }
   ],
   "source": [
    "predicted_vs_actual.plot()"
   ]
  },
  {
   "cell_type": "code",
   "execution_count": 44,
   "id": "6d2ed60a",
   "metadata": {},
   "outputs": [],
   "source": [
    "train.columns = [\"Actual\"]"
   ]
  },
  {
   "cell_type": "code",
   "execution_count": 45,
   "id": "ee92ee89",
   "metadata": {},
   "outputs": [],
   "source": [
    "predicted_vs_actual_plus_training = pd.concat([train, predicted_vs_actual], sort=True)"
   ]
  },
  {
   "cell_type": "code",
   "execution_count": 46,
   "id": "cb332d80",
   "metadata": {},
   "outputs": [
    {
     "data": {
      "text/plain": [
       "<Axes: xlabel='timestamp'>"
      ]
     },
     "execution_count": 46,
     "metadata": {},
     "output_type": "execute_result"
    },
    {
     "data": {
      "image/png": "[encoded data removed]",
      "text/plain": [
       "<Figure size 640x480 with 1 Axes>"
      ]
     },
     "metadata": {},
     "output_type": "display_data"
    }
   ],
   "source": [
    "predicted_vs_actual_plus_training.plot()"
   ]
  },
  {
   "cell_type": "code",
   "execution_count": 47,
   "id": "5303649e",
   "metadata": {},
   "outputs": [
    {
     "data": {
      "text/plain": [
       "18.516280834725503"
      ]
     },
     "execution_count": 47,
     "metadata": {},
     "output_type": "execute_result"
    }
   ],
   "source": [
    "\n",
    "errors = abs(predicted_vs_actual['Predicted'] - predicted_vs_actual['Actual'])\n",
    "E = 100 * np.mean((errors / predicted_vs_actual['Actual']))\n",
    "E"
   ]
  },
  {
   "cell_type": "code",
   "execution_count": null,
   "id": "6af00511",
   "metadata": {},
   "outputs": [],
   "source": []
  }
 ],
 "metadata": {
  "kernelspec": {
   "display_name": "Python 3 (ipykernel)",
   "language": "python",
   "name": "python3"
  },
  "language_info": {
   "codemirror_mode": {
    "name": "ipython",
    "version": 3
   },
   "file_extension": ".py",
   "mimetype": "text/x-python",
   "name": "python",
   "nbconvert_exporter": "python",
   "pygments_lexer": "ipython3",
   "version": "3.11.5"
  }
 },
 "nbformat": 4,
 "nbformat_minor": 5
}
